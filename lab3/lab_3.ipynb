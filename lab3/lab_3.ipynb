{
 "cells": [
  {
   "cell_type": "markdown",
   "metadata": {},
   "source": [
    "# Sieci neuronowe"
   ]
  },
  {
   "cell_type": "markdown",
   "metadata": {},
   "source": [
    "## Wstęp\n",
    "\n",
    "Celem laboratorium jest zapoznanie się z podstawami sieci neuronowych oraz uczeniem głębokim (*deep learning*). Zapoznasz się na nim z następującymi tematami:\n",
    "- treningiem prostych sieci neuronowych, w szczególności z:\n",
    "  - regresją liniową w sieciach neuronowych\n",
    "  - optymalizacją funkcji kosztu\n",
    "  - algorytmem spadku wzdłuż gradientu\n",
    "  - siecią typu Multilayer Perceptron (MLP)\n",
    "- frameworkiem PyTorch, w szczególności z:\n",
    "  - ładowaniem danych\n",
    "  - preprocessingiem danych\n",
    "  - pisaniem pętli treningowej i walidacyjnej\n",
    "  - walidacją modeli\n",
    "- architekturą i hiperaprametrami sieci MLP, w szczególności z:\n",
    "  - warstwami gęstymi (w pełni połączonymi)\n",
    "  - funkcjami aktywacji\n",
    "  - regularyzacją: L2, dropout"
   ]
  },
  {
   "cell_type": "markdown",
   "metadata": {},
   "source": [
    "## Wykorzystywane biblioteki\n",
    "\n",
    "Zaczniemy od pisania ręcznie prostych sieci w bibliotece Numpy, służącej do obliczeń numerycznych na CPU. Później przejdziemy do wykorzystywania frameworka PyTorch, służącego do obliczeń numerycznych na CPU, GPU oraz automatycznego różniczkowania, wykorzystywanego głównie do treningu sieci neuronowych.\n",
    "\n",
    "Wykorzystamy PyTorcha ze względu na popularność, łatwość instalacji i użycia, oraz dużą kontrolę nad niskopoziomowymi aspektami budowy i treningu sieci neuronowych. Framework ten został stworzony do zastosowań badawczych i naukowych, ale ze względu na wygodę użycia stał się bardzo popularny także w przemyśle. W szczególności całkowicie zdominował przetwarzanie języka naturalnego (NLP) oraz uczenie na grafach.\n",
    "\n",
    "Pierwszy duży framework do deep learningu, oraz obecnie najpopularniejszy, to TensorFlow, wraz z wysokopoziomową nakładką Keras. Są jednak szanse, że Google (autorzy) będzie go powoli porzucać na rzecz ich nowego frameworka JAX ([dyskusja](https://www.reddit.com/r/MachineLearning/comments/vfl57t/d_google_quietly_moving_its_products_from/), [artykuł Business Insidera](https://www.businessinsider.com/facebook-pytorch-beat-google-tensorflow-jax-meta-ai-2022-6?IR=T)), który jest bardzo świeżym, ale ciekawym narzędziem.\n",
    "\n",
    "Trzecia, ale znacznie mniej popularna od powyższych opcja to Apache MXNet."
   ]
  },
  {
   "cell_type": "markdown",
   "metadata": {},
   "source": [
    "## Konfiguracja własnego komputera\n",
    "\n",
    "Jeżeli korzystasz z własnego komputera, to musisz zainstalować trochę więcej bibliotek (Google Colab ma je już zainstalowane).\n",
    "\n",
    "Jeżeli nie masz GPU lub nie chcesz z niego korzystać, to wystarczy znaleźć odpowiednią komendę CPU [na stronie PyTorcha](https://pytorch.org/get-started/locally/). Dla Anacondy odpowiednia komenda została podana poniżej, dla pip'a znajdź ją na stronie.\n",
    "\n",
    "Jeżeli chcesz korzystać ze wsparcia GPU (na tym laboratorium nie będzie potrzebne, na kolejnych może przyspieszyć nieco obliczenia), to musi być to odpowiednio nowa karta NVidii, mająca CUDA compatibility ([lista](https://developer.nvidia.com/cuda-gpus)). Poza PyTorchem będzie potrzebne narzędzie NVidia CUDA w wersji 11.6 lub 11.7. Instalacja na Windowsie jest bardzo prosta (wystarczy ściągnąć plik EXE i zainstalować jak każdy inny program). Instalacja na Linuxie jest trudna i można względnie łatwo zepsuć sobie system, ale jeżeli chcesz spróbować, to [ten tutorial](https://www.youtube.com/results?search_query=nvidia+cuda+install+ubuntu+20.04) jest bardzo dobry."
   ]
  },
  {
   "cell_type": "markdown",
   "metadata": {
    "id": "Othm3C2lLAsj"
   },
   "source": [
    "## Wprowadzenie\n",
    "\n",
    "Zanim zaczniemy naszą przygodę z sieciami neuronowymi, przyjrzyjmy się prostemu przykładowi regresji liniowej na syntetycznych danych:"
   ]
  },
  {
   "cell_type": "code",
   "execution_count": 1,
   "metadata": {
    "execution": {
     "iopub.execute_input": "2024-11-20T17:50:08.181203Z",
     "iopub.status.busy": "2024-11-20T17:50:08.180364Z",
     "iopub.status.idle": "2024-11-20T17:50:08.552370Z",
     "shell.execute_reply": "2024-11-20T17:50:08.551828Z",
     "shell.execute_reply.started": "2024-11-20T17:50:08.181166Z"
    },
    "id": "rnJsfxbnLAsj"
   },
   "outputs": [],
   "source": [
    "from typing import Tuple, Dict\n",
    "\n",
    "import numpy as np\n",
    "import matplotlib.pyplot as plt"
   ]
  },
  {
   "cell_type": "code",
   "execution_count": 2,
   "metadata": {
    "colab": {
     "base_uri": "https://localhost:8080/",
     "height": 282
    },
    "execution": {
     "iopub.execute_input": "2024-11-20T17:50:08.553161Z",
     "iopub.status.busy": "2024-11-20T17:50:08.552909Z",
     "iopub.status.idle": "2024-11-20T17:50:08.624939Z",
     "shell.execute_reply": "2024-11-20T17:50:08.624622Z",
     "shell.execute_reply.started": "2024-11-20T17:50:08.553149Z"
    },
    "id": "EaYpEXzBLAsl",
    "outputId": "2f8d2922-72f0-4d38-8548-d1262adf522e"
   },
   "outputs": [
    {
     "data": {
      "text/plain": [
       "<matplotlib.collections.PathCollection at 0x777cdeb173b0>"
      ]
     },
     "execution_count": 2,
     "metadata": {},
     "output_type": "execute_result"
    },
    {
     "data": {
      "image/png": "[encoded data removed]",
      "text/plain": [
       "<Figure size 640x480 with 1 Axes>"
      ]
     },
     "metadata": {},
     "output_type": "display_data"
    }
   ],
   "source": [
    "np.random.seed(0)\n",
    "\n",
    "x = np.linspace(0, 1, 100)\n",
    "y = x + np.random.normal(scale=0.1, size=x.shape)\n",
    "\n",
    "plt.scatter(x, y)"
   ]
  },
  {
   "cell_type": "markdown",
   "metadata": {
    "editable": true,
    "id": "PEM_-yKELAsl",
    "slideshow": {
     "slide_type": ""
    },
    "tags": []
   },
   "source": [
    "W przeciwieństwie do laboratorium 1, tym razem będziemy chcieli rozwiązać ten problem własnoręcznie, bez użycia wysokopoziomowego interfejsu Scikit-learn'a. W tym celu musimy sobie przypomnieć sformułowanie naszego **problemu optymalizacyjnego (optimization problem)**.\n",
    "\n",
    "W przypadku prostej regresji liniowej (1 zmienna) mamy model postaci $\\hat{y} = \\alpha x + \\beta$, z dwoma parametrami, których będziemy się uczyć. Miarą niedopasowania modelu o danych parametrach jest **funkcja kosztu (cost function)**, nazywana też funkcją celu. Najczęściej używa się **błędu średniokwadratowego (mean squared error, MSE)**:\n",
    "$$\\large\n",
    "MSE = \\frac{1}{N} \\sum_{i}^{N} (y - \\hat{y})^2\n",
    "$$\n",
    "\n",
    "Od jakich $\\alpha$ i $\\beta$ zacząć? W najprostszym wypadku wystarczy po prostu je wylosować jako niewielkie liczby zmiennoprzecinkowe."
   ]
  },
  {
   "cell_type": "markdown",
   "metadata": {
    "editable": true,
    "id": "PEM_-yKELAsl",
    "slideshow": {
     "slide_type": ""
    },
    "tags": [
     "ex"
    ]
   },
   "source": [
    "### Zadanie 1 (0.5 punkt)\n",
    "\n",
    "Uzupełnij kod funkcji `mse`, obliczającej błąd średniokwadratowy. Wykorzystaj Numpy'a w celu wektoryzacji obliczeń dla wydajności."
   ]
  },
  {
   "cell_type": "code",
   "execution_count": 3,
   "metadata": {
    "colab": {
     "base_uri": "https://localhost:8080/"
    },
    "editable": true,
    "execution": {
     "iopub.execute_input": "2024-11-20T17:50:08.625415Z",
     "iopub.status.busy": "2024-11-20T17:50:08.625276Z",
     "iopub.status.idle": "2024-11-20T17:50:08.627447Z",
     "shell.execute_reply": "2024-11-20T17:50:08.627171Z",
     "shell.execute_reply.started": "2024-11-20T17:50:08.625406Z"
    },
    "id": "RaA7Q46TLAsm",
    "outputId": "5c57fe58-1934-4d21-9a7b-d14e9a23140b",
    "slideshow": {
     "slide_type": ""
    },
    "tags": [
     "ex"
    ]
   },
   "outputs": [],
   "source": [
    "def mse(y: np.ndarray, y_hat: np.ndarray) -> float:\n",
    "    return np.mean((y - y_hat) ** 2)"
   ]
  },
  {
   "cell_type": "code",
   "execution_count": 4,
   "metadata": {
    "colab": {
     "base_uri": "https://localhost:8080/",
     "height": 282
    },
    "editable": true,
    "execution": {
     "iopub.execute_input": "2024-11-20T17:50:08.628262Z",
     "iopub.status.busy": "2024-11-20T17:50:08.628107Z",
     "iopub.status.idle": "2024-11-20T17:50:08.689475Z",
     "shell.execute_reply": "2024-11-20T17:50:08.688843Z",
     "shell.execute_reply.started": "2024-11-20T17:50:08.628251Z"
    },
    "id": "qSGfamGbLAsm",
    "outputId": "733ce15f-ae75-466b-e7ee-eb3c9d9d534c",
    "slideshow": {
     "slide_type": ""
    },
    "tags": [
     "ex"
    ]
   },
   "outputs": [
    {
     "name": "stdout",
     "output_type": "stream",
     "text": [
      "MSE: 0.133\n"
     ]
    },
    {
     "data": {
      "text/plain": [
       "[<matplotlib.lines.Line2D at 0x777cdcd745f0>]"
      ]
     },
     "execution_count": 4,
     "metadata": {},
     "output_type": "execute_result"
    },
    {
     "data": {
      "image/png": "[encoded data removed]",
      "text/plain": [
       "<Figure size 640x480 with 1 Axes>"
      ]
     },
     "metadata": {},
     "output_type": "display_data"
    }
   ],
   "source": [
    "a = np.random.rand()\n",
    "b = np.random.rand()\n",
    "print(f\"MSE: {mse(y, a * x + b):.3f}\")\n",
    "\n",
    "plt.scatter(x, y)\n",
    "plt.plot(x, a * x + b, color=\"g\", linewidth=4)"
   ]
  },
  {
   "cell_type": "markdown",
   "metadata": {
    "id": "Y--E9Mp9LAsn"
   },
   "source": [
    "Losowe parametry radzą sobie nie najlepiej. Jak lepiej dopasować naszą prostą do danych? Zawsze możemy starać się wyprowadzić rozwiązanie analitycznie, i w tym wypadku nawet nam się uda. Jest to jednak szczególny i dość rzadki przypadek, a w szczególności nie będzie to możliwe w większych sieciach neuronowych.\n",
    "\n",
    "Potrzebna nam będzie **metoda optymalizacji (optimization method)**, dającą wartości parametrów minimalizujące dowolną różniczkowalną funkcję kosztu. Zdecydowanie najpopularniejszy jest tutaj **spadek wzdłuż gradientu (gradient descent)**.\n",
    "\n",
    "Metoda ta wywodzi się z prostych obserwacji, które tutaj przedstawimy. Bardziej szczegółowe rozwinięcie dla zainteresowanych: [sekcja 4.3 \"Deep Learning Book\"](https://www.deeplearningbook.org/contents/numerical.html), [ten praktyczny kurs](https://cs231n.github.io/optimization-1/), [analiza oryginalnej publikacji Cauchy'ego](https://www.math.uni-bielefeld.de/documenta/vol-ismp/40_lemarechal-claude.pdf) (oryginał w języku francuskim).\n",
    "\n",
    "Pochodna jest dokładnie równa granicy funkcji. Dla małego $\\epsilon$ można ją przybliżyć jako:\n",
    "$$\\large\n",
    "\\frac{f(x)}{dx} \\approx \\frac{f(x+\\epsilon) - f(x)}{\\epsilon}\n",
    "$$\n",
    "\n",
    "Przyglądając się temu równaniu widzimy, że: \n",
    "* dla funkcji rosnącej ($f(x+\\epsilon) > f(x)$) wyrażenie $\\frac{f(x)}{dx}$ będzie miało znak dodatni \n",
    "* dla funkcji malejącej ($f(x+\\epsilon) < f(x)$) wyrażenie $\\frac{f(x)}{dx}$ będzie miało znak ujemny \n",
    "\n",
    "Widzimy więc, że potrafimy wskazać kierunek zmniejszenia wartości funkcji, patrząc na znak pochodnej. Zaobserwowano także, że amplituda wartości w $\\frac{f(x)}{dx}$ jest tym większa, im dalej jesteśmy od minimum (maximum). Pochodna wyznacza więc, w jakim kierunku funkcja najszybciej rośnie, zaś przeciwny zwrot to ten, w którym funkcja najszybciej spada.\n",
    "\n",
    "Stosując powyższe do optymalizacji, mamy:\n",
    "$$\\large\n",
    "x_{t+1} = x_{t} -  \\alpha * \\frac{f(x)}{dx}\n",
    "$$\n",
    "\n",
    "$\\alpha$ to niewielka wartość (rzędu zwykle $10^{-5}$ - $10^{-2}$), wprowadzona, aby trzymać się założenia o małej zmianie parametrów ($\\epsilon$). Nazywa się ją **stałą uczącą (learning rate)** i jest zwykle najważniejszym hiperparametrem podczas nauki sieci.\n",
    "\n",
    "Metoda ta zakłada, że używamy całego zbioru danych do aktualizacji parametrów w każdym kroku, co nazywa się po prostu GD (od *gradient descent*) albo *full batch GD*. Wtedy każdy krok optymalizacji nazywa się **epoką (epoch)**.\n",
    "\n",
    "Im większa stała ucząca, tym większe nasze kroki podczas minimalizacji. Możemy więc uczyć szybciej, ale istnieje ryzyko, że będziemy \"przeskakiwać\" minima. Mniejsza stała ucząca to wolniejszy, ale dokładniejszy trening. Jednak nie zawsze ona pozwala osiągnąć lepsze wyniki, bo może okazać się, że utkniemy w minimum lokalnym. Można także zmieniać stałą uczącą podczas treningu, co nazywa się **learning rate scheduling (LR scheduling)**. Obrazowo:\n",
    "\n",
    "![learning_rate](http://www.bdhammel.com/assets/learning-rate/lr-types.png)"
   ]
  },
  {
   "cell_type": "markdown",
   "metadata": {
    "id": "496qEjkVLAso"
   },
   "source": [
    "![interactive LR](http://cdn-images-1.medium.com/max/640/1*eeIvlwkMNG1wSmj3FR6M2g.gif)"
   ]
  },
  {
   "cell_type": "markdown",
   "metadata": {
    "id": "RYkyAHKzLAsp"
   },
   "source": [
    "Policzmy więc pochodną dla naszej funkcji kosztu MSE. Pochodną liczymy po parametrach naszego modelu, bo to właśnie ich chcemy dopasować tak, żeby koszt był jak najmniejszy:\n",
    "\n",
    "$$\\large\n",
    "MSE = \\frac{1}{N} \\sum_{i}^{N} (y_i - \\hat{y_i})^2\n",
    "$$\n",
    "\n",
    "W powyższym wzorze tylko $y_i$ jest zależny od $a$ oraz $b$. Możemy wykorzystać tu regułę łańcuchową (*chain rule*) i policzyć pochodne po naszych parametrach w sposób następujący:\n",
    "\n",
    "$$\\large\n",
    "\\frac{\\text{d} MSE}{\\text{d} a} = \\frac{1}{N} \\sum_{i}^{N} \\frac{\\text{d} (y_i - \\hat{y_i})^2}{\\text{d} \\hat{y_i}} \\frac{\\text{d} \\hat{y_i}}{\\text{d} a}\n",
    "$$\n",
    "\n",
    "$$\\large\n",
    "\\frac{\\text{d} MSE}{\\text{d} b} = \\frac{1}{N} \\sum_{i}^{N} \\frac{\\text{d} (y_i - \\hat{y_i})^2}{\\text{d} \\hat{y_i}} \\frac{\\text{d} \\hat{y_i}}{\\text{d} b}\n",
    "$$\n",
    "\n",
    "Policzmy te pochodne po kolei:\n",
    "\n",
    "$$\\large\n",
    "\\frac{\\text{d} (y_i - \\hat{y_i})^2}{\\text{d} \\hat{y_i}} = -2 \\cdot (y_i - \\hat{y_i})\n",
    "$$\n",
    "\n",
    "$$\\large\n",
    "\\frac{\\text{d} \\hat{y_i}}{\\text{d} a} = x_i\n",
    "$$\n",
    "\n",
    "$$\\large\n",
    "\\frac{\\text{d} \\hat{y_i}}{\\text{d} b} = 1\n",
    "$$\n",
    "\n",
    "Łącząc powyższe wyniki dostaniemy:\n",
    "\n",
    "$$\\large\n",
    "\\frac{\\text{d} MSE}{\\text{d} a} = \\frac{-2}{N} \\sum_{i}^{N} (y_i - \\hat{y_i}) \\cdot {x_i}\n",
    "$$\n",
    "\n",
    "$$\\large\n",
    "\\frac{\\text{d} MSE}{\\text{d} b} = \\frac{-2}{N} \\sum_{i}^{N} (y_i - \\hat{y_i})\n",
    "$$\n",
    "\n",
    "Aktualizacja parametrów wygląda tak:\n",
    "\n",
    "$$\\large\n",
    "a' = a - \\alpha * \\left( \\frac{-2}{N} \\sum_{i=1}^N (y_i - \\hat{y}_i) \\cdot x_i \\right)\n",
    "$$\n",
    "$$\\large\n",
    "b' = b - \\alpha * \\left( \\frac{-2}{N} \\sum_{i=1}^N (y_i - \\hat{y}_i) \\right)\n",
    "$$\n",
    "\n",
    "Liczymy więc pochodną funkcji kosztu, a potem za pomocą reguły łańcuchowej \"cofamy się\", dochodząc do tego, jak każdy z parametrów wpływa na błąd i w jaki sposób powinniśmy go zmienić. Nazywa się to **propagacją wsteczną (backpropagation)** i jest podstawowym mechanizmem umożliwiającym naukę sieci neuronowych za pomocą spadku wzdłuż gradientu. Więcej możesz o tym przeczytać [tutaj](https://cs231n.github.io/optimization-2/)."
   ]
  },
  {
   "cell_type": "markdown",
   "metadata": {
    "editable": true,
    "slideshow": {
     "slide_type": ""
    },
    "tags": [
     "ex"
    ]
   },
   "source": [
    "### Zadanie 2 (1.0 punkt)\n",
    "\n",
    "Zaimplementuj funkcję realizującą jedną epokę treningową. Zauważ, że `x` oraz `y` są wektorami. Oblicz predykcję przy aktualnych parametrach oraz zaktualizuj je zgodnie z powyższymi wzorami."
   ]
  },
  {
   "cell_type": "code",
   "execution_count": 5,
   "metadata": {
    "colab": {
     "base_uri": "https://localhost:8080/"
    },
    "editable": true,
    "execution": {
     "iopub.execute_input": "2024-11-20T17:50:08.690359Z",
     "iopub.status.busy": "2024-11-20T17:50:08.690064Z",
     "iopub.status.idle": "2024-11-20T17:50:08.693646Z",
     "shell.execute_reply": "2024-11-20T17:50:08.693153Z",
     "shell.execute_reply.started": "2024-11-20T17:50:08.690342Z"
    },
    "id": "4qbdWOSULAsp",
    "outputId": "055607ae-87aa-470a-e6da-25682c82d470",
    "slideshow": {
     "slide_type": ""
    },
    "tags": [
     "ex"
    ]
   },
   "outputs": [],
   "source": [
    "def optimize(\n",
    "    x: np.ndarray, y: np.ndarray, a: float, b: float, learning_rate: float = 0.1\n",
    "):\n",
    "    y_hat = a * x + b\n",
    "    errors = y - y_hat\n",
    "    a -= learning_rate * -2 * np.mean(errors * x)\n",
    "    b -= learning_rate * -2 * np.mean(errors)\n",
    "    return a, b\n",
    "\n"
   ]
  },
  {
   "cell_type": "code",
   "execution_count": 6,
   "metadata": {
    "editable": true,
    "execution": {
     "iopub.execute_input": "2024-11-20T17:50:08.694267Z",
     "iopub.status.busy": "2024-11-20T17:50:08.694142Z",
     "iopub.status.idle": "2024-11-20T17:50:08.708132Z",
     "shell.execute_reply": "2024-11-20T17:50:08.707805Z",
     "shell.execute_reply.started": "2024-11-20T17:50:08.694257Z"
    },
    "slideshow": {
     "slide_type": ""
    },
    "tags": [
     "ex"
    ]
   },
   "outputs": [
    {
     "name": "stdout",
     "output_type": "stream",
     "text": [
      "step 0 loss:  0.1330225119404028\n",
      "step 100 loss:  0.012673197778527677\n",
      "step 200 loss:  0.010257153540857817\n",
      "step 300 loss:  0.0100948037549359\n",
      "step 400 loss:  0.010083894412889118\n",
      "step 500 loss:  0.010083161342973332\n",
      "step 600 loss:  0.010083112083219709\n",
      "step 700 loss:  0.010083108773135261\n",
      "step 800 loss:  0.010083108550709076\n",
      "step 900 loss:  0.01008310853576281\n",
      "final loss: 0.010083108534760455\n"
     ]
    }
   ],
   "source": [
    "for i in range(1000):\n",
    "    loss = mse(y, a * x + b)\n",
    "    a, b = optimize(x, y, a, b)\n",
    "    if i % 100 == 0:\n",
    "        print(f\"step {i} loss: \", loss)\n",
    "\n",
    "print(\"final loss:\", loss)"
   ]
  },
  {
   "cell_type": "code",
   "execution_count": 7,
   "metadata": {
    "execution": {
     "iopub.execute_input": "2024-11-20T17:50:08.708597Z",
     "iopub.status.busy": "2024-11-20T17:50:08.708495Z",
     "iopub.status.idle": "2024-11-20T17:50:08.710897Z",
     "shell.execute_reply": "2024-11-20T17:50:08.710376Z",
     "shell.execute_reply.started": "2024-11-20T17:50:08.708588Z"
    },
    "tags": [
     "ex"
    ]
   },
   "outputs": [
    {
     "name": "stdout",
     "output_type": "stream",
     "text": [
      "Solution is correct!\n"
     ]
    }
   ],
   "source": [
    "assert 0.0 < loss < 2.0\n",
    "\n",
    "print(\"Solution is correct!\")"
   ]
  },
  {
   "cell_type": "code",
   "execution_count": 8,
   "metadata": {
    "colab": {
     "base_uri": "https://localhost:8080/",
     "height": 282
    },
    "editable": true,
    "execution": {
     "iopub.execute_input": "2024-11-20T17:50:08.711889Z",
     "iopub.status.busy": "2024-11-20T17:50:08.711421Z",
     "iopub.status.idle": "2024-11-20T17:50:08.771411Z",
     "shell.execute_reply": "2024-11-20T17:50:08.771016Z",
     "shell.execute_reply.started": "2024-11-20T17:50:08.711867Z"
    },
    "id": "xOgRcPC1LAsq",
    "outputId": "85b0b3e4-aa0d-467a-d8ff-5f01be17b243",
    "slideshow": {
     "slide_type": ""
    },
    "tags": [
     "ex"
    ]
   },
   "outputs": [
    {
     "data": {
      "text/plain": [
       "[<matplotlib.lines.Line2D at 0x777cdcdd24b0>]"
      ]
     },
     "execution_count": 8,
     "metadata": {},
     "output_type": "execute_result"
    },
    {
     "data": {
      "image/png": "[encoded data removed]",
      "text/plain": [
       "<Figure size 640x480 with 1 Axes>"
      ]
     },
     "metadata": {},
     "output_type": "display_data"
    }
   ],
   "source": [
    "plt.scatter(x, y)\n",
    "plt.plot(x, a * x + b, color=\"g\", linewidth=4)"
   ]
  },
  {
   "cell_type": "markdown",
   "metadata": {
    "id": "vOr2fWYpLAsq"
   },
   "source": [
    "Udało ci się wytrenować swoją pierwszą sieć neuronową. Czemu? Otóż neuron to po prostu wektor parametrów, a zwykle robimy iloczyn skalarny tych parametrów z wejściem. Dodatkowo na wyjście nakłada się **funkcję aktywacji (activation function)**, która przekształca wyjście. Tutaj takiej nie było, a właściwie była to po prostu funkcja identyczności.\n",
    "\n",
    "Oczywiście w praktyce korzystamy z odpowiedniego frameworka, który w szczególności:\n",
    "- ułatwia budowanie sieci, np. ma gotowe klasy dla warstw neuronów\n",
    "- ma zaimplementowane funkcje kosztu oraz ich pochodne\n",
    "- sam różniczkuje ze względu na odpowiednie parametry i aktualizuje je odpowiednio podczas treningu\n"
   ]
  },
  {
   "cell_type": "markdown",
   "metadata": {
    "id": "NJBYJabuLAsr"
   },
   "source": [
    "## Wprowadzenie do PyTorcha"
   ]
  },
  {
   "cell_type": "markdown",
   "metadata": {
    "id": "EB-99XqhLAsr"
   },
   "source": [
    "PyTorch to w gruncie rzeczy narzędzie do algebry liniowej z [automatycznym rożniczkowaniem](https://pytorch.org/tutorials/beginner/blitz/autograd_tutorial.html), z możliwością przyspieszenia obliczeń z pomocą GPU. Na tych fundamentach zbudowany jest pełny framework do uczenia głębokiego. Można spotkać się ze stwierdzenie, że PyTorch to NumPy + GPU + opcjonalne różniczkowanie, co jest całkiem celne. Plus można łatwo debugować printem :)\n",
    "\n",
    "PyTorch używa dynamicznego grafu obliczeń, który sami definiujemy w kodzie. Takie podejście jest bardzo wygodne, elastyczne i pozwala na łatwe eksperymentowanie. Odbywa się to potencjalnie kosztem wydajności, ponieważ pozostawia kwestię optymalizacji programiście. Więcej na ten temat dla zainteresowanych na końcu laboratorium.\n",
    "\n",
    "Samo API PyTorcha bardzo przypomina Numpy'a, a podstawowym obiektem jest `Tensor`, klasa reprezentująca tensory dowolnego wymiaru. Dodatkowo niektóre tensory będą miały automatycznie obliczony gradient. Co ważne, tensor jest na pewnym urządzeniu, CPU lub GPU, a przenosić między nimi trzeba explicite.\n",
    "\n",
    "Najważniejsze moduły:\n",
    "- `torch` - podstawowe klasy oraz funkcje, np. `Tensor`, `from_numpy()`\n",
    "- `torch.nn` - klasy związane z sieciami neuronowymi, np. `Linear`, `Sigmoid`\n",
    "- `torch.optim` - wszystko związane z optymalizacją, głównie spadkiem wzdłuż gradientu"
   ]
  },
  {
   "cell_type": "code",
   "execution_count": 9,
   "metadata": {
    "execution": {
     "iopub.execute_input": "2024-11-20T17:50:08.771753Z",
     "iopub.status.busy": "2024-11-20T17:50:08.771660Z",
     "iopub.status.idle": "2024-11-20T17:50:09.614923Z",
     "shell.execute_reply": "2024-11-20T17:50:09.614505Z",
     "shell.execute_reply.started": "2024-11-20T17:50:08.771745Z"
    },
    "id": "FwuIt8S-LAss"
   },
   "outputs": [],
   "source": [
    "import torch\n",
    "import torch.nn as nn\n",
    "import torch.optim as optim"
   ]
  },
  {
   "cell_type": "code",
   "execution_count": 10,
   "metadata": {
    "colab": {
     "base_uri": "https://localhost:8080/"
    },
    "editable": true,
    "execution": {
     "iopub.execute_input": "2024-11-20T17:50:09.616080Z",
     "iopub.status.busy": "2024-11-20T17:50:09.615934Z",
     "iopub.status.idle": "2024-11-20T17:50:09.621040Z",
     "shell.execute_reply": "2024-11-20T17:50:09.620632Z",
     "shell.execute_reply.started": "2024-11-20T17:50:09.616070Z"
    },
    "id": "bfCiUFXULAss",
    "outputId": "83f6231d-ecc4-461a-b758-fdc4bc2a88a4",
    "slideshow": {
     "slide_type": ""
    },
    "tags": []
   },
   "outputs": [
    {
     "name": "stdout",
     "output_type": "stream",
     "text": [
      "tensor([1.1096, 1.6134, 1.7666, 1.9121, 1.1956, 1.5525, 1.2863, 1.6295, 1.6087,\n",
      "        1.3187])\n",
      "tensor([0.1096, 0.6134, 0.7666, 0.9121, 0.1956, 0.5525, 0.2863, 0.6295, 0.6087,\n",
      "        0.3187])\n",
      "tensor(4.9930)\n"
     ]
    }
   ],
   "source": [
    "ones = torch.ones(10)\n",
    "noise = torch.ones(10) * torch.rand(10)\n",
    "\n",
    "# elementwise sum\n",
    "print(ones + noise)\n",
    "\n",
    "# elementwise multiplication\n",
    "print(ones * noise)\n",
    "\n",
    "# dot product\n",
    "print(ones @ noise)"
   ]
  },
  {
   "cell_type": "code",
   "execution_count": 11,
   "metadata": {
    "editable": true,
    "execution": {
     "iopub.execute_input": "2024-11-20T17:50:09.621516Z",
     "iopub.status.busy": "2024-11-20T17:50:09.621411Z",
     "iopub.status.idle": "2024-11-20T17:50:09.623919Z",
     "shell.execute_reply": "2024-11-20T17:50:09.623623Z",
     "shell.execute_reply.started": "2024-11-20T17:50:09.621507Z"
    },
    "slideshow": {
     "slide_type": ""
    },
    "tags": []
   },
   "outputs": [
    {
     "data": {
      "text/plain": [
       "numpy.ndarray"
      ]
     },
     "execution_count": 11,
     "metadata": {},
     "output_type": "execute_result"
    }
   ],
   "source": [
    "type(x)"
   ]
  },
  {
   "cell_type": "code",
   "execution_count": 12,
   "metadata": {
    "editable": true,
    "execution": {
     "iopub.execute_input": "2024-11-20T17:50:09.624341Z",
     "iopub.status.busy": "2024-11-20T17:50:09.624236Z",
     "iopub.status.idle": "2024-11-20T17:50:09.626435Z",
     "shell.execute_reply": "2024-11-20T17:50:09.625957Z",
     "shell.execute_reply.started": "2024-11-20T17:50:09.624332Z"
    },
    "id": "ynNd_kD0LAst",
    "slideshow": {
     "slide_type": ""
    },
    "tags": []
   },
   "outputs": [],
   "source": [
    "# beware - shares memory with original Numpy array!\n",
    "# very fast, but modifications are visible to original variable\n",
    "x = torch.from_numpy(x)\n",
    "y = torch.from_numpy(y)"
   ]
  },
  {
   "cell_type": "markdown",
   "metadata": {
    "editable": true,
    "id": "W9kkxczELAsu",
    "slideshow": {
     "slide_type": ""
    },
    "tags": []
   },
   "source": [
    "Jeżeli dla stworzonych przez nas tensorów chcemy śledzić operacje i obliczać gradient, to musimy oznaczyć `requires_grad=True`."
   ]
  },
  {
   "cell_type": "code",
   "execution_count": 13,
   "metadata": {
    "colab": {
     "base_uri": "https://localhost:8080/"
    },
    "editable": true,
    "execution": {
     "iopub.execute_input": "2024-11-20T17:50:09.627103Z",
     "iopub.status.busy": "2024-11-20T17:50:09.626888Z",
     "iopub.status.idle": "2024-11-20T17:50:09.630463Z",
     "shell.execute_reply": "2024-11-20T17:50:09.630215Z",
     "shell.execute_reply.started": "2024-11-20T17:50:09.627093Z"
    },
    "id": "8HtZL-KfLAsu",
    "outputId": "47c6d930-5678-452a-95bc-227935138b40",
    "slideshow": {
     "slide_type": ""
    },
    "tags": []
   },
   "outputs": [
    {
     "data": {
      "text/plain": [
       "(tensor([0.3623], requires_grad=True), tensor([0.5499], requires_grad=True))"
      ]
     },
     "execution_count": 13,
     "metadata": {},
     "output_type": "execute_result"
    }
   ],
   "source": [
    "a = torch.rand(1, requires_grad=True)\n",
    "b = torch.rand(1, requires_grad=True)\n",
    "a, b"
   ]
  },
  {
   "cell_type": "markdown",
   "metadata": {
    "editable": true,
    "id": "Nl1guWZ_LAsv",
    "slideshow": {
     "slide_type": ""
    },
    "tags": []
   },
   "source": [
    "PyTorch zawiera większość powszechnie używanych funkcji kosztu, np. MSE. Mogą być one używane na 2 sposoby, z czego pierwszy jest popularniejszy:\n",
    "- jako klasy wywoływalne z modułu `torch.nn`\n",
    "- jako funkcje z modułu `torch.nn.functional`\n",
    "\n",
    "Po wykonaniu poniższego kodu widzimy, że zwraca on nam tensor z dodatkowymi atrybutami. Co ważne, jest to skalar (0-wymiarowy tensor), bo potrzebujemy zwyczajnej liczby do obliczania propagacji wstecznych (pochodnych czątkowych)."
   ]
  },
  {
   "cell_type": "code",
   "execution_count": 14,
   "metadata": {
    "editable": true,
    "execution": {
     "iopub.execute_input": "2024-11-20T17:50:09.630917Z",
     "iopub.status.busy": "2024-11-20T17:50:09.630815Z",
     "iopub.status.idle": "2024-11-20T17:50:09.634055Z",
     "shell.execute_reply": "2024-11-20T17:50:09.633697Z",
     "shell.execute_reply.started": "2024-11-20T17:50:09.630909Z"
    },
    "slideshow": {
     "slide_type": ""
    },
    "tags": []
   },
   "outputs": [
    {
     "data": {
      "text/plain": [
       "tensor(0.0922, dtype=torch.float64, grad_fn=<MseLossBackward0>)"
      ]
     },
     "execution_count": 14,
     "metadata": {},
     "output_type": "execute_result"
    }
   ],
   "source": [
    "mse = nn.MSELoss()\n",
    "mse(y, a * x + b)"
   ]
  },
  {
   "cell_type": "markdown",
   "metadata": {
    "editable": true,
    "id": "vS35r49nLAsw",
    "slideshow": {
     "slide_type": ""
    },
    "tags": []
   },
   "source": [
    "Atrybutu `grad_fn` nie używamy wprost, bo korzysta z niego w środku PyTorch, ale widać, że tensor jest \"świadomy\", że liczy się na nim pochodną. Możemy natomiast skorzystać z atrybutu `grad`, który zawiera faktyczny gradient. Zanim go jednak dostaniemy, to trzeba powiedzieć PyTorchowi, żeby policzył gradient. Służy do tego metoda `.backward()`, wywoływana na obiekcie zwracanym przez funkcję kosztu."
   ]
  },
  {
   "cell_type": "code",
   "execution_count": 15,
   "metadata": {
    "editable": true,
    "execution": {
     "iopub.execute_input": "2024-11-20T17:50:09.634547Z",
     "iopub.status.busy": "2024-11-20T17:50:09.634440Z",
     "iopub.status.idle": "2024-11-20T17:50:09.649713Z",
     "shell.execute_reply": "2024-11-20T17:50:09.649281Z",
     "shell.execute_reply.started": "2024-11-20T17:50:09.634538Z"
    },
    "id": "Qb7l6Xg1LAsx",
    "slideshow": {
     "slide_type": ""
    },
    "tags": []
   },
   "outputs": [],
   "source": [
    "loss = mse(y, a * x + b)\n",
    "loss.backward()"
   ]
  },
  {
   "cell_type": "code",
   "execution_count": 16,
   "metadata": {
    "colab": {
     "base_uri": "https://localhost:8080/"
    },
    "editable": true,
    "execution": {
     "iopub.execute_input": "2024-11-20T17:50:09.650230Z",
     "iopub.status.busy": "2024-11-20T17:50:09.650114Z",
     "iopub.status.idle": "2024-11-20T17:50:09.653320Z",
     "shell.execute_reply": "2024-11-20T17:50:09.652766Z",
     "shell.execute_reply.started": "2024-11-20T17:50:09.650221Z"
    },
    "id": "6LfQbLVoLAsx",
    "outputId": "d5b87fb7-d284-423c-f467-b677384b2f67",
    "slideshow": {
     "slide_type": ""
    },
    "tags": []
   },
   "outputs": [
    {
     "name": "stdout",
     "output_type": "stream",
     "text": [
      "tensor([0.1217])\n"
     ]
    }
   ],
   "source": [
    "print(a.grad)"
   ]
  },
  {
   "cell_type": "markdown",
   "metadata": {
    "editable": true,
    "id": "Kdf1iweELAsy",
    "slideshow": {
     "slide_type": ""
    },
    "tags": []
   },
   "source": [
    "Ważne jest, że PyTorch nie liczy za każdym razem nowego gradientu, tylko dodaje go do istniejącego, czyli go akumuluje. Jest to przydatne w niektórych sieciach neuronowych, ale zazwyczaj trzeba go zerować. Jeżeli tego nie zrobimy, to dostaniemy coraz większe gradienty.\n",
    "\n",
    "Do zerowania służy metoda `.zero_()`. W PyTorchu wszystkie metody modyfikujące tensor w miejscu mają `_` na końcu nazwy. Jest to dość niskopoziomowa operacja dla pojedynczych tensorów - zobaczymy za chwilę, jak to robić łatwiej dla całej sieci."
   ]
  },
  {
   "cell_type": "code",
   "execution_count": 17,
   "metadata": {
    "colab": {
     "base_uri": "https://localhost:8080/"
    },
    "editable": true,
    "execution": {
     "iopub.execute_input": "2024-11-20T17:50:09.654005Z",
     "iopub.status.busy": "2024-11-20T17:50:09.653856Z",
     "iopub.status.idle": "2024-11-20T17:50:09.658276Z",
     "shell.execute_reply": "2024-11-20T17:50:09.657863Z",
     "shell.execute_reply.started": "2024-11-20T17:50:09.653993Z"
    },
    "id": "DiCQZKJsLAsy",
    "outputId": "2f779622-480d-43fc-b9d0-a0e36ff4b28b",
    "slideshow": {
     "slide_type": ""
    },
    "tags": []
   },
   "outputs": [
    {
     "data": {
      "text/plain": [
       "tensor([0.2434])"
      ]
     },
     "execution_count": 17,
     "metadata": {},
     "output_type": "execute_result"
    }
   ],
   "source": [
    "loss = mse(y, a * x + b)\n",
    "loss.backward()\n",
    "a.grad"
   ]
  },
  {
   "cell_type": "markdown",
   "metadata": {
    "editable": true,
    "id": "xNC3Ag8uLAsz",
    "slideshow": {
     "slide_type": ""
    },
    "tags": []
   },
   "source": [
    "Zobaczmy, jak wyglądałaby regresja liniowa, ale napisana w PyTorchu. Jest to oczywiście bardzo niskopoziomowa implementacja - za chwilę zobaczymy, jak to wygląda w praktyce."
   ]
  },
  {
   "cell_type": "code",
   "execution_count": 18,
   "metadata": {
    "colab": {
     "base_uri": "https://localhost:8080/"
    },
    "editable": true,
    "execution": {
     "iopub.execute_input": "2024-11-20T17:50:09.658735Z",
     "iopub.status.busy": "2024-11-20T17:50:09.658623Z",
     "iopub.status.idle": "2024-11-20T17:50:09.714881Z",
     "shell.execute_reply": "2024-11-20T17:50:09.714446Z",
     "shell.execute_reply.started": "2024-11-20T17:50:09.658725Z"
    },
    "id": "AKnxyeboLAsz",
    "outputId": "2f939474-901a-4773-9704-686a40ae6e8e",
    "slideshow": {
     "slide_type": ""
    },
    "tags": []
   },
   "outputs": [
    {
     "name": "stdout",
     "output_type": "stream",
     "text": [
      "step 0 loss:  tensor(0.0922, dtype=torch.float64, grad_fn=<MseLossBackward0>)\n",
      "step 100 loss:  tensor(0.0127, dtype=torch.float64, grad_fn=<MseLossBackward0>)\n",
      "step 200 loss:  tensor(0.0103, dtype=torch.float64, grad_fn=<MseLossBackward0>)\n",
      "step 300 loss:  tensor(0.0101, dtype=torch.float64, grad_fn=<MseLossBackward0>)\n",
      "step 400 loss:  tensor(0.0101, dtype=torch.float64, grad_fn=<MseLossBackward0>)\n",
      "step 500 loss:  tensor(0.0101, dtype=torch.float64, grad_fn=<MseLossBackward0>)\n",
      "step 600 loss:  tensor(0.0101, dtype=torch.float64, grad_fn=<MseLossBackward0>)\n",
      "step 700 loss:  tensor(0.0101, dtype=torch.float64, grad_fn=<MseLossBackward0>)\n",
      "step 800 loss:  tensor(0.0101, dtype=torch.float64, grad_fn=<MseLossBackward0>)\n",
      "step 900 loss:  tensor(0.0101, dtype=torch.float64, grad_fn=<MseLossBackward0>)\n",
      "final loss: tensor(0.0101, dtype=torch.float64, grad_fn=<MseLossBackward0>)\n"
     ]
    }
   ],
   "source": [
    "learning_rate = 0.1\n",
    "for i in range(1000):\n",
    "    loss = mse(y, a * x + b)\n",
    "\n",
    "    # compute gradients\n",
    "    loss.backward()\n",
    "\n",
    "    # update parameters\n",
    "    a.data -= learning_rate * a.grad\n",
    "    b.data -= learning_rate * b.grad\n",
    "\n",
    "    # zero gradients\n",
    "    a.grad.data.zero_()\n",
    "    b.grad.data.zero_()\n",
    "\n",
    "    if i % 100 == 0:\n",
    "        print(f\"step {i} loss: \", loss)\n",
    "\n",
    "print(\"final loss:\", loss)"
   ]
  },
  {
   "cell_type": "markdown",
   "metadata": {
    "editable": true,
    "id": "2DXNVhshmmI-",
    "slideshow": {
     "slide_type": ""
    },
    "tags": []
   },
   "source": [
    "Trening modeli w PyTorchu jest dosyć schematyczny i najczęściej rozdziela się go na kilka bloków, dających razem **pętlę uczącą (training loop)**, powtarzaną w każdej epoce:\n",
    "1. Forward pass - obliczenie predykcji sieci\n",
    "2. Loss calculation\n",
    "3. Backpropagation - obliczenie pochodnych oraz zerowanie gradientów\n",
    "4. Optimalization - aktualizacja wag\n",
    "5. Other - ewaluacja na zbiorze walidacyjnym, logging etc."
   ]
  },
  {
   "cell_type": "code",
   "execution_count": 19,
   "metadata": {
    "colab": {
     "base_uri": "https://localhost:8080/"
    },
    "editable": true,
    "execution": {
     "iopub.execute_input": "2024-11-20T17:50:09.715388Z",
     "iopub.status.busy": "2024-11-20T17:50:09.715277Z",
     "iopub.status.idle": "2024-11-20T17:50:10.457924Z",
     "shell.execute_reply": "2024-11-20T17:50:10.457548Z",
     "shell.execute_reply.started": "2024-11-20T17:50:09.715379Z"
    },
    "id": "2etpw7TNLAs0",
    "outputId": "8ac35c12-6c70-41ec-bf57-414456fc3c96",
    "scrolled": true,
    "slideshow": {
     "slide_type": ""
    },
    "tags": []
   },
   "outputs": [
    {
     "name": "stdout",
     "output_type": "stream",
     "text": [
      "step 0 loss: 0.8841\n",
      "step 100 loss: 0.0112\n",
      "step 200 loss: 0.0102\n",
      "step 300 loss: 0.0101\n",
      "step 400 loss: 0.0101\n",
      "step 500 loss: 0.0101\n",
      "step 600 loss: 0.0101\n",
      "step 700 loss: 0.0101\n",
      "step 800 loss: 0.0101\n",
      "step 900 loss: 0.0101\n",
      "final loss: tensor(0.0101, dtype=torch.float64, grad_fn=<MseLossBackward0>)\n"
     ]
    }
   ],
   "source": [
    "# initialization\n",
    "learning_rate = 0.1\n",
    "a = torch.rand(1, requires_grad=True)\n",
    "b = torch.rand(1, requires_grad=True)\n",
    "optimizer = torch.optim.SGD([a, b], lr=learning_rate)\n",
    "best_loss = float(\"inf\")\n",
    "\n",
    "# training loop in each epoch\n",
    "for i in range(1000):\n",
    "    # forward pass\n",
    "    y_hat = a * x + b\n",
    "\n",
    "    # loss calculation\n",
    "    loss = mse(y, y_hat)\n",
    "\n",
    "    # backpropagation\n",
    "    loss.backward()\n",
    "\n",
    "    # optimization\n",
    "    optimizer.step()\n",
    "    optimizer.zero_grad()  # zeroes all gradients - very convenient!\n",
    "\n",
    "    if i % 100 == 0:\n",
    "        if loss < best_loss:\n",
    "            best_model = (a.clone(), b.clone())\n",
    "            best_loss = loss\n",
    "        print(f\"step {i} loss: {loss.item():.4f}\")\n",
    "\n",
    "print(\"final loss:\", loss)"
   ]
  },
  {
   "cell_type": "markdown",
   "metadata": {
    "editable": true,
    "slideshow": {
     "slide_type": ""
    },
    "tags": []
   },
   "source": [
    "Przejdziemy teraz do budowy sieci neuronowej do klasyfikacji. Typowo implementuje się ją po prostu jako sieć dla regresji, ale zwracającą tyle wyników, ile mamy klas, a potem aplikuje się na tym funkcję sigmoidalną (2 klasy) lub softmax (>2 klasy). W przypadku klasyfikacji binarnej zwraca się czasem tylko 1 wartość, przepuszczaną przez sigmoidę - wtedy wyjście z sieci to prawdopodobieństwo klasy pozytywnej.\n",
    "\n",
    "Funkcją kosztu zwykle jest **entropia krzyżowa (cross-entropy)**, stosowana też w klasycznej regresji logistycznej. Co ważne, sieci neuronowe, nawet tak proste, uczą się szybciej i stabilniej, gdy dane na wejściu (a przynajmniej zmienne numeryczne) są **ustandaryzowane (standardized)**. Operacja ta polega na odjęciu średniej i podzieleniu przez odchylenie standardowe (tzw. *Z-score transformation*).\n",
    "\n",
    "**Uwaga - PyTorch wymaga tensora klas będącego liczbami zmiennoprzecinkowymi!**"
   ]
  },
  {
   "cell_type": "markdown",
   "metadata": {
    "editable": true,
    "slideshow": {
     "slide_type": ""
    },
    "tags": []
   },
   "source": [
    "## Zbiór danych"
   ]
  },
  {
   "cell_type": "markdown",
   "metadata": {
    "editable": true,
    "slideshow": {
     "slide_type": ""
    },
    "tags": []
   },
   "source": [
    "Na tym laboratorium wykorzystamy zbiór [Adult Census](https://archive.ics.uci.edu/ml/datasets/adult). Dotyczy on przewidywania na podstawie danych demograficznych, czy dany człowiek zarabia powyżej 50 tysięcy dolarów rocznie, czy też mniej. Jest to cenna informacja np. przy planowaniu kampanii marketingowych. Jak możesz się domyślić, zbiór pochodzi z czasów, kiedy inflacja była dużo niższa :)\n",
    "\n",
    "Poniżej znajduje się kod do ściągnięcia i preprocessingu zbioru. Nie musisz go dokładnie analizować."
   ]
  },
  {
   "cell_type": "code",
   "execution_count": 20,
   "metadata": {
    "colab": {
     "base_uri": "https://localhost:8080/"
    },
    "editable": true,
    "execution": {
     "iopub.execute_input": "2024-11-20T17:50:10.458523Z",
     "iopub.status.busy": "2024-11-20T17:50:10.458344Z",
     "iopub.status.idle": "2024-11-20T17:50:34.846947Z",
     "shell.execute_reply": "2024-11-20T17:50:34.846350Z",
     "shell.execute_reply.started": "2024-11-20T17:50:10.458514Z"
    },
    "id": "4DNsaZAnLAs0",
    "outputId": "70822008-530d-4173-deb9-8149a9fe5b41",
    "scrolled": true,
    "slideshow": {
     "slide_type": ""
    },
    "tags": []
   },
   "outputs": [
    {
     "name": "stdout",
     "output_type": "stream",
     "text": [
      "--2024-11-20 18:50:10--  https://archive.ics.uci.edu/ml/machine-learning-databases/adult/adult.data\n",
      "Resolving archive.ics.uci.edu (archive.ics.uci.edu)... 128.195.10.252\n",
      "Connecting to archive.ics.uci.edu (archive.ics.uci.edu)|128.195.10.252|:443... connected.\n",
      "HTTP request sent, awaiting response... 200 OK\n",
      "Length: unspecified\n",
      "Saving to: ‘adult.data.6’\n",
      "\n",
      "adult.data.6            [  <=>               ]   3,79M   204KB/s    in 24s     \n",
      "\n",
      "2024-11-20 18:50:34 (165 KB/s) - ‘adult.data.6’ saved [3974305]\n",
      "\n"
     ]
    }
   ],
   "source": [
    "!wget https://archive.ics.uci.edu/ml/machine-learning-databases/adult/adult.data"
   ]
  },
  {
   "cell_type": "code",
   "execution_count": 21,
   "metadata": {
    "editable": true,
    "execution": {
     "iopub.execute_input": "2024-11-20T17:50:34.847706Z",
     "iopub.status.busy": "2024-11-20T17:50:34.847551Z",
     "iopub.status.idle": "2024-11-20T17:50:35.082220Z",
     "shell.execute_reply": "2024-11-20T17:50:35.081941Z",
     "shell.execute_reply.started": "2024-11-20T17:50:34.847690Z"
    },
    "slideshow": {
     "slide_type": ""
    },
    "tags": []
   },
   "outputs": [
    {
     "data": {
      "text/plain": [
       "array([' <=50K', ' >50K'], dtype=object)"
      ]
     },
     "execution_count": 21,
     "metadata": {},
     "output_type": "execute_result"
    }
   ],
   "source": [
    "import pandas as pd\n",
    "\n",
    "\n",
    "columns = [\n",
    "    \"age\",\n",
    "    \"workclass\",\n",
    "    \"fnlwgt\",\n",
    "    \"education\",\n",
    "    \"education-num\",\n",
    "    \"marital-status\",\n",
    "    \"occupation\",\n",
    "    \"relationship\",\n",
    "    \"race\",\n",
    "    \"sex\",\n",
    "    \"capital-gain\",\n",
    "    \"capital-loss\",\n",
    "    \"hours-per-week\",\n",
    "    \"native-country\",\n",
    "    \"wage\"\n",
    "]\n",
    "\n",
    "\"\"\"\n",
    "age: continuous.\n",
    "workclass: Private, Self-emp-not-inc, Self-emp-inc, Federal-gov, Local-gov, State-gov, Without-pay, Never-worked.\n",
    "fnlwgt: continuous.\n",
    "education: Bachelors, Some-college, 11th, HS-grad, Prof-school, Assoc-acdm, Assoc-voc, 9th, 7th-8th, 12th, Masters, 1st-4th, 10th, Doctorate, 5th-6th, Preschool.\n",
    "education-num: continuous.\n",
    "marital-status: Married-civ-spouse, Divorced, Never-married, Separated, Widowed, Married-spouse-absent, Married-AF-spouse.\n",
    "occupation: Tech-support, Craft-repair, Other-service, Sales, Exec-managerial, Prof-specialty, Handlers-cleaners, Machine-op-inspct, Adm-clerical, Farming-fishing, Transport-moving, Priv-house-serv, Protective-serv, Armed-Forces.\n",
    "relationship: Wife, Own-child, Husband, Not-in-family, Other-relative, Unmarried.\n",
    "race: White, Asian-Pac-Islander, Amer-Indian-Eskimo, Other, Black.\n",
    "sex: Female, Male.\n",
    "capital-gain: continuous.\n",
    "capital-loss: continuous.\n",
    "hours-per-week: continuous.\n",
    "native-country: United-States, Cambodia, England, Puerto-Rico, Canada, Germany, Outlying-US(Guam-USVI-etc), India, Japan, Greece, South, China, Cuba, Iran, Honduras, Philippines, Italy, Poland, Jamaica, Vietnam, Mexico, Portugal, Ireland, France, Dominican-Republic, Laos, Ecuador, Taiwan, Haiti, Columbia, Hungary, Guatemala, Nicaragua, Scotland, Thailand, Yugoslavia, El-Salvador, Trinadad&Tobago, Peru, Hong, Holand-Netherlands.\n",
    "\"\"\"\n",
    "\n",
    "df = pd.read_csv(\"adult.data\", header=None, names=columns)\n",
    "df.wage.unique()"
   ]
  },
  {
   "cell_type": "code",
   "execution_count": 22,
   "metadata": {
    "editable": true,
    "execution": {
     "iopub.execute_input": "2024-11-20T17:50:35.082687Z",
     "iopub.status.busy": "2024-11-20T17:50:35.082573Z",
     "iopub.status.idle": "2024-11-20T17:50:35.119137Z",
     "shell.execute_reply": "2024-11-20T17:50:35.118839Z",
     "shell.execute_reply.started": "2024-11-20T17:50:35.082676Z"
    },
    "slideshow": {
     "slide_type": ""
    },
    "tags": []
   },
   "outputs": [
    {
     "name": "stderr",
     "output_type": "stream",
     "text": [
      "/tmp/ipykernel_747241/3258466939.py:2: FutureWarning: A value is trying to be set on a copy of a DataFrame or Series through chained assignment using an inplace method.\n",
      "The behavior will change in pandas 3.0. This inplace method will never work because the intermediate object on which we are setting values always behaves as a copy.\n",
      "\n",
      "For example, when doing 'df[col].method(value, inplace=True)', try using 'df.method({col: value}, inplace=True)' or df[col] = df[col].method(value) instead, to perform the operation inplace on the original object.\n",
      "\n",
      "\n",
      "  df['education'].replace('Preschool', 'dropout',inplace=True)\n",
      "/tmp/ipykernel_747241/3258466939.py:3: FutureWarning: A value is trying to be set on a copy of a DataFrame or Series through chained assignment using an inplace method.\n",
      "The behavior will change in pandas 3.0. This inplace method will never work because the intermediate object on which we are setting values always behaves as a copy.\n",
      "\n",
      "For example, when doing 'df[col].method(value, inplace=True)', try using 'df.method({col: value}, inplace=True)' or df[col] = df[col].method(value) instead, to perform the operation inplace on the original object.\n",
      "\n",
      "\n",
      "  df['education'].replace('10th', 'dropout',inplace=True)\n",
      "/tmp/ipykernel_747241/3258466939.py:4: FutureWarning: A value is trying to be set on a copy of a DataFrame or Series through chained assignment using an inplace method.\n",
      "The behavior will change in pandas 3.0. This inplace method will never work because the intermediate object on which we are setting values always behaves as a copy.\n",
      "\n",
      "For example, when doing 'df[col].method(value, inplace=True)', try using 'df.method({col: value}, inplace=True)' or df[col] = df[col].method(value) instead, to perform the operation inplace on the original object.\n",
      "\n",
      "\n",
      "  df['education'].replace('11th', 'dropout',inplace=True)\n",
      "/tmp/ipykernel_747241/3258466939.py:5: FutureWarning: A value is trying to be set on a copy of a DataFrame or Series through chained assignment using an inplace method.\n",
      "The behavior will change in pandas 3.0. This inplace method will never work because the intermediate object on which we are setting values always behaves as a copy.\n",
      "\n",
      "For example, when doing 'df[col].method(value, inplace=True)', try using 'df.method({col: value}, inplace=True)' or df[col] = df[col].method(value) instead, to perform the operation inplace on the original object.\n",
      "\n",
      "\n",
      "  df['education'].replace('12th', 'dropout',inplace=True)\n",
      "/tmp/ipykernel_747241/3258466939.py:6: FutureWarning: A value is trying to be set on a copy of a DataFrame or Series through chained assignment using an inplace method.\n",
      "The behavior will change in pandas 3.0. This inplace method will never work because the intermediate object on which we are setting values always behaves as a copy.\n",
      "\n",
      "For example, when doing 'df[col].method(value, inplace=True)', try using 'df.method({col: value}, inplace=True)' or df[col] = df[col].method(value) instead, to perform the operation inplace on the original object.\n",
      "\n",
      "\n",
      "  df['education'].replace('1st-4th', 'dropout',inplace=True)\n",
      "/tmp/ipykernel_747241/3258466939.py:7: FutureWarning: A value is trying to be set on a copy of a DataFrame or Series through chained assignment using an inplace method.\n",
      "The behavior will change in pandas 3.0. This inplace method will never work because the intermediate object on which we are setting values always behaves as a copy.\n",
      "\n",
      "For example, when doing 'df[col].method(value, inplace=True)', try using 'df.method({col: value}, inplace=True)' or df[col] = df[col].method(value) instead, to perform the operation inplace on the original object.\n",
      "\n",
      "\n",
      "  df['education'].replace('5th-6th', 'dropout',inplace=True)\n",
      "/tmp/ipykernel_747241/3258466939.py:8: FutureWarning: A value is trying to be set on a copy of a DataFrame or Series through chained assignment using an inplace method.\n",
      "The behavior will change in pandas 3.0. This inplace method will never work because the intermediate object on which we are setting values always behaves as a copy.\n",
      "\n",
      "For example, when doing 'df[col].method(value, inplace=True)', try using 'df.method({col: value}, inplace=True)' or df[col] = df[col].method(value) instead, to perform the operation inplace on the original object.\n",
      "\n",
      "\n",
      "  df['education'].replace('7th-8th', 'dropout',inplace=True)\n",
      "/tmp/ipykernel_747241/3258466939.py:9: FutureWarning: A value is trying to be set on a copy of a DataFrame or Series through chained assignment using an inplace method.\n",
      "The behavior will change in pandas 3.0. This inplace method will never work because the intermediate object on which we are setting values always behaves as a copy.\n",
      "\n",
      "For example, when doing 'df[col].method(value, inplace=True)', try using 'df.method({col: value}, inplace=True)' or df[col] = df[col].method(value) instead, to perform the operation inplace on the original object.\n",
      "\n",
      "\n",
      "  df['education'].replace('9th', 'dropout',inplace=True)\n",
      "/tmp/ipykernel_747241/3258466939.py:10: FutureWarning: A value is trying to be set on a copy of a DataFrame or Series through chained assignment using an inplace method.\n",
      "The behavior will change in pandas 3.0. This inplace method will never work because the intermediate object on which we are setting values always behaves as a copy.\n",
      "\n",
      "For example, when doing 'df[col].method(value, inplace=True)', try using 'df.method({col: value}, inplace=True)' or df[col] = df[col].method(value) instead, to perform the operation inplace on the original object.\n",
      "\n",
      "\n",
      "  df['education'].replace('HS-Grad', 'HighGrad',inplace=True)\n",
      "/tmp/ipykernel_747241/3258466939.py:11: FutureWarning: A value is trying to be set on a copy of a DataFrame or Series through chained assignment using an inplace method.\n",
      "The behavior will change in pandas 3.0. This inplace method will never work because the intermediate object on which we are setting values always behaves as a copy.\n",
      "\n",
      "For example, when doing 'df[col].method(value, inplace=True)', try using 'df.method({col: value}, inplace=True)' or df[col] = df[col].method(value) instead, to perform the operation inplace on the original object.\n",
      "\n",
      "\n",
      "  df['education'].replace('HS-grad', 'HighGrad',inplace=True)\n",
      "/tmp/ipykernel_747241/3258466939.py:12: FutureWarning: A value is trying to be set on a copy of a DataFrame or Series through chained assignment using an inplace method.\n",
      "The behavior will change in pandas 3.0. This inplace method will never work because the intermediate object on which we are setting values always behaves as a copy.\n",
      "\n",
      "For example, when doing 'df[col].method(value, inplace=True)', try using 'df.method({col: value}, inplace=True)' or df[col] = df[col].method(value) instead, to perform the operation inplace on the original object.\n",
      "\n",
      "\n",
      "  df['education'].replace('Some-college', 'CommunityCollege',inplace=True)\n",
      "/tmp/ipykernel_747241/3258466939.py:13: FutureWarning: A value is trying to be set on a copy of a DataFrame or Series through chained assignment using an inplace method.\n",
      "The behavior will change in pandas 3.0. This inplace method will never work because the intermediate object on which we are setting values always behaves as a copy.\n",
      "\n",
      "For example, when doing 'df[col].method(value, inplace=True)', try using 'df.method({col: value}, inplace=True)' or df[col] = df[col].method(value) instead, to perform the operation inplace on the original object.\n",
      "\n",
      "\n",
      "  df['education'].replace('Assoc-acdm', 'CommunityCollege',inplace=True)\n",
      "/tmp/ipykernel_747241/3258466939.py:14: FutureWarning: A value is trying to be set on a copy of a DataFrame or Series through chained assignment using an inplace method.\n",
      "The behavior will change in pandas 3.0. This inplace method will never work because the intermediate object on which we are setting values always behaves as a copy.\n",
      "\n",
      "For example, when doing 'df[col].method(value, inplace=True)', try using 'df.method({col: value}, inplace=True)' or df[col] = df[col].method(value) instead, to perform the operation inplace on the original object.\n",
      "\n",
      "\n",
      "  df['education'].replace('Assoc-voc', 'CommunityCollege',inplace=True)\n",
      "/tmp/ipykernel_747241/3258466939.py:15: FutureWarning: A value is trying to be set on a copy of a DataFrame or Series through chained assignment using an inplace method.\n",
      "The behavior will change in pandas 3.0. This inplace method will never work because the intermediate object on which we are setting values always behaves as a copy.\n",
      "\n",
      "For example, when doing 'df[col].method(value, inplace=True)', try using 'df.method({col: value}, inplace=True)' or df[col] = df[col].method(value) instead, to perform the operation inplace on the original object.\n",
      "\n",
      "\n",
      "  df['education'].replace('Bachelors', 'Bachelors',inplace=True)\n",
      "/tmp/ipykernel_747241/3258466939.py:16: FutureWarning: A value is trying to be set on a copy of a DataFrame or Series through chained assignment using an inplace method.\n",
      "The behavior will change in pandas 3.0. This inplace method will never work because the intermediate object on which we are setting values always behaves as a copy.\n",
      "\n",
      "For example, when doing 'df[col].method(value, inplace=True)', try using 'df.method({col: value}, inplace=True)' or df[col] = df[col].method(value) instead, to perform the operation inplace on the original object.\n",
      "\n",
      "\n",
      "  df['education'].replace('Masters', 'Masters',inplace=True)\n",
      "/tmp/ipykernel_747241/3258466939.py:17: FutureWarning: A value is trying to be set on a copy of a DataFrame or Series through chained assignment using an inplace method.\n",
      "The behavior will change in pandas 3.0. This inplace method will never work because the intermediate object on which we are setting values always behaves as a copy.\n",
      "\n",
      "For example, when doing 'df[col].method(value, inplace=True)', try using 'df.method({col: value}, inplace=True)' or df[col] = df[col].method(value) instead, to perform the operation inplace on the original object.\n",
      "\n",
      "\n",
      "  df['education'].replace('Prof-school', 'Masters',inplace=True)\n",
      "/tmp/ipykernel_747241/3258466939.py:18: FutureWarning: A value is trying to be set on a copy of a DataFrame or Series through chained assignment using an inplace method.\n",
      "The behavior will change in pandas 3.0. This inplace method will never work because the intermediate object on which we are setting values always behaves as a copy.\n",
      "\n",
      "For example, when doing 'df[col].method(value, inplace=True)', try using 'df.method({col: value}, inplace=True)' or df[col] = df[col].method(value) instead, to perform the operation inplace on the original object.\n",
      "\n",
      "\n",
      "  df['education'].replace('Doctorate', 'Doctorate',inplace=True)\n",
      "/tmp/ipykernel_747241/3258466939.py:20: FutureWarning: A value is trying to be set on a copy of a DataFrame or Series through chained assignment using an inplace method.\n",
      "The behavior will change in pandas 3.0. This inplace method will never work because the intermediate object on which we are setting values always behaves as a copy.\n",
      "\n",
      "For example, when doing 'df[col].method(value, inplace=True)', try using 'df.method({col: value}, inplace=True)' or df[col] = df[col].method(value) instead, to perform the operation inplace on the original object.\n",
      "\n",
      "\n",
      "  df['marital-status'].replace('Never-married', 'NotMarried',inplace=True)\n",
      "/tmp/ipykernel_747241/3258466939.py:21: FutureWarning: A value is trying to be set on a copy of a DataFrame or Series through chained assignment using an inplace method.\n",
      "The behavior will change in pandas 3.0. This inplace method will never work because the intermediate object on which we are setting values always behaves as a copy.\n",
      "\n",
      "For example, when doing 'df[col].method(value, inplace=True)', try using 'df.method({col: value}, inplace=True)' or df[col] = df[col].method(value) instead, to perform the operation inplace on the original object.\n",
      "\n",
      "\n",
      "  df['marital-status'].replace(['Married-AF-spouse'], 'Married',inplace=True)\n"
     ]
    }
   ],
   "source": [
    "# attribution: https://www.kaggle.com/code/royshih23/topic7-classification-in-python\n",
    "df['education'].replace('Preschool', 'dropout',inplace=True)\n",
    "df['education'].replace('10th', 'dropout',inplace=True)\n",
    "df['education'].replace('11th', 'dropout',inplace=True)\n",
    "df['education'].replace('12th', 'dropout',inplace=True)\n",
    "df['education'].replace('1st-4th', 'dropout',inplace=True)\n",
    "df['education'].replace('5th-6th', 'dropout',inplace=True)\n",
    "df['education'].replace('7th-8th', 'dropout',inplace=True)\n",
    "df['education'].replace('9th', 'dropout',inplace=True)\n",
    "df['education'].replace('HS-Grad', 'HighGrad',inplace=True)\n",
    "df['education'].replace('HS-grad', 'HighGrad',inplace=True)\n",
    "df['education'].replace('Some-college', 'CommunityCollege',inplace=True)\n",
    "df['education'].replace('Assoc-acdm', 'CommunityCollege',inplace=True)\n",
    "df['education'].replace('Assoc-voc', 'CommunityCollege',inplace=True)\n",
    "df['education'].replace('Bachelors', 'Bachelors',inplace=True)\n",
    "df['education'].replace('Masters', 'Masters',inplace=True)\n",
    "df['education'].replace('Prof-school', 'Masters',inplace=True)\n",
    "df['education'].replace('Doctorate', 'Doctorate',inplace=True)\n",
    "\n",
    "df['marital-status'].replace('Never-married', 'NotMarried',inplace=True)\n",
    "df['marital-status'].replace(['Married-AF-spouse'], 'Married',inplace=True)\n",
    "df['marital-status'].replace(['Married-civ-spouse'], 'Married',inplace=True)\n",
    "df['marital-status'].replace(['Married-spouse-absent'], 'NotMarried',inplace=True)\n",
    "df['marital-status'].replace(['Separated'], 'Separated',inplace=True)\n",
    "df['marital-status'].replace(['Divorced'], 'Separated',inplace=True)\n",
    "df['marital-status'].replace(['Widowed'], 'Widowed',inplace=True)"
   ]
  },
  {
   "cell_type": "code",
   "execution_count": 23,
   "metadata": {
    "colab": {
     "base_uri": "https://localhost:8080/"
    },
    "editable": true,
    "execution": {
     "iopub.execute_input": "2024-11-20T17:50:35.119573Z",
     "iopub.status.busy": "2024-11-20T17:50:35.119441Z",
     "iopub.status.idle": "2024-11-20T17:50:35.519956Z",
     "shell.execute_reply": "2024-11-20T17:50:35.519624Z",
     "shell.execute_reply.started": "2024-11-20T17:50:35.119543Z"
    },
    "id": "LiOxs_6mLAs1",
    "outputId": "c95418cf-2632-41d0-de0a-9caf109de113",
    "slideshow": {
     "slide_type": ""
    },
    "tags": []
   },
   "outputs": [
    {
     "data": {
      "text/plain": [
       "((20838, 108), (20838,))"
      ]
     },
     "execution_count": 23,
     "metadata": {},
     "output_type": "execute_result"
    }
   ],
   "source": [
    "from sklearn.model_selection import train_test_split\n",
    "from sklearn.preprocessing import MinMaxScaler, OneHotEncoder, StandardScaler\n",
    "\n",
    "\n",
    "X = df.copy()\n",
    "y = (X.pop(\"wage\") == ' >50K').astype(int).values\n",
    "\n",
    "train_valid_size = 0.2\n",
    "\n",
    "X_train, X_test, y_train, y_test = train_test_split(\n",
    "    X, y, \n",
    "    test_size=train_valid_size, \n",
    "    random_state=0, \n",
    "    shuffle=True, \n",
    "    stratify=y\n",
    ")\n",
    "X_train, X_valid, y_train, y_valid = train_test_split(\n",
    "    X_train, y_train, \n",
    "    test_size=train_valid_size, \n",
    "    random_state=0, \n",
    "    shuffle=True, \n",
    "    stratify=y_train\n",
    ")\n",
    "\n",
    "continuous_cols = ['age', 'fnlwgt', 'education-num', 'capital-gain', 'capital-loss', 'hours-per-week']\n",
    "continuous_X_train = X_train[continuous_cols]\n",
    "categorical_X_train = X_train.loc[:, ~X_train.columns.isin(continuous_cols)]\n",
    "\n",
    "continuous_X_valid = X_valid[continuous_cols]\n",
    "categorical_X_valid = X_valid.loc[:, ~X_valid.columns.isin(continuous_cols)]\n",
    "\n",
    "continuous_X_test = X_test[continuous_cols]\n",
    "categorical_X_test = X_test.loc[:, ~X_test.columns.isin(continuous_cols)]\n",
    "\n",
    "categorical_encoder = OneHotEncoder(sparse_output=False, handle_unknown='ignore')\n",
    "continuous_scaler = StandardScaler() #MinMaxScaler(feature_range=(-1, 1))\n",
    "\n",
    "categorical_encoder.fit(categorical_X_train)\n",
    "continuous_scaler.fit(continuous_X_train)\n",
    "\n",
    "continuous_X_train = continuous_scaler.transform(continuous_X_train)\n",
    "continuous_X_valid = continuous_scaler.transform(continuous_X_valid)\n",
    "continuous_X_test = continuous_scaler.transform(continuous_X_test)\n",
    "\n",
    "categorical_X_train = categorical_encoder.transform(categorical_X_train)\n",
    "categorical_X_valid = categorical_encoder.transform(categorical_X_valid)\n",
    "categorical_X_test = categorical_encoder.transform(categorical_X_test)\n",
    "\n",
    "X_train = np.concatenate([continuous_X_train, categorical_X_train], axis=1)\n",
    "X_valid = np.concatenate([continuous_X_valid, categorical_X_valid], axis=1)\n",
    "X_test = np.concatenate([continuous_X_test, categorical_X_test], axis=1)\n",
    "\n",
    "X_train.shape, y_train.shape"
   ]
  },
  {
   "cell_type": "markdown",
   "metadata": {
    "editable": true,
    "slideshow": {
     "slide_type": ""
    },
    "tags": []
   },
   "source": [
    "Uwaga co do typów - PyTorchu wszystko w sieci neuronowej musi być typu `float32`. W szczególności trzeba uważać na konwersje z Numpy'a, który używa domyślnie typu `float64`. Może ci się przydać metoda `.float()`.\n",
    "\n",
    "Uwaga co do kształtów wyjścia - wejścia do `nn.BCELoss` muszą być tego samego kształtu. Może ci się przydać metoda `.squeeze()` lub `.unsqueeze()`."
   ]
  },
  {
   "cell_type": "code",
   "execution_count": 24,
   "metadata": {
    "execution": {
     "iopub.execute_input": "2024-11-20T17:50:35.520562Z",
     "iopub.status.busy": "2024-11-20T17:50:35.520344Z",
     "iopub.status.idle": "2024-11-20T17:50:35.525095Z",
     "shell.execute_reply": "2024-11-20T17:50:35.524716Z",
     "shell.execute_reply.started": "2024-11-20T17:50:35.520552Z"
    },
    "id": "qfRA3xEoLAs1"
   },
   "outputs": [],
   "source": [
    "X_train = torch.from_numpy(X_train).float()\n",
    "y_train = torch.from_numpy(y_train).float().unsqueeze(-1)\n",
    "\n",
    "X_valid = torch.from_numpy(X_valid).float()\n",
    "y_valid = torch.from_numpy(y_valid).float().unsqueeze(-1)\n",
    "\n",
    "X_test = torch.from_numpy(X_test).float()\n",
    "y_test = torch.from_numpy(y_test).float().unsqueeze(-1)"
   ]
  },
  {
   "cell_type": "markdown",
   "metadata": {},
   "source": [
    "Podobnie jak w laboratorium 2, mamy tu do czynienia z klasyfikacją niezbalansowaną:"
   ]
  },
  {
   "cell_type": "code",
   "execution_count": 25,
   "metadata": {
    "execution": {
     "iopub.execute_input": "2024-11-20T17:50:35.525783Z",
     "iopub.status.busy": "2024-11-20T17:50:35.525585Z",
     "iopub.status.idle": "2024-11-20T17:50:35.576004Z",
     "shell.execute_reply": "2024-11-20T17:50:35.575671Z",
     "shell.execute_reply.started": "2024-11-20T17:50:35.525768Z"
    }
   },
   "outputs": [
    {
     "data": {
      "image/png": "[encoded data removed]",
      "text/plain": [
       "<Figure size 640x480 with 1 Axes>"
      ]
     },
     "metadata": {},
     "output_type": "display_data"
    }
   ],
   "source": [
    "import matplotlib.pyplot as plt\n",
    "\n",
    "y_pos_perc = 100 * y_train.sum().item() / len(y_train)\n",
    "y_neg_perc = 100 - y_pos_perc\n",
    "\n",
    "plt.title(\"Class percentages\")\n",
    "plt.bar([\"<50k\", \">=50k\"], [y_neg_perc, y_pos_perc])\n",
    "plt.show()"
   ]
  },
  {
   "cell_type": "markdown",
   "metadata": {},
   "source": [
    "W związku z powyższym będziemy używać odpowiednich metryk, czyli AUROC, precyzji i czułości."
   ]
  },
  {
   "cell_type": "markdown",
   "metadata": {
    "id": "XLexWff-LAs0",
    "tags": [
     "ex"
    ]
   },
   "source": [
    "### Zadanie 3 (1.0 punkt)\n",
    "\n",
    "Zaimplementuj regresję logistyczną dla tego zbioru danych, używając PyTorcha. Dane wejściowe zostały dla ciebie przygotowane w komórkach poniżej.\n",
    "\n",
    "Sama sieć składa się z 2 elementów:\n",
    "- warstwa liniowa `nn.Linear`, przekształcająca wektor wejściowy na 1 wyjście - logit\n",
    "- aktywacja sigmoidalna `nn.Sigmoid`, przekształcająca logit na prawdopodobieństwo klasy pozytywnej\n",
    "\n",
    "Użyj binarnej entropii krzyżowej `nn.BCELoss` jako funkcji kosztu. Użyj optymalizatora SGD ze stałą uczącą `1e-3`. Trenuj przez 3000 epok. Pamiętaj, aby przekazać do optymalizatora `torch.optim.SGD` parametry sieci (metoda `.parameters()`). Dopisz logowanie kosztu raz na 100 epok."
   ]
  },
  {
   "cell_type": "code",
   "execution_count": 26,
   "metadata": {
    "colab": {
     "base_uri": "https://localhost:8080/"
    },
    "execution": {
     "iopub.execute_input": "2024-11-20T17:50:35.576456Z",
     "iopub.status.busy": "2024-11-20T17:50:35.576350Z",
     "iopub.status.idle": "2024-11-20T17:50:39.327626Z",
     "shell.execute_reply": "2024-11-20T17:50:39.327250Z",
     "shell.execute_reply.started": "2024-11-20T17:50:35.576447Z"
    },
    "id": "NbABKz5-LAs2",
    "lines_to_next_cell": 2,
    "outputId": "086dc0f3-0184-4072-9fd3-275b60dee2e4",
    "scrolled": true,
    "tags": [
     "ex"
    ]
   },
   "outputs": [
    {
     "name": "stdout",
     "output_type": "stream",
     "text": [
      "step 0 loss: 0.7471\n",
      "step 100 loss: 0.7015\n",
      "step 200 loss: 0.6641\n",
      "step 300 loss: 0.6333\n",
      "step 400 loss: 0.6077\n",
      "step 500 loss: 0.5863\n",
      "step 600 loss: 0.5683\n",
      "step 700 loss: 0.5530\n",
      "step 800 loss: 0.5399\n",
      "step 900 loss: 0.5286\n",
      "step 1000 loss: 0.5187\n",
      "step 1100 loss: 0.5100\n",
      "step 1200 loss: 0.5023\n",
      "step 1300 loss: 0.4954\n",
      "step 1400 loss: 0.4892\n",
      "step 1500 loss: 0.4835\n",
      "step 1600 loss: 0.4784\n",
      "step 1700 loss: 0.4736\n",
      "step 1800 loss: 0.4693\n",
      "step 1900 loss: 0.4652\n",
      "step 2000 loss: 0.4615\n",
      "step 2100 loss: 0.4579\n",
      "step 2200 loss: 0.4546\n",
      "step 2300 loss: 0.4515\n",
      "step 2400 loss: 0.4486\n",
      "step 2500 loss: 0.4458\n",
      "step 2600 loss: 0.4432\n",
      "step 2700 loss: 0.4407\n",
      "step 2800 loss: 0.4383\n",
      "step 2900 loss: 0.4361\n",
      "step 3000 loss: 0.4339\n"
     ]
    }
   ],
   "source": [
    "learning_rate = 1e-3\n",
    "\n",
    "model = nn.Linear(in_features=X_train.shape[1], out_features=1)\n",
    "activation = nn.Sigmoid()\n",
    "optimizer = torch.optim.SGD(model.parameters(), lr=learning_rate)\n",
    "loss_fn = nn.BCELoss()\n",
    "\n",
    "for i in range(3000):\n",
    "    y_pred = activation(model(X_train))\n",
    "    loss = loss_fn(y_pred, y_train)\n",
    "    loss.backward()\n",
    "    optimizer.step()\n",
    "    optimizer.zero_grad()\n",
    "\n",
    "    if i % 100 == 0:\n",
    "        print(f\"step {i} loss: {loss.item():.4f}\")\n",
    "print(f\"step {3000} loss: {loss.item():.4f}\")"
   ]
  },
  {
   "cell_type": "markdown",
   "metadata": {
    "tags": [
     "ex"
    ]
   },
   "source": [
    "Teraz trzeba sprawdzić, jak poszło naszej sieci. W PyTorchu sieć pracuje zawsze w jednym z dwóch trybów: treningowym lub ewaluacyjnym (predykcyjnym). Ten drugi wyłącza niektóre mechanizmy, które są używane tylko podczas treningu, w szczególności regularyzację dropout. Do przełączania służą metody modelu `.train()` i `.eval()`.\n",
    "\n",
    "Dodatkowo podczas liczenia predykcji dobrze jest wyłączyć liczenie gradientów, bo nie będą potrzebne, a oszczędza to czas i pamięć. Używa się do tego menadżera kontekstu `with torch.no_grad():`."
   ]
  },
  {
   "cell_type": "code",
   "execution_count": 27,
   "metadata": {
    "colab": {
     "base_uri": "https://localhost:8080/"
    },
    "execution": {
     "iopub.execute_input": "2024-11-20T17:50:39.328363Z",
     "iopub.status.busy": "2024-11-20T17:50:39.328176Z",
     "iopub.status.idle": "2024-11-20T17:50:39.334078Z",
     "shell.execute_reply": "2024-11-20T17:50:39.333764Z",
     "shell.execute_reply.started": "2024-11-20T17:50:39.328349Z"
    },
    "id": "zH37zDX4LAs2",
    "outputId": "b1f93309-6f04-4ffc-b0ca-08d0a32120a0",
    "scrolled": true,
    "tags": [
     "ex"
    ]
   },
   "outputs": [
    {
     "name": "stdout",
     "output_type": "stream",
     "text": [
      "AUROC: 85.53%\n"
     ]
    }
   ],
   "source": [
    "from sklearn.metrics import precision_recall_curve, precision_recall_fscore_support, roc_auc_score\n",
    "\n",
    "\n",
    "model.eval()\n",
    "with torch.no_grad():\n",
    "    y_score = activation(model(X_test))\n",
    "\n",
    "auroc = roc_auc_score(y_test, y_score)\n",
    "print(f\"AUROC: {auroc:.2%}\")"
   ]
  },
  {
   "cell_type": "code",
   "execution_count": 28,
   "metadata": {
    "execution": {
     "iopub.execute_input": "2024-11-20T17:50:39.336653Z",
     "iopub.status.busy": "2024-11-20T17:50:39.336411Z",
     "iopub.status.idle": "2024-11-20T17:50:39.371330Z",
     "shell.execute_reply": "2024-11-20T17:50:39.370799Z",
     "shell.execute_reply.started": "2024-11-20T17:50:39.336636Z"
    },
    "tags": [
     "ex"
    ]
   },
   "outputs": [
    {
     "name": "stdout",
     "output_type": "stream",
     "text": [
      "Solution is correct!\n"
     ]
    }
   ],
   "source": [
    "assert isinstance(model, nn.Linear)\n",
    "assert isinstance(activation, nn.Sigmoid)\n",
    "assert isinstance(optimizer, torch.optim.SGD)\n",
    "assert isinstance(loss_fn, torch.nn.BCELoss)\n",
    "\n",
    "assert model.out_features == 1\n",
    "assert optimizer.param_groups[0][\"lr\"] == 1e-3\n",
    "\n",
    "assert 0.0 < loss.item() < 0.5\n",
    "assert 0.8 < auroc < 0.9\n",
    "\n",
    "print(\"Solution is correct!\")"
   ]
  },
  {
   "cell_type": "markdown",
   "metadata": {},
   "source": [
    "Jest to całkiem dobry wynik, a może być jeszcze lepszy. Sprawdźmy dla pewności jeszcze inne metryki: precyzję, recall oraz F1-score. Dodatkowo narysujemy krzywą precision-recall, czyli jak zmieniają się te metryki w zależności od przyjętego progu (threshold) prawdopodobieństwa, powyżej którego przyjmujemy klasę pozytywną. Taką krzywą należy rysować na zbiorze walidacyjnym, bo później chcemy wykorzystać tę informację do doboru progu, a nie chcemy mieć wycieku danych testowych (data leakage).\n",
    "\n",
    "Poniżej zaimplementowano także funkcję `get_optimal_threshold()`, która sprawdza, dla którego progu uzyskujemy maksymalny F1-score, i zwraca indeks oraz wartość optymalnego progu. Przyda ci się ona w dalszej części laboratorium."
   ]
  },
  {
   "cell_type": "code",
   "execution_count": 29,
   "metadata": {
    "execution": {
     "iopub.execute_input": "2024-11-20T17:50:39.372227Z",
     "iopub.status.busy": "2024-11-20T17:50:39.371893Z",
     "iopub.status.idle": "2024-11-20T17:50:39.376199Z",
     "shell.execute_reply": "2024-11-20T17:50:39.375733Z",
     "shell.execute_reply.started": "2024-11-20T17:50:39.372209Z"
    }
   },
   "outputs": [],
   "source": [
    "from sklearn.metrics import PrecisionRecallDisplay\n",
    "\n",
    "\n",
    "def get_optimal_threshold(\n",
    "    precisions: np.array, \n",
    "    recalls: np.array, \n",
    "    thresholds: np.array\n",
    ") -> Tuple[int, float]:\n",
    "    \n",
    "    numerator = 2 * precisions * recalls\n",
    "    denominator = precisions + recalls\n",
    "    f1_scores = np.divide(numerator, denominator, out=np.zeros_like(numerator), where=denominator != 0)\n",
    "    \n",
    "    optimal_idx = np.argmax(f1_scores)\n",
    "    optimal_threshold = thresholds[optimal_idx]\n",
    "    \n",
    "    return optimal_idx, optimal_threshold\n",
    "\n",
    "\n",
    "def plot_precision_recall_curve(y_true, y_pred_score) -> None:\n",
    "    precisions, recalls, thresholds = precision_recall_curve(y_true, y_pred_score)\n",
    "    optimal_idx, optimal_threshold = get_optimal_threshold(precisions, recalls, thresholds)\n",
    "\n",
    "    disp = PrecisionRecallDisplay(precisions, recalls)\n",
    "    disp.plot()\n",
    "    plt.title(f\"Precision-recall curve (opt. thresh.: {optimal_threshold:.4f})\")\n",
    "    plt.axvline(recalls[optimal_idx], color=\"green\", linestyle=\"-.\")\n",
    "    plt.axhline(precisions[optimal_idx], color=\"green\", linestyle=\"-.\")\n",
    "    plt.show()\n",
    "\n"
   ]
  },
  {
   "cell_type": "code",
   "execution_count": 30,
   "metadata": {
    "execution": {
     "iopub.execute_input": "2024-11-20T17:50:39.376959Z",
     "iopub.status.busy": "2024-11-20T17:50:39.376683Z",
     "iopub.status.idle": "2024-11-20T17:50:39.453064Z",
     "shell.execute_reply": "2024-11-20T17:50:39.452492Z",
     "shell.execute_reply.started": "2024-11-20T17:50:39.376943Z"
    }
   },
   "outputs": [
    {
     "data": {
      "image/png": "[encoded data removed]",
      "text/plain": [
       "<Figure size 640x480 with 1 Axes>"
      ]
     },
     "metadata": {},
     "output_type": "display_data"
    }
   ],
   "source": [
    "model.eval()\n",
    "with torch.no_grad():\n",
    "    y_pred_valid_score = activation(model(X_valid))\n",
    "\n",
    "plot_precision_recall_curve(y_valid, y_pred_valid_score)"
   ]
  },
  {
   "cell_type": "markdown",
   "metadata": {
    "id": "vfQPIUQ_LAs2"
   },
   "source": [
    "Jak widać, chociaż AUROC jest wysokie, to dla optymalnego F1-score recall nie jest zbyt wysoki, a precyzja jest już dość niska. Być może wynik uda się poprawić, używając modelu o większej pojemności - pełnej, głębokiej sieci neuronowej."
   ]
  },
  {
   "cell_type": "markdown",
   "metadata": {},
   "source": [
    "## Sieci neuronowe"
   ]
  },
  {
   "cell_type": "markdown",
   "metadata": {
    "id": "YP298w6Cq7T6"
   },
   "source": [
    "Wszystko zaczęło się od inspirowanych biologią [sztucznych neuronów](https://en.wikipedia.org/wiki/Artificial_neuron), których próbowano użyć do symulacji mózgu. Naukowcy szybko odeszli od tego podejścia (sam problem modelowania okazał się też znacznie trudniejszy, niż sądzono), zamiast tego używając neuronów jako jednostek reprezentującą dowolną funkcję parametryczną $f(x, \\Theta)$. Każdy neuron jest zatem bardzo elastyczny, bo jedyne wymagania to funkcja różniczkowalna, a mamy do tego wektor parametrów $\\Theta$.\n",
    "\n",
    "W praktyce najczęściej można spotkać się z kilkoma rodzinami sieci neuronowych:\n",
    "1. Perceptrony wielowarstwowe (*MultiLayer Perceptron*, MLP) - najbardziej podobne do powyższego opisu, niezbędne do klasyfikacji i regresji\n",
    "2. Konwolucyjne (*Convolutional Neural Networks*, CNNs) - do przetwarzania danych z zależnościami przestrzennymi, np. obrazów czy dźwięku\n",
    "3. Rekurencyjne (*Recurrent Neural Networks*, RNNs) - do przetwarzania danych z zależnościami sekwencyjnymi, np. szeregi czasowe, oraz kiedyś do języka naturalnego\n",
    "4. Transformacyjne (*Transformers*), oparte o mechanizm atencji (*attention*) - do przetwarzania języka naturalnego (NLP), z którego wyparły RNNs, a coraz częściej także do wszelkich innych danych, np. obrazów, dźwięku\n",
    "5. Grafowe (*Graph Neural Networks*, GNNS) - do przetwarzania grafów\n",
    "\n",
    "Na tym laboratorium skupimy się na najprostszej architekturze, czyli MLP. Jest ona powszechnie łączona z wszelkimi innymi architekturami, bo pozwala dokonywać klasyfikacji i regresji. Przykładowo, klasyfikacja obrazów to zwykle CNN + MLP, klasyfikacja tekstów to transformer + MLP, a regresja na grafach to GNN + MLP.\n",
    "\n",
    "Dodatkowo, pomimo prostoty MLP są bardzo potężne - udowodniono, że perceptrony (ich powszechna nazwa) są [uniwersalnym aproksymatorem](https://www.sciencedirect.com/science/article/abs/pii/0893608089900208), będącym w stanie przybliżyć dowolną funkcję z odpowiednio małym błędem, zakładając wystarczającą wielkość warstw sieci. Szczególne ich wersje potrafią nawet [reprezentować drzewa decyzyjne](https://www.youtube.com/watch?v=_okxGdHM5b8).\n",
    "\n",
    "Dla zainteresowanych polecamy [doskonałą książkę \"Dive into Deep Learning\", z implementacjami w PyTorchu](https://d2l.ai/chapter_multilayer-perceptrons/index.html), [klasyczną książkę \"Deep Learning Book\"](https://www.deeplearningbook.org/contents/mlp.html), oraz [ten filmik](https://www.youtube.com/watch?v=BFHrIxKcLjA), jeśli zastanawiałeś/-aś się, czemu używamy deep learning, a nie naprzykład (wide?) learning. (aka. czemu staramy się budować głębokie sieci, a nie płytkie za to szerokie)"
   ]
  },
  {
   "attachments": {
    "1_x-3NGQv0pRIab8xDT-f_Hg.png": {
     "image/png": "[encoded data removed]"
    }
   },
   "cell_type": "markdown",
   "metadata": {
    "id": "S_ZjoGBU5upj"
   },
   "source": [
    "### Sieci MLP\n",
    "\n",
    "Dla przypomnienia, na wejściu mamy punkty ze zbioru treningowego, czyli $d$-wymiarowe wektory. W klasyfikacji chcemy znaleźć granicę decyzyjną, czyli krzywą, która oddzieli od siebie klasy. W wejściowej przestrzeni może być to trudne, bo chmury punktów z poszczególnych klas mogą być ze sobą dość pomieszane. Pamiętajmy też, że regresja logistyczna jest klasyfikatorem liniowym, czyli w danej przestrzeni potrafi oddzielić punkty tylko linią prostą.\n",
    "\n",
    "Sieć MLP składa się z warstw. Każda z nich dokonuje nieliniowego przekształcenia przestrzeni (można o tym myśleć jak o składaniu przestrzeni jakąś prostą/łamaną), tak, aby w finalnej przestrzeni nasze punkty były możliwie liniowo separowalne. Wtedy ostatnia warstwa z sigmoidą będzie potrafiła je rozdzielić od siebie.\n",
    "\n",
    "![1_x-3NGQv0pRIab8xDT-f_Hg.png](attachment:1_x-3NGQv0pRIab8xDT-f_Hg.png)\n",
    "\n",
    "Poszczególne neurony składają się z iloczynu skalarnego wejść z wagami neuronu, oraz nieliniowej funkcji aktywacji. W PyTorchu są to osobne obiekty - `nn.Linear` oraz np. `nn.Sigmoid`. Funkcja aktywacji przyjmuje wynik iloczynu skalarnego i przekształca go, aby sprawdzić, jak mocno reaguje neuron na dane wejście. Musi być nieliniowa z dwóch powodów. Po pierwsze, tylko nieliniowe przekształcenia są na tyle potężne, żeby umożliwić liniową separację danych w ostatniej warstwie. Po drugie, liniowe przekształcenia zwyczajnie nie działają. Aby zrozumieć czemu, trzeba zobaczyć, co matematycznie oznacza sieć MLP.\n",
    "\n",
    "![perceptron](https://www.saedsayad.com/images/Perceptron_bkp_1.png)\n",
    "\n",
    "Zapisane matematycznie MLP to:\n",
    "\n",
    "$\\large\n",
    "h_1 = f_1(x) \\\\\n",
    "h_2 = f_2(h_1) \\\\\n",
    "h_3 = f_3(h_2) \\\\\n",
    "... \\\\\n",
    "h_n = f_n(h_{n-1})\n",
    "$\n",
    "\n",
    "gdzie $x$ to wejście $f_i$ to funkcja aktywacji $i$-tej warstwy, a $h_i$ to wyjście $i$-tej warstwy, nazywane **ukrytą reprezentacją (hidden representation)**, lub *latent representation*. Nazwa bierze się z tego, że w środku sieci wyciągamy cechy i wzorce w danych, które nie są widoczne na pierwszy rzut oka na wejściu.\n",
    "\n",
    "Załóżmy, że uczymy się na danych $x$ o jednym wymiarze (dla uproszczenia wzorów) oraz nie mamy funkcji aktywacji, czyli wykorzystujemy tak naprawdę aktywację liniową $f(x) = x$. Zobaczmy jak będą wyglądać dane przechodząc przez kolejne warstwy:\n",
    "\n",
    "$\\large\n",
    "h_1 = f_1(xw_1) = xw_1 \\\\\n",
    "h_2 = f_2(h_1w_2) = xw_1w_2 \\\\\n",
    "... \\\\\n",
    "h_n = f_n(h_{n-1}w_n) = xw_1w_2...w_n\n",
    "$\n",
    "\n",
    "gdzie $w_i$ to jest parametr $i$-tej warstwy sieci, $x$ to są dane (w naszym przypadku jedna liczba) wejściowa, a $h_i$ to wyjście $i$-tej warstwy.\n",
    "\n",
    "Jak widać, taka sieć o $n$ warstwach jest równoważna sieci o jednej warstwie z parametrem $w = w_1w_2...w_n$. Wynika to z tego, że złożenie funkcji liniowych jest także funkcją liniową - patrz notatki z algebry :)\n",
    "\n",
    "Jeżeli natomiast użyjemy nieliniowej funkcji aktywacji, często oznaczanej jako $\\sigma$, to wszystko będzie działać. Co ważne, ostatnia warstwa, dająca wyjście sieci, ma zwykle inną aktywację od warstw wewnątrz sieci, bo też ma inne zadanie - zwrócić wartość dla klasyfikacji lub regresji. Na wyjściu korzysta się z funkcji liniowej (regresja), sigmoidalnej (klasyfikacja binarna) lub softmax (klasyfikacja wieloklasowa).\n",
    "\n",
    "Wewnątrz sieci używano kiedyś sigmoidy oraz tangensa hiperbolicznego `tanh`, ale okazało się to nieefektywne przy uczeniu głębokich sieci o wielu warstwach. Nowoczesne sieci korzystają zwykle z funkcji ReLU (*rectified linear unit*), która jest zaskakująco prosta: $ReLU(x) = \\max(0, x)$. Okazało się, że bardzo dobrze nadaje się do treningu nawet bardzo głębokich sieci neuronowych. Nowsze funkcje aktywacji są głównie modyfikacjami ReLU.\n",
    "\n",
    "![relu](https://www.nomidl.com/wp-content/uploads/2022/04/image-10.png)"
   ]
  },
  {
   "cell_type": "markdown",
   "metadata": {},
   "source": [
    "### MLP w PyTorchu\n",
    "\n",
    "Warstwę neuronów w MLP nazywa się warstwą gęstą (*dense layer*) lub warstwą w pełni połączoną (*fully-connected layer*), i taki opis oznacza zwykle same neurony oraz funkcję aktywacji. PyTorch, jak już widzieliśmy, definiuje osobno transformację liniową oraz aktywację, a więc jedna warstwa składa się de facto z 2 obiektów, wywoływanych jeden po drugim. Inne frameworki, szczególnie wysokopoziomowe (np. Keras) łączą to często w jeden obiekt.\n",
    "\n",
    "MLP składa się zatem z sekwencji obiektów, które potem wywołuje się jeden po drugim, gdzie wyjście poprzedniego to wejście kolejnego. Ale nie można tutaj używać Pythonowych list! Z perspektywy PyTorcha to wtedy niezależne obiekty i nie zostanie wtedy przekazany między nimi gradient. Trzeba tutaj skorzystać z `nn.Sequential`, aby tworzyć taki pipeline.\n",
    "\n",
    "Rozmiary wejścia i wyjścia dla każdej warstwy trzeba w PyTorchu podawać explicite. Jest to po pierwsze edukacyjne, a po drugie często ułatwia wnioskowanie o działaniu sieci oraz jej debugowanie - mamy jasno podane, czego oczekujemy. Niektóre frameworki (np. Keras) obliczają to automatycznie.\n",
    "\n",
    "Co ważne, ostatnia warstwa zwykle nie ma funkcji aktywacji. Wynika to z tego, że obliczanie wielu funkcji kosztu (np. entropii krzyżowej) na aktywacjach jest często niestabilne numerycznie. Z tego powodu PyTorch oferuje funkcje kosztu zawierające w środku aktywację dla ostatniej warstwy, a ich implementacje są stabilne numerycznie. Przykładowo, `nn.BCELoss` przyjmuje wejście z zaaplikowanymi już aktywacjami, ale może skutkować under/overflow, natomiast `nn.BCEWithLogitsLoss` przyjmuje wejście bez aktywacji, a w środku ma specjalną implementację łączącą binarną entropię krzyżową z aktywacją sigmoidalną. Oczywiście w związku z tym aby dokonać potem predykcji w praktyce, trzeba pamiętać o użyciu funkcji aktywacji. Często korzysta się przy tym z funkcji z modułu `torch.nn.functional`, które są w tym wypadku nieco wygodniejsze od klas wywoływalnych z `torch.nn`.\n",
    "\n",
    "Całe sieci w PyTorchu tworzy się jako klasy dziedziczące po `nn.Module`. Co ważne, obiekty, z których tworzymy sieć, np. `nn.Linear`, także dziedziczą po tej klasie. Pozwala to na bardzo modułową budowę kodu, zgodną z zasadami OOP. W konstruktorze najpierw trzeba zawsze wywołać konstruktor rodzica - `super().__init__()`, a później tworzy się potrzebne obiekty i zapisuje jako atrybuty. Każdy atrybut dziedziczący po `nn.Module` lub `nn.Parameter` jest uważany za taki, który zawiera parametry sieci, a więc przy wywołaniu metody `parameters()` - parametry z tych atrybutów pojawią się w liście wszystkich parametrów. Musimy też zdefiniować metodę `forward()`, która przyjmuje tensor `x` i zwraca wynik. Typowo ta metoda po prostu używa obiektów zdefiniowanych w konstruktorze.\n",
    "\n",
    "\n",
    "**UWAGA: nigdy w normalnych warunkach się nie woła metody `forward` ręcznie**"
   ]
  },
  {
   "cell_type": "markdown",
   "metadata": {
    "editable": true,
    "id": "J8niDgExAMDO",
    "slideshow": {
     "slide_type": ""
    },
    "tags": [
     "ex"
    ]
   },
   "source": [
    "### Zadanie 4 (0.5 punktu)\n",
    "\n",
    "Uzupełnij implementację 3-warstwowej sieci MLP. Użyj rozmiarów:\n",
    "* pierwsza warstwa: input_size x 256\n",
    "* druga warstwa: 256 x 128\n",
    "* trzecia warstwa: 128 x 1\n",
    "\n",
    "Użyj funkcji aktywacji ReLU.\n",
    "\n",
    "Przydatne klasy:\n",
    "- `nn.Sequential`\n",
    "- `nn.Linear`\n",
    "- `nn.ReLU`"
   ]
  },
  {
   "cell_type": "code",
   "execution_count": 31,
   "metadata": {
    "execution": {
     "iopub.execute_input": "2024-11-20T17:50:39.453643Z",
     "iopub.status.busy": "2024-11-20T17:50:39.453490Z",
     "iopub.status.idle": "2024-11-20T17:50:39.456896Z",
     "shell.execute_reply": "2024-11-20T17:50:39.456557Z",
     "shell.execute_reply.started": "2024-11-20T17:50:39.453628Z"
    },
    "tags": [
     "ex"
    ]
   },
   "outputs": [],
   "source": [
    "from torch import sigmoid\n",
    "\n",
    "\n",
    "class MLP(nn.Module):\n",
    "    def __init__(self, input_size: int):\n",
    "        super().__init__()\n",
    "        first = nn.Linear(input_size, 256)\n",
    "        second = nn.Linear(256, 128)\n",
    "        third = nn.Linear(128, 1)\n",
    "        self.model = nn.Sequential(first, nn.ReLU(), second, nn.ReLU(), third)\n",
    "        \n",
    "    def forward(self, x):\n",
    "        return self.model(x)\n",
    "\n",
    "    def predict_proba(self, x):\n",
    "        return sigmoid(self(x))\n",
    "    \n",
    "    def predict(self, x, threshold: float = 0.5):\n",
    "        y_pred_score = self.predict_proba(x)\n",
    "        return (y_pred_score > threshold).to(torch.int32)\n",
    "\n"
   ]
  },
  {
   "cell_type": "code",
   "execution_count": 32,
   "metadata": {
    "editable": true,
    "execution": {
     "iopub.execute_input": "2024-11-20T17:50:39.457402Z",
     "iopub.status.busy": "2024-11-20T17:50:39.457279Z",
     "iopub.status.idle": "2024-11-20T17:51:48.678175Z",
     "shell.execute_reply": "2024-11-20T17:51:48.677644Z",
     "shell.execute_reply.started": "2024-11-20T17:50:39.457392Z"
    },
    "slideshow": {
     "slide_type": ""
    },
    "tags": [
     "ex"
    ]
   },
   "outputs": [
    {
     "name": "stdout",
     "output_type": "stream",
     "text": [
      "Epoch 0 train loss: 0.7141\n",
      "Epoch 200 train loss: 0.6900\n",
      "Epoch 400 train loss: 0.6690\n",
      "Epoch 600 train loss: 0.6505\n",
      "Epoch 800 train loss: 0.6340\n",
      "Epoch 1000 train loss: 0.6193\n",
      "Epoch 1200 train loss: 0.6062\n",
      "Epoch 1400 train loss: 0.5945\n",
      "Epoch 1600 train loss: 0.5841\n",
      "Epoch 1800 train loss: 0.5749\n",
      "final loss: 0.5667\n"
     ]
    }
   ],
   "source": [
    "# 43s\n",
    "learning_rate = 1e-3\n",
    "model = MLP(input_size=X_train.shape[1])\n",
    "optimizer = torch.optim.SGD(model.parameters(), lr=learning_rate)\n",
    "\n",
    "# note that we are using loss function with sigmoid built in\n",
    "loss_fn = torch.nn.BCEWithLogitsLoss()\n",
    "num_epochs = 2000\n",
    "evaluation_steps = 200\n",
    "\n",
    "for i in range(num_epochs):\n",
    "    y_pred = model(X_train)\n",
    "    loss = loss_fn(y_pred, y_train)\n",
    "    loss.backward()\n",
    "\n",
    "    optimizer.step()\n",
    "    optimizer.zero_grad()\n",
    "\n",
    "    if i % evaluation_steps == 0:\n",
    "        print(f\"Epoch {i} train loss: {loss.item():.4f}\")\n",
    "\n",
    "print(f\"final loss: {loss.item():.4f}\")"
   ]
  },
  {
   "cell_type": "code",
   "execution_count": 33,
   "metadata": {
    "colab": {
     "base_uri": "https://localhost:8080/"
    },
    "execution": {
     "iopub.execute_input": "2024-11-20T17:51:48.678886Z",
     "iopub.status.busy": "2024-11-20T17:51:48.678686Z",
     "iopub.status.idle": "2024-11-20T17:51:48.750006Z",
     "shell.execute_reply": "2024-11-20T17:51:48.749528Z",
     "shell.execute_reply.started": "2024-11-20T17:51:48.678870Z"
    },
    "id": "LP5GSup24dXU",
    "outputId": "05f332c4-5d94-41f6-f85b-17793d3c4b49",
    "tags": [
     "ex"
    ]
   },
   "outputs": [
    {
     "name": "stdout",
     "output_type": "stream",
     "text": [
      "AUROC: 71.05%\n"
     ]
    },
    {
     "data": {
      "image/png": "[encoded data removed]",
      "text/plain": [
       "<Figure size 640x480 with 1 Axes>"
      ]
     },
     "metadata": {},
     "output_type": "display_data"
    }
   ],
   "source": [
    "model.eval()\n",
    "with torch.no_grad():\n",
    "    # positive class probabilities\n",
    "    y_pred_valid_score = model.predict_proba(X_valid)\n",
    "    y_pred_test_score = model.predict_proba(X_test)\n",
    "\n",
    "auroc = roc_auc_score(y_test, y_pred_test_score)\n",
    "print(f\"AUROC: {auroc:.2%}\")\n",
    "\n",
    "plot_precision_recall_curve(y_valid, y_pred_valid_score)"
   ]
  },
  {
   "cell_type": "code",
   "execution_count": 34,
   "metadata": {
    "execution": {
     "iopub.execute_input": "2024-11-20T17:51:48.750632Z",
     "iopub.status.busy": "2024-11-20T17:51:48.750472Z",
     "iopub.status.idle": "2024-11-20T17:51:48.754459Z",
     "shell.execute_reply": "2024-11-20T17:51:48.753974Z",
     "shell.execute_reply.started": "2024-11-20T17:51:48.750622Z"
    },
    "tags": [
     "ex"
    ]
   },
   "outputs": [
    {
     "name": "stdout",
     "output_type": "stream",
     "text": [
      "Solution is correct!\n"
     ]
    }
   ],
   "source": [
    "assert any(\n",
    "    isinstance(module, nn.Linear) and module.in_features == X_train.shape[1] and module.out_features == 256\n",
    "    for module in model.modules()\n",
    ")\n",
    "\n",
    "assert any(\n",
    "    isinstance(module, nn.Linear) and module.in_features == 256 and module.out_features == 128\n",
    "    for module in model.modules()\n",
    ")\n",
    "\n",
    "assert any(\n",
    "    isinstance(module, nn.Linear) and module.in_features == 128 and module.out_features == 1\n",
    "    for module in model.modules()\n",
    ")\n",
    "\n",
    "assert any(isinstance(module, nn.ReLU) for module in model.modules())\n",
    "\n",
    "assert 0.5 < loss.item() < 0.6\n",
    "assert 0.6 < auroc < 0.9\n",
    "\n",
    "print(\"Solution is correct!\")"
   ]
  },
  {
   "cell_type": "markdown",
   "metadata": {},
   "source": [
    "AUROC jest podobne, a precision i recall spadły - wypadamy wręcz gorzej od regresji liniowej! Skoro dodaliśmy więcej warstw, to może pojemność modelu jest teraz za duża i trzeba by go zregularyzować?\n",
    "\n",
    "Sieci neuronowe bardzo łatwo przeuczają, bo są bardzo elastycznymi i pojemnymi modelami. Dlatego mają wiele różnych rodzajów regularyzacji, których używa się razem. Co ciekawe, udowodniono eksperymentalnie, że zbyt duże sieci z mocną regularyzacją działają lepiej niż mniejsze sieci, odpowiedniego rozmiaru, za to ze słabszą regularyzacją.\n",
    "\n",
    "Pierwszy rodzaj regularyzacji to znana nam już **regularyzacja L2**, czyli penalizacja zbyt dużych wag. W kontekście sieci neuronowych nazywa się też ją czasem *weight decay*. W PyTorchu dodaje się ją jako argument do optymalizatora.\n",
    "\n",
    "Regularyzacja specyficzna dla sieci neuronowych to **dropout**. Polega on na losowym wyłączaniu zadanego procenta neuronów podczas treningu. Pomimo prostoty okazała się niesamowicie skuteczna, szczególnie w treningu bardzo głębokich sieci. Co ważne, jest to mechanizm używany tylko podczas treningu - w trakcie predykcji za pomocą sieci wyłącza się ten mechanizm i dokonuje normalnie predykcji całą siecią. Podejście to można potraktować jak ensemble learning, podobny do lasów losowych - wyłączając losowe części sieci, w każdej iteracji trenujemy nieco inną sieć, co odpowiada uśrednianiu predykcji różnych algorytmów. Typowo stosuje się dość mocny dropout, rzędu 25-50%. W PyTorchu implementuje go warstwa `nn.Dropout`, aplikowana zazwyczaj po funkcji aktywacji.\n",
    "\n",
    "Ostatni, a być może najważniejszy rodzaj regularyzacji to **wczesny stop (early stopping)**. W każdym kroku mocniej dostosowujemy terenową sieć do zbioru treningowego, a więc zbyt długi trening będzie skutkował przeuczeniem. W metodzie wczesnego stopu używamy wydzielonego zbioru walidacyjnego (pojedynczego, metoda holdout), sprawdzając co określoną liczbę epok wynik na tym zbiorze. Jeżeli nie uzyskamy wyniku lepszego od najlepszego dotychczas uzyskanego przez określoną liczbę epok, to przerywamy trening. Okres, przez który czekamy na uzyskanie lepszego wyniku, to cierpliwość (*patience*). Im mniejsze, tym mocniejszy jest ten rodzaj regularyzacji, ale trzeba z tym uważać, bo łatwo jest przesadzić i zbyt szybko przerywać trening. Niektóre implementacje uwzględniają tzw. *grace period*, czyli gwarantowaną minimalną liczbę epok, przez którą będziemy trenować sieć, niezależnie od wybranej cierpliwości.\n",
    "\n",
    "Dodatkowo ryzyko przeuczenia można zmniejszyć, używając mniejszej stałej uczącej."
   ]
  },
  {
   "cell_type": "markdown",
   "metadata": {
    "tags": [
     "ex"
    ]
   },
   "source": [
    "### Zadanie 5 (1.5 punktu)\n",
    "\n",
    "Zaimplementuj funkcję `evaluate_model()`, obliczającą metryki na zbiorze testowym:\n",
    "- wartość funkcji kosztu (loss)\n",
    "- AUROC\n",
    "- optymalny próg\n",
    "- F1-score przy optymalnym progu\n",
    "- precyzję oraz recall dla optymalnego progu\n",
    "\n",
    "Jeżeli podana jest wartość argumentu `threshold`, to użyj jej do zamiany prawdopodobieństw na twarde predykcje. W przeciwnym razie użyj funkcji `get_optimal_threshold` i oblicz optymalną wartość progu.\n",
    "\n",
    "Pamiętaj o przełączeniu modelu w tryb ewaluacji oraz o wyłączeniu obliczania gradientów."
   ]
  },
  {
   "cell_type": "code",
   "execution_count": 35,
   "metadata": {
    "execution": {
     "iopub.execute_input": "2024-11-20T17:51:48.755493Z",
     "iopub.status.busy": "2024-11-20T17:51:48.755104Z",
     "iopub.status.idle": "2024-11-20T17:51:48.759359Z",
     "shell.execute_reply": "2024-11-20T17:51:48.758906Z",
     "shell.execute_reply.started": "2024-11-20T17:51:48.755477Z"
    },
    "tags": [
     "ex"
    ]
   },
   "outputs": [],
   "source": [
    "from typing import Optional\n",
    "\n",
    "from sklearn.metrics import precision_score, recall_score, f1_score\n",
    "from torch import sigmoid\n",
    "\n",
    "\n",
    "def evaluate_model(\n",
    "    model: nn.Module, \n",
    "    X: torch.Tensor, \n",
    "    y: torch.Tensor, \n",
    "    loss_fn: nn.Module,\n",
    "    threshold: Optional[float] = None\n",
    ") -> Dict[str, float]:\n",
    "    model.eval()\n",
    "    with torch.no_grad():\n",
    "        y_pred_score = model.predict_proba(X)\n",
    "        if not threshold:\n",
    "            precisions, recalls, thresholds = precision_recall_curve(\n",
    "                y, y_pred_score)\n",
    "            _, optimal_threshold = get_optimal_threshold(\n",
    "                precisions, recalls, thresholds\n",
    "            )\n",
    "            threshold = optimal_threshold\n",
    "        y_pred = model.predict(X, threshold)\n",
    "        loss = loss_fn(model(X), y)\n",
    "        auroc = roc_auc_score(y, y_pred_score)\n",
    "        precision = precision_score(y, y_pred)\n",
    "        recall = recall_score(y, y_pred)\n",
    "        f1 = f1_score(y, y_pred)\n",
    "    model.train()\n",
    "    return {\"AUROC\": auroc, \"precision\": precision, \"recall\": recall,\n",
    "           \"F1-score\": f1, \"loss\": loss, \"optimal_threshold\": threshold}\n",
    "\n"
   ]
  },
  {
   "cell_type": "code",
   "execution_count": 36,
   "metadata": {
    "execution": {
     "iopub.execute_input": "2024-11-20T17:51:48.760319Z",
     "iopub.status.busy": "2024-11-20T17:51:48.759946Z",
     "iopub.status.idle": "2024-11-20T17:51:48.816559Z",
     "shell.execute_reply": "2024-11-20T17:51:48.816188Z",
     "shell.execute_reply.started": "2024-11-20T17:51:48.760299Z"
    },
    "tags": [
     "ex"
    ]
   },
   "outputs": [
    {
     "name": "stdout",
     "output_type": "stream",
     "text": [
      "Solution is correct!\n"
     ]
    }
   ],
   "source": [
    "eval_result = evaluate_model(model, X_train, y_train, loss_fn)\n",
    "\n",
    "assert 0.5 < eval_result[\"loss\"] < 0.6\n",
    "assert 0.6 < eval_result[\"AUROC\"] < 0.9\n",
    "assert 0.3 < eval_result[\"precision\"] < 0.6\n",
    "assert 0.6 < eval_result[\"recall\"] < 0.9\n",
    "assert 0.4 < eval_result[\"F1-score\"] < 0.7\n",
    "\n",
    "print(\"Solution is correct!\")"
   ]
  },
  {
   "cell_type": "markdown",
   "metadata": {
    "tags": [
     "ex"
    ]
   },
   "source": [
    "### Zadanie 6 (0.5 punktu)\n",
    "\n",
    "Zaimplementuj 3-warstwową sieć MLP z dropout (50%). Rozmiary warstw ukrytych mają wynosić 256 i 128."
   ]
  },
  {
   "cell_type": "code",
   "execution_count": 37,
   "metadata": {
    "execution": {
     "iopub.execute_input": "2024-11-20T17:51:48.816994Z",
     "iopub.status.busy": "2024-11-20T17:51:48.816891Z",
     "iopub.status.idle": "2024-11-20T17:51:48.820142Z",
     "shell.execute_reply": "2024-11-20T17:51:48.819759Z",
     "shell.execute_reply.started": "2024-11-20T17:51:48.816985Z"
    },
    "tags": [
     "ex"
    ]
   },
   "outputs": [],
   "source": [
    "class RegularizedMLP(nn.Module):\n",
    "    def __init__(self, input_size: int, dropout_p: float = 0.5):\n",
    "        super().__init__()\n",
    "        first = nn.Linear(input_size, 256)\n",
    "        second = nn.Linear(256, 128)\n",
    "        third = nn.Linear(128, 1)\n",
    "        self.model = nn.Sequential(first, nn.ReLU(), second, nn.ReLU(), third)\n",
    "        self.dropout = nn.Dropout(dropout_p)\n",
    "    \n",
    "    def forward(self, x):\n",
    "        return self.dropout(self.model(x))\n",
    "\n",
    "    def predict_proba(self, x):\n",
    "        return sigmoid(self(x))\n",
    "    \n",
    "    def predict(self, x, threshold: float = 0.5):\n",
    "        y_pred_score = self.predict_proba(x)\n",
    "        return (y_pred_score > threshold).to(torch.int32)\n",
    "\n"
   ]
  },
  {
   "cell_type": "code",
   "execution_count": 38,
   "metadata": {
    "execution": {
     "iopub.execute_input": "2024-11-20T17:51:48.820635Z",
     "iopub.status.busy": "2024-11-20T17:51:48.820522Z",
     "iopub.status.idle": "2024-11-20T17:51:48.825272Z",
     "shell.execute_reply": "2024-11-20T17:51:48.824811Z",
     "shell.execute_reply.started": "2024-11-20T17:51:48.820626Z"
    },
    "tags": [
     "ex"
    ]
   },
   "outputs": [
    {
     "name": "stdout",
     "output_type": "stream",
     "text": [
      "Solution is correct!\n"
     ]
    }
   ],
   "source": [
    "verification_input_size = 143\n",
    "verification_dropout_p = 0.125\n",
    "verification_model = RegularizedMLP(\n",
    "    input_size=verification_input_size,\n",
    "    dropout_p=verification_dropout_p,\n",
    ")\n",
    "\n",
    "assert any(\n",
    "    isinstance(module, nn.Linear) and module.in_features == verification_input_size and module.out_features == 256\n",
    "    for module in verification_model.modules()\n",
    ")\n",
    "\n",
    "assert any(\n",
    "    isinstance(module, nn.Linear) and module.in_features == 256 and module.out_features == 128\n",
    "    for module in verification_model.modules()\n",
    ")\n",
    "\n",
    "assert any(\n",
    "    isinstance(module, nn.Linear) and module.in_features == 128 and module.out_features == 1\n",
    "    for module in verification_model.modules()\n",
    ")\n",
    "\n",
    "assert any(isinstance(module, nn.Dropout) and module.p == verification_dropout_p for module in verification_model.modules())\n",
    "assert any(isinstance(module, nn.ReLU) for module in verification_model.modules())\n",
    "\n",
    "print(\"Solution is correct!\")"
   ]
  },
  {
   "cell_type": "markdown",
   "metadata": {
    "id": "rEk9azaULAsz"
   },
   "source": [
    "Opisaliśmy wcześniej podstawowy optymalizator w sieciach neuronowych - spadek wzdłuż gradientu. Jednak wymaga on użycia całego zbioru danych, aby obliczyć gradient, co jest często niewykonalne przez rozmiar zbioru. Dlatego wymyślono **stochastyczny spadek wzdłuż gradientu (stochastic gradient descent, SGD)**, w którym używamy 1 przykładu naraz, liczymy gradient tylko po nim i aktualizujemy parametry. Jest to oczywiście dość grube przybliżenie gradientu, ale pozwala robić szybko dużo małych kroków. Kompromisem, którego używa się w praktyce, jest **minibatch gradient descent**, czyli używanie batchy np. 32, 64 czy 128 przykładów.\n",
    "\n",
    "Rzadko wspominanym, a ważnym faktem jest także to, że stochastyczność metody optymalizacji jest sama w sobie też [metodą regularyzacji](https://arxiv.org/abs/2101.12176), a więc `batch_size` to także hiperparametr.\n",
    "\n",
    "Obecnie najpopularniejszą odmianą SGD jest [Adam](https://arxiv.org/abs/1412.6980), gdyż uczy on szybko sieć oraz daje bardzo dobre wyniki nawet przy niekoniecznie idealnie dobranych hiperparametrach. W PyTorchu najlepiej korzystać z jego implementacji `AdamW`, która jest nieco lepsza niż implementacja `Adam`. Jest to zasadniczo zawsze wybór domyślny przy treningu współczesnych sieci neuronowych.\n",
    "\n",
    "Na razie użyjemy jednak minibatch SGD."
   ]
  },
  {
   "cell_type": "markdown",
   "metadata": {},
   "source": [
    "Poniżej znajduje się implementacja prostej klasy dziedziczącej po `Dataset` - tak w PyTorchu implementuje się własne zbiory danych. Użycie takich klas umożliwia użycie klas ładujących dane (`DataLoader`), które z kolei pozwalają łatwo ładować batche danych. Trzeba w takiej klasie zaimplementować metody:\n",
    "- `__len__` - zwraca ilość punktów w zbiorze\n",
    "- `__getitem__` - zwraca przykład ze zbioru pod danym indeksem oraz jego klasę\n"
   ]
  },
  {
   "cell_type": "code",
   "execution_count": 39,
   "metadata": {
    "execution": {
     "iopub.execute_input": "2024-11-20T17:51:48.825756Z",
     "iopub.status.busy": "2024-11-20T17:51:48.825638Z",
     "iopub.status.idle": "2024-11-20T17:51:48.828453Z",
     "shell.execute_reply": "2024-11-20T17:51:48.827981Z",
     "shell.execute_reply.started": "2024-11-20T17:51:48.825747Z"
    }
   },
   "outputs": [],
   "source": [
    "from torch.utils.data import Dataset\n",
    "\n",
    "\n",
    "class MyDataset(Dataset):\n",
    "    def __init__(self, data, y):\n",
    "        super().__init__()\n",
    "        \n",
    "        self.data = data\n",
    "        self.y = y\n",
    "    \n",
    "    def __len__(self):\n",
    "        return self.data.shape[0]\n",
    "    \n",
    "    def __getitem__(self, idx):\n",
    "        return self.data[idx], self.y[idx]\n",
    "\n"
   ]
  },
  {
   "cell_type": "markdown",
   "metadata": {
    "tags": [
     "ex"
    ]
   },
   "source": [
    "### Zadanie 7 (1.5 punktu)\n",
    "\n",
    "Zaimplementuj pętlę treningowo-walidacyjną dla sieci neuronowej. Wykorzystaj podane wartości hiperparametrów do treningu (stała ucząca, prawdopodobieństwo dropoutu, regularyzacja L2, rozmiar batcha, maksymalna liczba epok). Użyj optymalizatora SGD.\n",
    "\n",
    "Dodatkowo zaimplementuj regularyzację przez early stopping. Sprawdzaj co epokę wynik na zbiorze walidacyjnym. Użyj podanej wartości patience, a jako metryki po prostu wartości funkcji kosztu. Może się tutaj przydać zaimplementowana funkcja `evaluate_model()`.\n",
    "\n",
    "Pamiętaj o tym, aby przechowywać najlepszy dotychczasowy wynik walidacyjny oraz najlepszy dotychczasowy model. Zapamiętaj też optymalny próg do klasyfikacji dla najlepszego modelu."
   ]
  },
  {
   "cell_type": "code",
   "execution_count": 40,
   "metadata": {
    "execution": {
     "iopub.execute_input": "2024-11-20T17:51:48.829122Z",
     "iopub.status.busy": "2024-11-20T17:51:48.828970Z",
     "iopub.status.idle": "2024-11-20T17:51:48.831620Z",
     "shell.execute_reply": "2024-11-20T17:51:48.831198Z",
     "shell.execute_reply.started": "2024-11-20T17:51:48.829111Z"
    },
    "tags": [
     "ex"
    ]
   },
   "outputs": [],
   "source": [
    "from copy import deepcopy\n",
    "\n",
    "from torch.utils.data import DataLoader\n",
    "\n",
    "\n",
    "learning_rate = 1e-3\n",
    "dropout_p = 0.5\n",
    "l2_reg = 1e-4\n",
    "batch_size = 128\n",
    "max_epochs = 300\n",
    "\n",
    "early_stopping_patience = 4"
   ]
  },
  {
   "cell_type": "code",
   "execution_count": 41,
   "metadata": {
    "editable": true,
    "execution": {
     "iopub.execute_input": "2024-11-20T17:51:48.832157Z",
     "iopub.status.busy": "2024-11-20T17:51:48.832000Z",
     "iopub.status.idle": "2024-11-20T17:52:57.715490Z",
     "shell.execute_reply": "2024-11-20T17:52:57.715186Z",
     "shell.execute_reply.started": "2024-11-20T17:51:48.832147Z"
    },
    "lines_to_next_cell": 2,
    "scrolled": true,
    "slideshow": {
     "slide_type": ""
    },
    "tags": [
     "ex"
    ]
   },
   "outputs": [
    {
     "name": "stdout",
     "output_type": "stream",
     "text": [
      "Epoch 0 train loss: 0.6683, eval loss 0.6638\n",
      "Epoch 1 train loss: 0.6551, eval loss 0.6518\n",
      "Epoch 2 train loss: 0.6351, eval loss 0.6418\n",
      "Epoch 3 train loss: 0.6254, eval loss 0.6332\n",
      "Epoch 4 train loss: 0.6138, eval loss 0.6257\n",
      "Epoch 5 train loss: 0.6324, eval loss 0.6195\n",
      "Epoch 6 train loss: 0.6100, eval loss 0.6139\n",
      "Epoch 7 train loss: 0.6242, eval loss 0.6090\n",
      "Epoch 8 train loss: 0.6463, eval loss 0.6045\n",
      "Epoch 9 train loss: 0.6256, eval loss 0.6004\n",
      "Epoch 10 train loss: 0.6057, eval loss 0.5966\n",
      "Epoch 11 train loss: 0.6017, eval loss 0.5931\n",
      "Epoch 12 train loss: 0.6293, eval loss 0.5900\n",
      "Epoch 13 train loss: 0.6229, eval loss 0.5870\n",
      "Epoch 14 train loss: 0.6226, eval loss 0.5842\n",
      "Epoch 15 train loss: 0.5847, eval loss 0.5815\n",
      "Epoch 16 train loss: 0.6477, eval loss 0.5789\n",
      "Epoch 17 train loss: 0.6007, eval loss 0.5762\n",
      "Epoch 18 train loss: 0.5822, eval loss 0.5738\n",
      "Epoch 19 train loss: 0.5947, eval loss 0.5712\n",
      "Epoch 20 train loss: 0.6114, eval loss 0.5688\n",
      "Epoch 21 train loss: 0.5921, eval loss 0.5663\n",
      "Epoch 22 train loss: 0.5784, eval loss 0.5639\n",
      "Epoch 23 train loss: 0.6405, eval loss 0.5612\n",
      "Epoch 24 train loss: 0.5932, eval loss 0.5587\n",
      "Epoch 25 train loss: 0.6116, eval loss 0.5561\n",
      "Epoch 26 train loss: 0.6037, eval loss 0.5534\n",
      "Epoch 27 train loss: 0.5969, eval loss 0.5509\n",
      "Epoch 28 train loss: 0.5848, eval loss 0.5481\n",
      "Epoch 29 train loss: 0.5808, eval loss 0.5453\n",
      "Epoch 30 train loss: 0.5766, eval loss 0.5427\n",
      "Epoch 31 train loss: 0.5664, eval loss 0.5400\n",
      "Epoch 32 train loss: 0.5597, eval loss 0.5371\n",
      "Epoch 33 train loss: 0.5649, eval loss 0.5345\n",
      "Epoch 34 train loss: 0.5948, eval loss 0.5316\n",
      "Epoch 35 train loss: 0.5870, eval loss 0.5287\n",
      "Epoch 36 train loss: 0.6134, eval loss 0.5259\n",
      "Epoch 37 train loss: 0.5409, eval loss 0.5229\n",
      "Epoch 38 train loss: 0.5850, eval loss 0.5201\n",
      "Epoch 39 train loss: 0.5732, eval loss 0.5171\n",
      "Epoch 40 train loss: 0.5125, eval loss 0.5138\n",
      "Epoch 41 train loss: 0.5588, eval loss 0.5108\n",
      "Epoch 42 train loss: 0.5724, eval loss 0.5078\n",
      "Epoch 43 train loss: 0.5623, eval loss 0.5047\n",
      "Epoch 44 train loss: 0.5498, eval loss 0.5018\n",
      "Epoch 45 train loss: 0.5537, eval loss 0.4990\n",
      "Epoch 46 train loss: 0.5756, eval loss 0.4959\n",
      "Epoch 47 train loss: 0.5385, eval loss 0.4929\n",
      "Epoch 48 train loss: 0.5989, eval loss 0.4899\n",
      "Epoch 49 train loss: 0.5306, eval loss 0.4873\n",
      "Epoch 50 train loss: 0.5288, eval loss 0.4848\n",
      "Epoch 51 train loss: 0.5570, eval loss 0.4821\n",
      "Epoch 52 train loss: 0.5473, eval loss 0.4794\n",
      "Epoch 53 train loss: 0.5352, eval loss 0.4768\n",
      "Epoch 54 train loss: 0.5420, eval loss 0.4743\n",
      "Epoch 55 train loss: 0.5522, eval loss 0.4716\n",
      "Epoch 56 train loss: 0.5114, eval loss 0.4690\n",
      "Epoch 57 train loss: 0.5381, eval loss 0.4665\n",
      "Epoch 58 train loss: 0.5758, eval loss 0.4639\n",
      "Epoch 59 train loss: 0.5574, eval loss 0.4620\n",
      "Epoch 60 train loss: 0.5417, eval loss 0.4600\n",
      "Epoch 61 train loss: 0.5436, eval loss 0.4573\n",
      "Epoch 62 train loss: 0.5304, eval loss 0.4556\n",
      "Epoch 63 train loss: 0.5396, eval loss 0.4536\n",
      "Epoch 64 train loss: 0.5524, eval loss 0.4519\n",
      "Epoch 65 train loss: 0.4960, eval loss 0.4496\n",
      "Epoch 66 train loss: 0.5037, eval loss 0.4481\n",
      "Epoch 67 train loss: 0.5429, eval loss 0.4465\n",
      "Epoch 68 train loss: 0.5319, eval loss 0.4447\n",
      "Epoch 69 train loss: 0.5843, eval loss 0.4432\n",
      "Epoch 70 train loss: 0.5315, eval loss 0.4416\n",
      "Epoch 71 train loss: 0.5864, eval loss 0.4399\n",
      "Epoch 72 train loss: 0.5653, eval loss 0.4386\n",
      "Epoch 73 train loss: 0.5105, eval loss 0.4369\n",
      "Epoch 74 train loss: 0.5427, eval loss 0.4357\n",
      "Epoch 75 train loss: 0.4961, eval loss 0.4344\n",
      "Epoch 76 train loss: 0.5529, eval loss 0.4333\n",
      "Epoch 77 train loss: 0.5373, eval loss 0.4317\n",
      "Epoch 78 train loss: 0.4960, eval loss 0.4307\n",
      "Epoch 79 train loss: 0.5566, eval loss 0.4298\n",
      "Epoch 80 train loss: 0.5361, eval loss 0.4282\n",
      "Epoch 81 train loss: 0.5050, eval loss 0.4273\n",
      "Epoch 82 train loss: 0.5103, eval loss 0.4265\n",
      "Epoch 83 train loss: 0.4904, eval loss 0.4253\n",
      "Epoch 84 train loss: 0.6094, eval loss 0.4241\n",
      "Epoch 85 train loss: 0.5611, eval loss 0.4231\n",
      "Epoch 86 train loss: 0.5346, eval loss 0.4221\n",
      "Epoch 87 train loss: 0.4770, eval loss 0.4209\n",
      "Epoch 88 train loss: 0.5936, eval loss 0.4199\n",
      "Epoch 89 train loss: 0.5627, eval loss 0.4191\n",
      "Epoch 90 train loss: 0.5533, eval loss 0.4185\n",
      "Epoch 91 train loss: 0.5896, eval loss 0.4178\n",
      "Epoch 92 train loss: 0.5117, eval loss 0.4169\n",
      "Epoch 93 train loss: 0.5435, eval loss 0.4163\n",
      "Epoch 94 train loss: 0.5144, eval loss 0.4157\n",
      "Epoch 95 train loss: 0.5597, eval loss 0.4147\n",
      "Epoch 96 train loss: 0.5319, eval loss 0.4142\n",
      "Epoch 97 train loss: 0.6014, eval loss 0.4137\n",
      "Epoch 98 train loss: 0.5462, eval loss 0.4132\n",
      "Epoch 99 train loss: 0.5388, eval loss 0.4125\n",
      "Epoch 100 train loss: 0.5701, eval loss 0.4123\n",
      "Epoch 101 train loss: 0.5163, eval loss 0.4114\n",
      "Epoch 102 train loss: 0.4691, eval loss 0.4107\n",
      "Epoch 103 train loss: 0.5496, eval loss 0.4104\n",
      "Epoch 104 train loss: 0.5790, eval loss 0.4099\n",
      "Epoch 105 train loss: 0.5568, eval loss 0.4089\n",
      "Epoch 106 train loss: 0.5634, eval loss 0.4084\n",
      "Epoch 107 train loss: 0.5213, eval loss 0.4081\n",
      "Epoch 108 train loss: 0.6011, eval loss 0.4077\n",
      "Epoch 109 train loss: 0.5573, eval loss 0.4074\n",
      "Epoch 110 train loss: 0.5240, eval loss 0.4064\n",
      "Epoch 111 train loss: 0.5064, eval loss 0.4065\n",
      "Epoch 112 train loss: 0.5968, eval loss 0.4055\n",
      "Epoch 113 train loss: 0.5298, eval loss 0.4053\n",
      "Epoch 114 train loss: 0.5326, eval loss 0.4051\n",
      "Epoch 115 train loss: 0.5174, eval loss 0.4045\n",
      "Epoch 116 train loss: 0.5317, eval loss 0.4042\n",
      "Epoch 117 train loss: 0.5227, eval loss 0.4034\n",
      "Epoch 118 train loss: 0.5550, eval loss 0.4030\n",
      "Epoch 119 train loss: 0.5435, eval loss 0.4024\n",
      "Epoch 120 train loss: 0.5488, eval loss 0.4017\n",
      "Epoch 121 train loss: 0.5740, eval loss 0.4015\n",
      "Epoch 122 train loss: 0.4788, eval loss 0.4011\n",
      "Epoch 123 train loss: 0.4735, eval loss 0.4017\n",
      "Epoch 124 train loss: 0.5384, eval loss 0.4012\n",
      "Epoch 125 train loss: 0.5642, eval loss 0.4011\n",
      "Epoch 126 train loss: 0.5063, eval loss 0.4008\n",
      "Epoch 127 train loss: 0.5691, eval loss 0.4002\n",
      "Epoch 128 train loss: 0.4976, eval loss 0.3998\n",
      "Epoch 129 train loss: 0.5249, eval loss 0.3993\n",
      "Epoch 130 train loss: 0.5498, eval loss 0.3991\n",
      "Epoch 131 train loss: 0.5421, eval loss 0.3989\n",
      "Epoch 132 train loss: 0.5062, eval loss 0.3984\n",
      "Epoch 133 train loss: 0.4826, eval loss 0.3981\n",
      "Epoch 134 train loss: 0.5204, eval loss 0.3974\n",
      "Epoch 135 train loss: 0.5799, eval loss 0.3975\n",
      "Epoch 136 train loss: 0.5710, eval loss 0.3976\n",
      "Epoch 137 train loss: 0.5341, eval loss 0.3975\n",
      "Epoch 138 train loss: 0.5005, eval loss 0.3969\n",
      "Epoch 139 train loss: 0.5729, eval loss 0.3965\n",
      "Epoch 140 train loss: 0.5071, eval loss 0.3962\n",
      "Epoch 141 train loss: 0.5641, eval loss 0.3959\n",
      "Epoch 142 train loss: 0.5574, eval loss 0.3959\n",
      "Epoch 143 train loss: 0.5478, eval loss 0.3953\n",
      "Epoch 144 train loss: 0.5505, eval loss 0.3948\n",
      "Epoch 145 train loss: 0.5948, eval loss 0.3943\n",
      "Epoch 146 train loss: 0.5170, eval loss 0.3946\n",
      "Epoch 147 train loss: 0.5625, eval loss 0.3941\n",
      "Epoch 148 train loss: 0.5537, eval loss 0.3937\n",
      "Epoch 149 train loss: 0.5242, eval loss 0.3935\n",
      "Epoch 150 train loss: 0.5345, eval loss 0.3932\n",
      "Epoch 151 train loss: 0.5448, eval loss 0.3931\n",
      "Epoch 152 train loss: 0.5041, eval loss 0.3925\n",
      "Epoch 153 train loss: 0.5409, eval loss 0.3922\n",
      "Epoch 154 train loss: 0.4779, eval loss 0.3924\n",
      "Epoch 155 train loss: 0.5648, eval loss 0.3924\n",
      "Epoch 156 train loss: 0.5644, eval loss 0.3921\n",
      "Epoch 157 train loss: 0.4844, eval loss 0.3920\n",
      "Epoch 158 train loss: 0.6099, eval loss 0.3915\n",
      "Epoch 159 train loss: 0.5255, eval loss 0.3911\n",
      "Epoch 160 train loss: 0.5417, eval loss 0.3908\n",
      "Epoch 161 train loss: 0.5829, eval loss 0.3909\n",
      "Epoch 162 train loss: 0.5617, eval loss 0.3907\n",
      "Epoch 163 train loss: 0.5463, eval loss 0.3906\n",
      "Epoch 164 train loss: 0.5026, eval loss 0.3902\n",
      "Epoch 165 train loss: 0.5277, eval loss 0.3899\n",
      "Epoch 166 train loss: 0.5558, eval loss 0.3897\n",
      "Epoch 167 train loss: 0.5542, eval loss 0.3894\n",
      "Epoch 168 train loss: 0.4974, eval loss 0.3893\n",
      "Epoch 169 train loss: 0.5095, eval loss 0.3892\n",
      "Epoch 170 train loss: 0.5543, eval loss 0.3888\n",
      "Epoch 171 train loss: 0.5150, eval loss 0.3882\n",
      "Epoch 172 train loss: 0.5309, eval loss 0.3882\n",
      "Epoch 173 train loss: 0.5551, eval loss 0.3880\n",
      "Epoch 174 train loss: 0.4909, eval loss 0.3878\n",
      "Epoch 175 train loss: 0.5188, eval loss 0.3882\n",
      "Epoch 176 train loss: 0.5063, eval loss 0.3877\n",
      "Epoch 177 train loss: 0.5407, eval loss 0.3874\n",
      "Epoch 178 train loss: 0.5216, eval loss 0.3874\n",
      "Epoch 179 train loss: 0.5554, eval loss 0.3873\n",
      "Epoch 180 train loss: 0.5616, eval loss 0.3866\n",
      "Epoch 181 train loss: 0.5165, eval loss 0.3866\n",
      "Epoch 182 train loss: 0.4900, eval loss 0.3863\n",
      "Epoch 183 train loss: 0.5096, eval loss 0.3861\n",
      "Epoch 184 train loss: 0.5329, eval loss 0.3864\n",
      "Epoch 185 train loss: 0.5350, eval loss 0.3860\n",
      "Epoch 186 train loss: 0.5366, eval loss 0.3856\n",
      "Epoch 187 train loss: 0.5312, eval loss 0.3855\n",
      "Epoch 188 train loss: 0.4917, eval loss 0.3850\n",
      "Epoch 189 train loss: 0.5588, eval loss 0.3847\n",
      "Epoch 190 train loss: 0.5309, eval loss 0.3843\n",
      "Epoch 191 train loss: 0.5118, eval loss 0.3844\n",
      "Epoch 192 train loss: 0.5175, eval loss 0.3843\n",
      "Epoch 193 train loss: 0.4594, eval loss 0.3844\n",
      "Epoch 194 train loss: 0.5245, eval loss 0.3842\n",
      "Epoch 195 train loss: 0.5487, eval loss 0.3839\n",
      "Epoch 196 train loss: 0.5487, eval loss 0.3839\n",
      "Epoch 197 train loss: 0.5381, eval loss 0.3833\n",
      "Epoch 198 train loss: 0.5480, eval loss 0.3834\n",
      "Epoch 199 train loss: 0.5371, eval loss 0.3833\n",
      "Epoch 200 train loss: 0.5420, eval loss 0.3837\n",
      "Epoch 201 train loss: 0.5095, eval loss 0.3834\n",
      "Epoch 202 train loss: 0.5038, eval loss 0.3832\n",
      "Epoch 203 train loss: 0.5051, eval loss 0.3830\n",
      "Epoch 204 train loss: 0.5213, eval loss 0.3829\n",
      "Epoch 205 train loss: 0.5713, eval loss 0.3828\n",
      "Epoch 206 train loss: 0.4933, eval loss 0.3823\n",
      "Epoch 207 train loss: 0.4923, eval loss 0.3822\n",
      "Epoch 208 train loss: 0.5594, eval loss 0.3823\n",
      "Epoch 209 train loss: 0.5853, eval loss 0.3818\n",
      "Epoch 210 train loss: 0.5305, eval loss 0.3818\n",
      "Epoch 211 train loss: 0.5392, eval loss 0.3817\n",
      "Epoch 212 train loss: 0.5071, eval loss 0.3817\n",
      "Epoch 213 train loss: 0.5049, eval loss 0.3815\n",
      "Epoch 214 train loss: 0.4942, eval loss 0.3811\n",
      "Epoch 215 train loss: 0.5019, eval loss 0.3809\n",
      "Epoch 216 train loss: 0.5092, eval loss 0.3811\n",
      "Epoch 217 train loss: 0.5742, eval loss 0.3810\n",
      "Epoch 218 train loss: 0.5253, eval loss 0.3812\n",
      "Epoch 219 train loss: 0.5395, eval loss 0.3807\n",
      "Epoch 220 train loss: 0.4991, eval loss 0.3804\n",
      "Epoch 221 train loss: 0.5202, eval loss 0.3801\n",
      "Epoch 222 train loss: 0.5421, eval loss 0.3803\n",
      "Epoch 223 train loss: 0.5515, eval loss 0.3798\n",
      "Epoch 224 train loss: 0.5022, eval loss 0.3798\n",
      "Epoch 225 train loss: 0.5562, eval loss 0.3798\n",
      "Epoch 226 train loss: 0.5109, eval loss 0.3793\n",
      "Epoch 227 train loss: 0.5225, eval loss 0.3795\n",
      "Epoch 228 train loss: 0.5173, eval loss 0.3794\n",
      "Epoch 229 train loss: 0.5729, eval loss 0.3795\n",
      "Epoch 230 train loss: 0.5383, eval loss 0.3792\n",
      "Epoch 231 train loss: 0.5456, eval loss 0.3791\n",
      "Epoch 232 train loss: 0.5526, eval loss 0.3791\n",
      "Epoch 233 train loss: 0.5651, eval loss 0.3789\n",
      "Epoch 234 train loss: 0.4969, eval loss 0.3791\n",
      "Epoch 235 train loss: 0.5559, eval loss 0.3788\n",
      "Epoch 236 train loss: 0.5759, eval loss 0.3786\n",
      "Epoch 237 train loss: 0.5414, eval loss 0.3783\n",
      "Epoch 238 train loss: 0.5200, eval loss 0.3783\n",
      "Epoch 239 train loss: 0.5414, eval loss 0.3777\n",
      "Epoch 240 train loss: 0.5247, eval loss 0.3777\n",
      "Epoch 241 train loss: 0.4995, eval loss 0.3775\n",
      "Epoch 242 train loss: 0.5306, eval loss 0.3778\n",
      "Epoch 243 train loss: 0.5612, eval loss 0.3775\n",
      "Epoch 244 train loss: 0.5577, eval loss 0.3770\n",
      "Epoch 245 train loss: 0.5052, eval loss 0.3766\n",
      "Epoch 246 train loss: 0.5389, eval loss 0.3766\n",
      "Epoch 247 train loss: 0.4737, eval loss 0.3762\n",
      "Epoch 248 train loss: 0.4912, eval loss 0.3758\n",
      "Epoch 249 train loss: 0.5098, eval loss 0.3758\n",
      "Epoch 250 train loss: 0.5596, eval loss 0.3760\n",
      "Epoch 251 train loss: 0.5493, eval loss 0.3763\n"
     ]
    }
   ],
   "source": [
    "# 1m\n",
    "model = RegularizedMLP(\n",
    "    input_size=X_train.shape[1], \n",
    "    dropout_p=dropout_p\n",
    ")\n",
    "optimizer = torch.optim.SGD(\n",
    "    model.parameters(), \n",
    "    lr=learning_rate, \n",
    "    weight_decay=l2_reg\n",
    ")\n",
    "loss_fn = torch.nn.BCEWithLogitsLoss()\n",
    "\n",
    "train_dataset = MyDataset(X_train, y_train)\n",
    "train_dataloader = DataLoader(train_dataset, batch_size=batch_size)\n",
    "\n",
    "steps_without_improvement = 0\n",
    "\n",
    "best_val_loss = np.inf\n",
    "best_model = None\n",
    "best_threshold = None\n",
    "\n",
    "for epoch_num in range(max_epochs):\n",
    "    model.train()\n",
    "    \n",
    "    # note that we are using DataLoader to get batches\n",
    "    for X_batch, y_batch in train_dataloader:\n",
    "        y_pred = model(X_batch)\n",
    "        loss = loss_fn(y_pred, y_batch)\n",
    "        loss.backward()\n",
    "        optimizer.step()\n",
    "        optimizer.zero_grad()\n",
    "    model.eval()\n",
    "    with torch.no_grad():\n",
    "        valid_metrics = evaluate_model(model, X_valid, y_valid, loss_fn)\n",
    "        if valid_metrics[\"loss\"] < best_val_loss:\n",
    "            best_model = deepcopy(model)\n",
    "            best_threshold = valid_metrics[\"optimal_threshold\"]\n",
    "            best_val_loss = valid_metrics[\"loss\"]\n",
    "            steps_without_improvement = 0\n",
    "        else:\n",
    "            steps_without_improvement += 1\n",
    "    if steps_without_improvement == early_stopping_patience:\n",
    "        break\n",
    "    \n",
    "    print(f\"Epoch {epoch_num} train loss: {loss.item():.4f}, eval loss {valid_metrics['loss']:.4f}\")"
   ]
  },
  {
   "cell_type": "code",
   "execution_count": 42,
   "metadata": {
    "execution": {
     "iopub.execute_input": "2024-11-20T17:52:57.716014Z",
     "iopub.status.busy": "2024-11-20T17:52:57.715846Z",
     "iopub.status.idle": "2024-11-20T17:52:57.742855Z",
     "shell.execute_reply": "2024-11-20T17:52:57.742226Z",
     "shell.execute_reply.started": "2024-11-20T17:52:57.716004Z"
    },
    "tags": [
     "ex"
    ]
   },
   "outputs": [
    {
     "name": "stdout",
     "output_type": "stream",
     "text": [
      "AUROC: 90.19%\n",
      "F1: 68.42%\n",
      "Precision: 61.06%\n",
      "Recall: 77.81%\n"
     ]
    }
   ],
   "source": [
    "test_metrics = evaluate_model(best_model, X_test, y_test, loss_fn, best_threshold)\n",
    "\n",
    "print(f\"AUROC: {test_metrics['AUROC']:.2%}\")\n",
    "print(f\"F1: {test_metrics['F1-score']:.2%}\")\n",
    "print(f\"Precision: {test_metrics['precision']:.2%}\")\n",
    "print(f\"Recall: {test_metrics['recall']:.2%}\")"
   ]
  },
  {
   "cell_type": "code",
   "execution_count": 43,
   "metadata": {
    "execution": {
     "iopub.execute_input": "2024-11-20T17:52:57.743586Z",
     "iopub.status.busy": "2024-11-20T17:52:57.743401Z",
     "iopub.status.idle": "2024-11-20T17:52:57.757763Z",
     "shell.execute_reply": "2024-11-20T17:52:57.757366Z",
     "shell.execute_reply.started": "2024-11-20T17:52:57.743573Z"
    },
    "tags": [
     "ex"
    ]
   },
   "outputs": [
    {
     "name": "stdout",
     "output_type": "stream",
     "text": [
      "Solution is correct!\n"
     ]
    }
   ],
   "source": [
    "assert test_metrics[\"AUROC\"] > 0.8\n",
    "assert test_metrics[\"F1-score\"] > 0.6\n",
    "assert test_metrics[\"precision\"] > 0.5\n",
    "assert test_metrics[\"recall\"] > 0.6\n",
    "\n",
    "print(\"Solution is correct!\")"
   ]
  },
  {
   "cell_type": "markdown",
   "metadata": {},
   "source": [
    "Wyniki wyglądają już dużo lepiej.\n",
    "\n",
    "Na koniec laboratorium dołożymy do naszego modelu jeszcze 3 powrzechnie używane techniki, które są bardzo proste, a pozwalają często ulepszyć wynik modelu.\n",
    "\n",
    "Pierwszą z nich są **warstwy normalizacji (normalization layers)**. Powstały one początkowo z założeniem, że przez przekształcenia przestrzeni dokonywane przez sieć zmienia się rozkład prawdopodobieństw pomiędzy warstwami, czyli tzw. *internal covariate shift*. Później okazało się, że zastosowanie takiej normalizacji wygładza powierzchnię funkcji kosztu, co ułatwia i przyspiesza optymalizację. Najpowszechniej używaną normalizacją jest **batch normalization (batch norm)**.\n",
    "\n",
    "Drugim ulepszeniem jest dodanie **wag klas (class weights)**. Mamy do czynienia z problemem klasyfikacji niezbalansowanej, więc klasa mniejszościowa, ważniejsza dla nas, powinna dostać większą wagę. Implementuje się to trywialnie prosto - po prostu mnożymy wartość funkcji kosztu dla danego przykładu przez wagę dla prawdziwej klasy tego przykładu. Praktycznie każdy klasyfikator operujący na jakiejś ważonej funkcji może działać w ten sposób, nie tylko sieci neuronowe.\n",
    "\n",
    "Ostatnim ulepszeniem jest zamiana SGD na optymalizator Adam, a konkretnie na optymalizator `AdamW`. Jest to przykład **optymalizatora adaptacyjnego (adaptive optimizer)**, który potrafi zaadaptować stałą uczącą dla każdego parametru z osobna w trakcie treningu. Wykorzystuje do tego gradienty - w uproszczeniu, im większa wariancja gradientu, tym mniejsze kroki w tym kierunku robimy."
   ]
  },
  {
   "cell_type": "markdown",
   "metadata": {
    "tags": [
     "ex"
    ]
   },
   "source": [
    "### Zadanie 8 (0.5 punktu)\n",
    "\n",
    "Zaimplementuj model `NormalizingMLP`, o takiej samej strukturze jak `RegularizedMLP`, ale dodatkowo z warstwami `BatchNorm1d` pomiędzy warstwami `Linear` oraz `ReLU`.\n",
    "\n",
    "Za pomocą funkcji `compute_class_weight()` oblicz wagi dla poszczególnych klas. Użyj opcji `\"balanced\"`. Przekaż do funkcji kosztu wagę klasy pozytywnej (pamiętaj, aby zamienić ją na tensor).\n",
    "\n",
    "Zamień używany optymalizator na `AdamW`.\n",
    "\n",
    "Na koniec skopiuj resztę kodu do treningu z poprzedniego zadania, wytrenuj sieć i oblicz wyniki na zbiorze testowym."
   ]
  },
  {
   "cell_type": "code",
   "execution_count": 44,
   "metadata": {
    "execution": {
     "iopub.execute_input": "2024-11-20T17:52:57.758256Z",
     "iopub.status.busy": "2024-11-20T17:52:57.758153Z",
     "iopub.status.idle": "2024-11-20T17:52:57.761508Z",
     "shell.execute_reply": "2024-11-20T17:52:57.761106Z",
     "shell.execute_reply.started": "2024-11-20T17:52:57.758247Z"
    },
    "tags": [
     "ex"
    ]
   },
   "outputs": [],
   "source": [
    "class NormalizingMLP(nn.Module):\n",
    "    def __init__(self, input_size: int, dropout_p: float = 0.5):\n",
    "        super().__init__()\n",
    "        first = nn.Linear(input_size, 256)\n",
    "        second = nn.Linear(256, 128)\n",
    "        third = nn.Linear(128, 1)\n",
    "        self.mlp = nn.Sequential(\n",
    "            first,\n",
    "            nn.BatchNorm1d(256),\n",
    "            nn.ReLU(),\n",
    "            nn.BatchNorm1d(256),\n",
    "            second,\n",
    "            nn.BatchNorm1d(128),\n",
    "            nn.ReLU(),\n",
    "            nn.BatchNorm1d(128),\n",
    "            third,\n",
    "            nn.Dropout(dropout_p)\n",
    "        )\n",
    "    \n",
    "    def forward(self, x):\n",
    "        return self.mlp(x)\n",
    "\n",
    "    def predict_proba(self, x):\n",
    "        return sigmoid(self(x))\n",
    "    \n",
    "    def predict(self, x, threshold: float = 0.5):\n",
    "        y_pred_score = self.predict_proba(x)\n",
    "        return (y_pred_score > threshold).to(torch.int32)\n",
    "\n"
   ]
  },
  {
   "cell_type": "code",
   "execution_count": 45,
   "metadata": {
    "execution": {
     "iopub.execute_input": "2024-11-20T17:52:57.762050Z",
     "iopub.status.busy": "2024-11-20T17:52:57.761930Z",
     "iopub.status.idle": "2024-11-20T17:52:57.765309Z",
     "shell.execute_reply": "2024-11-20T17:52:57.764859Z",
     "shell.execute_reply.started": "2024-11-20T17:52:57.762040Z"
    },
    "lines_to_next_cell": 2,
    "tags": [
     "ex"
    ]
   },
   "outputs": [],
   "source": [
    "from sklearn.utils.class_weight import compute_class_weight\n",
    "\n",
    "weight_y = y_valid.numpy().squeeze()\n",
    "weights = compute_class_weight(class_weight=\"balanced\",\n",
    "                               classes=np.unique(weight_y),\n",
    "                               y=weight_y)"
   ]
  },
  {
   "cell_type": "code",
   "execution_count": 46,
   "metadata": {
    "editable": true,
    "execution": {
     "iopub.execute_input": "2024-11-20T17:52:57.766247Z",
     "iopub.status.busy": "2024-11-20T17:52:57.765969Z",
     "iopub.status.idle": "2024-11-20T17:53:04.484688Z",
     "shell.execute_reply": "2024-11-20T17:53:04.484151Z",
     "shell.execute_reply.started": "2024-11-20T17:52:57.766225Z"
    },
    "slideshow": {
     "slide_type": ""
    },
    "tags": [
     "ex"
    ]
   },
   "outputs": [
    {
     "name": "stdout",
     "output_type": "stream",
     "text": [
      "Epoch 0 train loss: 0.7496, eval loss 0.5539\n",
      "Epoch 1 train loss: 0.6803, eval loss 0.5363\n",
      "Epoch 2 train loss: 0.6646, eval loss 0.5220\n",
      "Epoch 3 train loss: 0.6934, eval loss 0.5287\n",
      "Epoch 4 train loss: 0.6577, eval loss 0.5137\n",
      "Epoch 5 train loss: 0.7040, eval loss 0.5052\n",
      "Epoch 6 train loss: 0.5558, eval loss 0.5123\n",
      "Epoch 7 train loss: 0.6123, eval loss 0.5184\n",
      "Epoch 8 train loss: 0.6674, eval loss 0.5017\n",
      "Epoch 9 train loss: 0.6355, eval loss 0.5133\n",
      "Epoch 10 train loss: 0.6289, eval loss 0.5080\n",
      "Epoch 11 train loss: 0.7262, eval loss 0.5017\n"
     ]
    }
   ],
   "source": [
    "# 1m\n",
    "model = NormalizingMLP(\n",
    "    input_size=X_train.shape[1], \n",
    "    dropout_p=dropout_p\n",
    ")\n",
    "optimizer = torch.optim.AdamW(\n",
    "    model.parameters(), \n",
    "    lr=learning_rate, \n",
    "    weight_decay=l2_reg\n",
    ")\n",
    "loss_fn = torch.nn.BCEWithLogitsLoss(pos_weight=torch.from_numpy(weights)[1])\n",
    "\n",
    "train_dataset = MyDataset(X_train, y_train)\n",
    "train_dataloader = DataLoader(train_dataset, batch_size=batch_size)\n",
    "\n",
    "steps_without_improvement = 0\n",
    "\n",
    "best_val_loss = np.inf\n",
    "best_model = None\n",
    "best_threshold = None\n",
    "\n",
    "for epoch_num in range(max_epochs):\n",
    "    model.train()\n",
    "    \n",
    "    # note that we are using DataLoader to get batches\n",
    "    for X_batch, y_batch in train_dataloader:\n",
    "        y_pred = model(X_batch)\n",
    "        loss = loss_fn(y_pred, y_batch)\n",
    "        loss.backward()\n",
    "        optimizer.step()\n",
    "        optimizer.zero_grad()\n",
    "    model.eval()\n",
    "    with torch.no_grad():\n",
    "        valid_metrics = evaluate_model(model, X_valid, y_valid, loss_fn)\n",
    "        if valid_metrics[\"loss\"] < best_val_loss:\n",
    "            best_model = deepcopy(model)\n",
    "            best_threshold = valid_metrics[\"optimal_threshold\"]\n",
    "            best_val_loss = valid_metrics[\"loss\"]\n",
    "            steps_without_improvement = 0\n",
    "        else:\n",
    "            steps_without_improvement += 1\n",
    "    if steps_without_improvement == early_stopping_patience:\n",
    "        break\n",
    "    \n",
    "    print(f\"Epoch {epoch_num} train loss: {loss.item():.4f}, eval loss {valid_metrics['loss']:.4f}\")"
   ]
  },
  {
   "cell_type": "code",
   "execution_count": 47,
   "metadata": {
    "editable": true,
    "execution": {
     "iopub.execute_input": "2024-11-20T17:53:04.485475Z",
     "iopub.status.busy": "2024-11-20T17:53:04.485193Z",
     "iopub.status.idle": "2024-11-20T17:53:04.509702Z",
     "shell.execute_reply": "2024-11-20T17:53:04.509106Z",
     "shell.execute_reply.started": "2024-11-20T17:53:04.485461Z"
    },
    "slideshow": {
     "slide_type": ""
    },
    "tags": [
     "ex"
    ]
   },
   "outputs": [
    {
     "name": "stdout",
     "output_type": "stream",
     "text": [
      "AUROC: 90.47%\n",
      "F1: 68.42%\n",
      "Precision: 59.96%\n",
      "Recall: 79.66%\n"
     ]
    }
   ],
   "source": [
    "test_metrics = evaluate_model(best_model, X_test, y_test, loss_fn, best_threshold)\n",
    "\n",
    "print(f\"AUROC: {test_metrics['AUROC']:.2%}\")\n",
    "print(f\"F1: {test_metrics['F1-score']:.2%}\")\n",
    "print(f\"Precision: {test_metrics['precision']:.2%}\")\n",
    "print(f\"Recall: {test_metrics['recall']:.2%}\")"
   ]
  },
  {
   "cell_type": "code",
   "execution_count": 48,
   "metadata": {
    "execution": {
     "iopub.execute_input": "2024-11-20T17:53:04.510414Z",
     "iopub.status.busy": "2024-11-20T17:53:04.510222Z",
     "iopub.status.idle": "2024-11-20T17:53:04.516029Z",
     "shell.execute_reply": "2024-11-20T17:53:04.515592Z",
     "shell.execute_reply.started": "2024-11-20T17:53:04.510398Z"
    },
    "tags": [
     "ex"
    ]
   },
   "outputs": [
    {
     "name": "stdout",
     "output_type": "stream",
     "text": [
      "Solution is correct!\n"
     ]
    }
   ],
   "source": [
    "verification_input_size = 143\n",
    "verification_dropout_p = 0.125\n",
    "verification_model = NormalizingMLP(\n",
    "    input_size=verification_input_size,\n",
    "    dropout_p=verification_dropout_p,\n",
    ")\n",
    "\n",
    "assert any(\n",
    "    isinstance(module, nn.Linear) and module.in_features == verification_input_size and module.out_features == 256\n",
    "    for module in verification_model.modules()\n",
    ")\n",
    "\n",
    "assert any(\n",
    "    isinstance(module, nn.Linear) and module.in_features == 256 and module.out_features == 128\n",
    "    for module in verification_model.modules()\n",
    ")\n",
    "\n",
    "assert any(\n",
    "    isinstance(module, nn.Linear) and module.in_features == 128 and module.out_features == 1\n",
    "    for module in verification_model.modules()\n",
    ")\n",
    "\n",
    "assert any(isinstance(module, nn.Dropout) and module.p == verification_dropout_p for module in verification_model.modules())\n",
    "assert any(isinstance(module, nn.ReLU) for module in verification_model.modules())\n",
    "\n",
    "assert any(isinstance(module, nn.BatchNorm1d) for module in verification_model.modules())\n",
    "\n",
    "assert test_metrics[\"AUROC\"] > 0.8\n",
    "assert test_metrics[\"F1-score\"] > 0.6\n",
    "assert test_metrics[\"precision\"] > 0.5\n",
    "assert test_metrics[\"recall\"] > 0.6\n",
    "\n",
    "print(\"Solution is correct!\")"
   ]
  },
  {
   "cell_type": "markdown",
   "metadata": {
    "editable": true,
    "id": "XyoRnHT4GFR9",
    "slideshow": {
     "slide_type": ""
    },
    "tags": []
   },
   "source": [
    "## Akceleracja sprzętowa (dla zainteresowanych)"
   ]
  },
  {
   "cell_type": "markdown",
   "metadata": {},
   "source": [
    "Jak wcześniej wspominaliśmy, użycie akceleracji sprzętowej, czyli po prostu GPU do obliczeń, jest bardzo efektywne w przypadku sieci neuronowych. Karty graficzne bardzo efektywnie mnożą macierze, a sieci neuronowe to, jak można było się przekonać, dużo mnożenia macierzy.\n",
    "\n",
    "W PyTorchu jest to dosyć łatwe, ale trzeba robić to explicite. Służy do tego metoda `.to()`, która przenosi tensory między CPU i GPU. Poniżej przykład, jak to się robi (oczywiście trzeba mieć skonfigurowane GPU, żeby działało):"
   ]
  },
  {
   "cell_type": "code",
   "execution_count": 49,
   "metadata": {
    "execution": {
     "iopub.execute_input": "2024-11-20T17:53:04.516775Z",
     "iopub.status.busy": "2024-11-20T17:53:04.516574Z",
     "iopub.status.idle": "2024-11-20T17:53:12.865999Z",
     "shell.execute_reply": "2024-11-20T17:53:12.865597Z",
     "shell.execute_reply.started": "2024-11-20T17:53:04.516761Z"
    }
   },
   "outputs": [
    {
     "name": "stdout",
     "output_type": "stream",
     "text": [
      "Epoch 0 train loss: 0.9346, time: 0.13991117477416992\n",
      "Epoch 1 train loss: 0.4449, time: 0.37164902687072754\n",
      "Epoch 2 train loss: 0.4914, time: 0.30301856994628906\n",
      "Epoch 3 train loss: 0.4206, time: 0.3162198066711426\n",
      "Epoch 4 train loss: 0.6739, time: 0.3606595993041992\n",
      "Epoch 6 train loss: 0.3155, time: 0.32772374153137207\n",
      "Epoch 7 train loss: 0.4277, time: 0.29273533821105957\n",
      "Epoch 8 train loss: 0.4766, time: 0.300731897354126\n",
      "Epoch 9 train loss: 0.4709, time: 0.3002631664276123\n",
      "Epoch 11 train loss: 0.4853, time: 0.35259127616882324\n",
      "Epoch 12 train loss: 0.4113, time: 0.35139942169189453\n",
      "Epoch 13 train loss: 0.4756, time: 0.31911540031433105\n",
      "Epoch 14 train loss: 0.3454, time: 0.3092164993286133\n",
      "Epoch 15 train loss: 0.4908, time: 0.35028648376464844\n",
      "Epoch 17 train loss: 0.3584, time: 0.3878965377807617\n",
      "Epoch 18 train loss: 0.4603, time: 0.3606421947479248\n",
      "Epoch 19 train loss: 0.4304, time: 0.29816579818725586\n",
      "Epoch 20 train loss: 0.4129, time: 0.341888427734375\n",
      "Epoch 22 train loss: 0.5006, time: 0.3449568748474121\n",
      "Epoch 23 train loss: 0.4494, time: 0.36574387550354004\n",
      "Epoch 24 train loss: 0.3532, time: 0.3046555519104004\n",
      "Epoch 25 train loss: 0.4469, time: 0.33289384841918945\n",
      "Epoch 26 train loss: 0.4499, time: 0.34071993827819824\n",
      "Epoch 28 train loss: 0.5197, time: 0.2959098815917969\n",
      "Epoch 29 train loss: 0.5177, time: 0.3171727657318115\n",
      "AUROC: 90.35%\n",
      "F1: 69.14%\n",
      "{'AUROC': np.float64(0.9035079754854419), 'precision': np.float64(0.633085896076352), 'recall': np.float64(0.7614795918367347), 'F1-score': np.float64(0.6913723219455703), 'loss': tensor(0.5170), 'optimal_threshold': 0.5}\n"
     ]
    }
   ],
   "source": [
    "import time \n",
    "\n",
    "\n",
    "class CudaMLP(nn.Module):\n",
    "    def __init__(self, input_size: int, dropout_p: float = 0.5):\n",
    "        super().__init__()\n",
    "\n",
    "        self.mlp = nn.Sequential(\n",
    "            nn.Linear(input_size, 512),\n",
    "            nn.BatchNorm1d(512),\n",
    "            nn.ReLU(),\n",
    "            nn.Dropout(dropout_p),\n",
    "            nn.Linear(512, 256),\n",
    "            nn.BatchNorm1d(256),\n",
    "            nn.ReLU(),\n",
    "            nn.Dropout(dropout_p),\n",
    "            nn.Linear(256, 256),\n",
    "            nn.BatchNorm1d(256),\n",
    "            nn.ReLU(),\n",
    "            nn.Dropout(dropout_p),\n",
    "            nn.Linear(256, 128),\n",
    "            nn.BatchNorm1d(128),\n",
    "            nn.ReLU(),\n",
    "            nn.Dropout(dropout_p),\n",
    "            nn.Linear(128, 1),\n",
    "        )\n",
    "    \n",
    "    def forward(self, x):\n",
    "        return self.mlp(x)\n",
    "\n",
    "    def predict_proba(self, x):\n",
    "        return sigmoid(self(x))\n",
    "    \n",
    "    def predict(self, x, threshold: float = 0.5):\n",
    "        y_pred_score = self.predict_proba(x)\n",
    "        return (y_pred_score > threshold).to(torch.int32)\n",
    "\n",
    "\n",
    "model = CudaMLP(X_train.shape[1]).to('cuda')\n",
    "\n",
    "optimizer = torch.optim.AdamW(model.parameters(), lr=learning_rate, weight_decay=1e-4)\n",
    "\n",
    "# note that we are using loss function with sigmoid built in\n",
    "loss_fn = torch.nn.BCEWithLogitsLoss(pos_weight=torch.from_numpy(weights)[1].to('cuda'))\n",
    "\n",
    "step_counter = 0\n",
    "time_from_eval = time.time()\n",
    "for epoch_id in range(30):\n",
    "    for batch_x, batch_y in train_dataloader:\n",
    "        batch_x = batch_x.to('cuda')\n",
    "        batch_y = batch_y.to('cuda')\n",
    "        \n",
    "        loss = loss_fn(model(batch_x), batch_y)\n",
    "        loss.backward()\n",
    "\n",
    "        optimizer.step()\n",
    "        optimizer.zero_grad()\n",
    "        \n",
    "        if step_counter % evaluation_steps == 0:\n",
    "            print(f\"Epoch {epoch_id} train loss: {loss.item():.4f}, time: {time.time() - time_from_eval}\")\n",
    "            time_from_eval = time.time()\n",
    "\n",
    "        step_counter += 1\n",
    "\n",
    "test_res = evaluate_model(model.to('cpu'), X_test, y_test, loss_fn.to('cpu'), threshold=0.5)\n",
    "\n",
    "print(f\"AUROC: {test_res['AUROC']:.2%}\")\n",
    "print(f\"F1: {test_res['F1-score']:.2%}\")\n",
    "print(test_res)"
   ]
  },
  {
   "cell_type": "markdown",
   "metadata": {},
   "source": [
    "Co prawda ten model nie będzie tak dobry jak ten z laboratorium, ale zwróć uwagę, o ile jest większy, a przy tym szybszy.\n",
    "\n",
    "Dla zainteresowanych polecamy [tę serie artykułów](https://medium.com/@adi.fu7/ai-accelerators-part-i-intro-822c2cdb4ca4)"
   ]
  },
  {
   "cell_type": "markdown",
   "metadata": {
    "tags": [
     "ex"
    ]
   },
   "source": [
    "## Zadanie dla chętnych"
   ]
  },
  {
   "cell_type": "markdown",
   "metadata": {
    "tags": [
     "ex"
    ]
   },
   "source": [
    "Jak widzieliśmy, sieci neuronowe mają bardzo dużo hiperparametrów. Przeszukiwanie ich grid search'em jest więc niewykonalne, a chociaż random search by działał, to potrzebowałby wielu iteracji, co też jest kosztowne obliczeniowo.\n",
    "\n",
    "Zaimplementuj inteligentne przeszukiwanie przestrzeni hiperparametrów za pomocą biblioteki [Optuna](https://optuna.org/). Implementuje ona między innymi algorytm Tree Parzen Estimator (TPE), należący do grupy algorytmów typu Bayesian search. Typowo osiągają one bardzo dobre wyniki, a właściwie zawsze lepsze od przeszukiwania losowego. Do tego wystarcza im często niewielka liczba kroków.\n",
    "\n",
    "Zaimplementuj 3-warstwową sieć MLP, gdzie pierwsza warstwa ma rozmiar ukryty N, a druga N // 2. Ucz ją optymalizatorem Adam przez maksymalnie 300 epok z cierpliwością 10.\n",
    "\n",
    "Przeszukaj wybrane zakresy dla hiperparametrów:\n",
    "- rozmiar warstw ukrytych (N)\n",
    "- stała ucząca\n",
    "- batch size\n",
    "- siła regularyzacji L2\n",
    "- prawdopodobieństwo dropoutu\n",
    "\n",
    "Wykorzystaj przynajmniej 30 iteracji. Następnie przełącz algorytm na losowy (Optuna także jego implementuje), wykonaj 30 iteracji i porównaj jakość wyników.\n",
    "\n",
    "Przydatne materiały:\n",
    "- [Optuna code examples - PyTorch](https://optuna.org/#code_examples)\n",
    "- [Auto-Tuning Hyperparameters with Optuna and PyTorch](https://www.youtube.com/watch?v=P6NwZVl8ttc)\n",
    "- [Hyperparameter Tuning of Neural Networks with Optuna and PyTorch](https://towardsdatascience.com/hyperparameter-tuning-of-neural-networks-with-optuna-and-pytorch-22e179efc837)\n",
    "- [Using Optuna to Optimize PyTorch Hyperparameters](https://medium.com/pytorch/using-optuna-to-optimize-pytorch-hyperparameters-990607385e36)"
   ]
  },
  {
   "cell_type": "code",
   "execution_count": null,
   "metadata": {
    "tags": [
     "ex"
    ]
   },
   "outputs": [],
   "source": []
  }
 ],
 "metadata": {
  "colab": {
   "collapsed_sections": [],
   "provenance": []
  },
  "jupytext": {
   "formats": "ipynb,py:percent"
  },
  "kernelspec": {
   "display_name": "Python 3 (ipykernel)",
   "language": "python",
   "name": "python3"
  },
  "language_info": {
   "codemirror_mode": {
    "name": "ipython",
    "version": 3
   },
   "file_extension": ".py",
   "mimetype": "text/x-python",
   "name": "python",
   "nbconvert_exporter": "python",
   "pygments_lexer": "ipython3",
   "version": "3.12.3"
  },
  "vscode": {
   "interpreter": {
    "hash": "a5d7af91182035c53be6efb3f9b18ffc3e259c9c524705249407647c970de949"
   }
  }
 },
 "nbformat": 4,
 "nbformat_minor": 4
}
