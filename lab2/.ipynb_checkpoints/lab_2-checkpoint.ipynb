{
 "cells": [
  {
   "cell_type": "markdown",
   "metadata": {
    "pycharm": {
     "name": "#%% md\n"
    }
   },
   "source": [
    "# Klasyfikacja niezbalansowana, klasyfikatory zespołowe i wyjaśnialna AI"
   ]
  },
  {
   "cell_type": "markdown",
   "metadata": {
    "pycharm": {
     "name": "#%% md\n"
    }
   },
   "source": [
    "## Wykorzystanie Google Colab\n",
    "\n",
    "Jeśli korzystasz z Google Colab skopiuj plik `feature_names.json` do katalogu głównego projektu.\n",
    "\n",
    "[![Open in Colab](https://colab.research.google.com/assets/colab-badge.svg)](https://colab.research.google.com/github/apohllo/sztuczna-inteligencja/blob/master/lab2/lab_2.ipynb)"
   ]
  },
  {
   "cell_type": "markdown",
   "metadata": {
    "editable": true,
    "pycharm": {
     "name": "#%% md\n"
    },
    "slideshow": {
     "slide_type": ""
    },
    "tags": []
   },
   "source": [
    "## Ładowanie i eksploracja danych"
   ]
  },
  {
   "cell_type": "markdown",
   "metadata": {
    "editable": true,
    "pycharm": {
     "name": "#%% md\n"
    },
    "slideshow": {
     "slide_type": ""
    },
    "tags": []
   },
   "source": [
    "W trakcie tych zajęć laboratoryjnych wykorzystamy zbiór danych [Polish companies bankruptcy](https://archive.ics.uci.edu/ml/datasets/Polish+companies+bankruptcy+data). Dotyczy on klasyfikacji, na podstawie danych z raportów finansowych, czy firma zbankrutuje w ciągu najbliższych kilku lat. Jest to zadanie szczególnie istotne dla banków, funduszy inwestycyjnych, firm ubezpieczeniowych itp. Zbiór zawiera 64 cechy obliczonych przez ekonomistów. Są one opisane na wspomnianej wcześniej stronie. Dotyczą one zysków firm, posiadanych zasobów, długów itp.\n",
    "\n",
    "Ściągnij i rozpakuj dane (`Data Folder` -> `data.zip`) do katalogu `data` obok tego notebooka. Znajduje się tam 5 plików w formacie `.arff`, wykorzystywanym głównie przez oprogramowanie Weka. Jest to program do wyposażony w graficzny interfejs użytkownika, który był często używany przez mniej techincznie obeznanych użytkowników. W Pythonie dane w tym formacie ładuje się  za pomocą bibliotek SciPy i Pandas.\n"
   ]
  },
  {
   "cell_type": "markdown",
   "metadata": {},
   "source": [
    "Jeśli korzystasz z Linuksa możesz skorzystać z poniższych poleceń do pobrania i rozpakowania tych plików."
   ]
  },
  {
   "cell_type": "code",
   "execution_count": 2,
   "metadata": {
    "ExecuteTime": {
     "end_time": "2023-10-17T12:09:50.173669Z",
     "start_time": "2023-10-17T12:09:24.311939Z"
    },
    "editable": true,
    "execution": {
     "iopub.execute_input": "2024-10-23T17:25:05.406473Z",
     "iopub.status.busy": "2024-10-23T17:25:05.406082Z",
     "iopub.status.idle": "2024-10-23T17:25:26.767403Z",
     "shell.execute_reply": "2024-10-23T17:25:26.764160Z",
     "shell.execute_reply.started": "2024-10-23T17:25:05.406435Z"
    },
    "slideshow": {
     "slide_type": ""
    },
    "tags": []
   },
   "outputs": [
    {
     "name": "stdout",
     "output_type": "stream",
     "text": [
      "--2024-10-23 19:25:05--  https://archive.ics.uci.edu/static/public/365/polish+companies+bankruptcy+data.zip\n",
      "Resolving archive.ics.uci.edu (archive.ics.uci.edu)... 128.195.10.252\n",
      "Connecting to archive.ics.uci.edu (archive.ics.uci.edu)|128.195.10.252|:443... connected.\n",
      "HTTP request sent, awaiting response... 200 OK\n",
      "Length: unspecified\n",
      "Saving to: ‘data/data.zip’\n",
      "\n",
      "data/data.zip           [              <=>   ]   8,42M   189KB/s    in 19s     \n",
      "\n",
      "2024-10-23 19:25:26 (456 KB/s) - ‘data/data.zip’ saved [8834471]\n",
      "\n"
     ]
    }
   ],
   "source": [
    "!mkdir -p data\n",
    "!wget https://archive.ics.uci.edu/static/public/365/polish+companies+bankruptcy+data.zip -O data/data.zip"
   ]
  },
  {
   "cell_type": "code",
   "execution_count": 3,
   "metadata": {
    "ExecuteTime": {
     "end_time": "2023-10-17T12:10:04.017260Z",
     "start_time": "2023-10-17T12:09:57.831756Z"
    },
    "editable": true,
    "execution": {
     "iopub.execute_input": "2024-10-23T17:25:26.776485Z",
     "iopub.status.busy": "2024-10-23T17:25:26.773122Z",
     "iopub.status.idle": "2024-10-23T17:25:27.075330Z",
     "shell.execute_reply": "2024-10-23T17:25:27.074972Z",
     "shell.execute_reply.started": "2024-10-23T17:25:26.776358Z"
    },
    "slideshow": {
     "slide_type": ""
    },
    "tags": []
   },
   "outputs": [
    {
     "name": "stdout",
     "output_type": "stream",
     "text": [
      "Archive:  data/data.zip\n",
      "  inflating: data/1year.arff         \n",
      "  inflating: data/2year.arff         \n",
      "  inflating: data/3year.arff         \n",
      "  inflating: data/4year.arff         \n",
      "  inflating: data/5year.arff         \n"
     ]
    }
   ],
   "source": [
    "!unzip -o data/data.zip -d data"
   ]
  },
  {
   "cell_type": "markdown",
   "metadata": {
    "editable": true,
    "slideshow": {
     "slide_type": ""
    },
    "tags": []
   },
   "source": [
    "\n",
    "W dalszej części laboratorium wykorzystamy plik `3year.arff`, w którym na podstawie danych finansowych firmy po 3 latach monitorowania chcemy przewidywać, czy firma zbankrutuje w ciągu najbliższych 3 lat. Jest to dość realistyczny horyzont czasowy.\n",
    "\n",
    "Dodatkowo w pliku `feature_names.json` znajdują się nazwy cech. Nazwy są bardzo długie, więc póki co nie będziemy z nich korzystać."
   ]
  },
  {
   "cell_type": "code",
   "execution_count": 4,
   "metadata": {
    "editable": true,
    "execution": {
     "iopub.execute_input": "2024-10-23T17:25:27.075862Z",
     "iopub.status.busy": "2024-10-23T17:25:27.075750Z",
     "iopub.status.idle": "2024-10-23T17:25:27.307714Z",
     "shell.execute_reply": "2024-10-23T17:25:27.307157Z",
     "shell.execute_reply.started": "2024-10-23T17:25:27.075850Z"
    },
    "pycharm": {
     "name": "#%%\n"
    },
    "slideshow": {
     "slide_type": ""
    },
    "tags": []
   },
   "outputs": [],
   "source": [
    "import json\n",
    "import os\n",
    "\n",
    "from scipy.io import arff\n",
    "import pandas as pd\n",
    "\n",
    "data = arff.loadarff(os.path.join(\"data\", \"3year.arff\"))\n",
    "\n",
    "with open(\"feature_names.json\") as file:\n",
    "    feature_names = json.load(file)\n",
    "\n",
    "X = pd.DataFrame(data[0])"
   ]
  },
  {
   "cell_type": "markdown",
   "metadata": {
    "pycharm": {
     "name": "#%% md\n"
    }
   },
   "source": [
    "Przyjrzyjmy się teraz naszym danym."
   ]
  },
  {
   "cell_type": "code",
   "execution_count": 5,
   "metadata": {
    "editable": true,
    "execution": {
     "iopub.execute_input": "2024-10-23T17:25:27.308604Z",
     "iopub.status.busy": "2024-10-23T17:25:27.308457Z",
     "iopub.status.idle": "2024-10-23T17:25:27.320522Z",
     "shell.execute_reply": "2024-10-23T17:25:27.320260Z",
     "shell.execute_reply.started": "2024-10-23T17:25:27.308595Z"
    },
    "pycharm": {
     "name": "#%%\n"
    },
    "slideshow": {
     "slide_type": ""
    },
    "tags": []
   },
   "outputs": [
    {
     "data": {
      "text/html": [
       "<div>\n",
       "<style scoped>\n",
       "    .dataframe tbody tr th:only-of-type {\n",
       "        vertical-align: middle;\n",
       "    }\n",
       "\n",
       "    .dataframe tbody tr th {\n",
       "        vertical-align: top;\n",
       "    }\n",
       "\n",
       "    .dataframe thead th {\n",
       "        text-align: right;\n",
       "    }\n",
       "</style>\n",
       "<table border=\"1\" class=\"dataframe\">\n",
       "  <thead>\n",
       "    <tr style=\"text-align: right;\">\n",
       "      <th></th>\n",
       "      <th>Attr1</th>\n",
       "      <th>Attr2</th>\n",
       "      <th>Attr3</th>\n",
       "      <th>Attr4</th>\n",
       "      <th>Attr5</th>\n",
       "      <th>Attr6</th>\n",
       "      <th>Attr7</th>\n",
       "      <th>Attr8</th>\n",
       "      <th>Attr9</th>\n",
       "      <th>Attr10</th>\n",
       "      <th>...</th>\n",
       "      <th>Attr56</th>\n",
       "      <th>Attr57</th>\n",
       "      <th>Attr58</th>\n",
       "      <th>Attr59</th>\n",
       "      <th>Attr60</th>\n",
       "      <th>Attr61</th>\n",
       "      <th>Attr62</th>\n",
       "      <th>Attr63</th>\n",
       "      <th>Attr64</th>\n",
       "      <th>class</th>\n",
       "    </tr>\n",
       "  </thead>\n",
       "  <tbody>\n",
       "    <tr>\n",
       "      <th>0</th>\n",
       "      <td>0.174190</td>\n",
       "      <td>0.41299</td>\n",
       "      <td>0.14371</td>\n",
       "      <td>1.3480</td>\n",
       "      <td>-28.9820</td>\n",
       "      <td>0.60383</td>\n",
       "      <td>0.219460</td>\n",
       "      <td>1.1225</td>\n",
       "      <td>1.1961</td>\n",
       "      <td>0.46359</td>\n",
       "      <td>...</td>\n",
       "      <td>0.163960</td>\n",
       "      <td>0.375740</td>\n",
       "      <td>0.83604</td>\n",
       "      <td>0.000007</td>\n",
       "      <td>9.7145</td>\n",
       "      <td>6.2813</td>\n",
       "      <td>84.291</td>\n",
       "      <td>4.3303</td>\n",
       "      <td>4.0341</td>\n",
       "      <td>b'0'</td>\n",
       "    </tr>\n",
       "    <tr>\n",
       "      <th>1</th>\n",
       "      <td>0.146240</td>\n",
       "      <td>0.46038</td>\n",
       "      <td>0.28230</td>\n",
       "      <td>1.6294</td>\n",
       "      <td>2.5952</td>\n",
       "      <td>0.00000</td>\n",
       "      <td>0.171850</td>\n",
       "      <td>1.1721</td>\n",
       "      <td>1.6018</td>\n",
       "      <td>0.53962</td>\n",
       "      <td>...</td>\n",
       "      <td>0.027516</td>\n",
       "      <td>0.271000</td>\n",
       "      <td>0.90108</td>\n",
       "      <td>0.000000</td>\n",
       "      <td>5.9882</td>\n",
       "      <td>4.1103</td>\n",
       "      <td>102.190</td>\n",
       "      <td>3.5716</td>\n",
       "      <td>5.9500</td>\n",
       "      <td>b'0'</td>\n",
       "    </tr>\n",
       "    <tr>\n",
       "      <th>2</th>\n",
       "      <td>0.000595</td>\n",
       "      <td>0.22612</td>\n",
       "      <td>0.48839</td>\n",
       "      <td>3.1599</td>\n",
       "      <td>84.8740</td>\n",
       "      <td>0.19114</td>\n",
       "      <td>0.004572</td>\n",
       "      <td>2.9881</td>\n",
       "      <td>1.0077</td>\n",
       "      <td>0.67566</td>\n",
       "      <td>...</td>\n",
       "      <td>0.007639</td>\n",
       "      <td>0.000881</td>\n",
       "      <td>0.99236</td>\n",
       "      <td>0.000000</td>\n",
       "      <td>6.7742</td>\n",
       "      <td>3.7922</td>\n",
       "      <td>64.846</td>\n",
       "      <td>5.6287</td>\n",
       "      <td>4.4581</td>\n",
       "      <td>b'0'</td>\n",
       "    </tr>\n",
       "    <tr>\n",
       "      <th>3</th>\n",
       "      <td>0.024526</td>\n",
       "      <td>0.43236</td>\n",
       "      <td>0.27546</td>\n",
       "      <td>1.7833</td>\n",
       "      <td>-10.1050</td>\n",
       "      <td>0.56944</td>\n",
       "      <td>0.024526</td>\n",
       "      <td>1.3057</td>\n",
       "      <td>1.0509</td>\n",
       "      <td>0.56453</td>\n",
       "      <td>...</td>\n",
       "      <td>0.048398</td>\n",
       "      <td>0.043445</td>\n",
       "      <td>0.95160</td>\n",
       "      <td>0.142980</td>\n",
       "      <td>4.2286</td>\n",
       "      <td>5.0528</td>\n",
       "      <td>98.783</td>\n",
       "      <td>3.6950</td>\n",
       "      <td>3.4844</td>\n",
       "      <td>b'0'</td>\n",
       "    </tr>\n",
       "    <tr>\n",
       "      <th>4</th>\n",
       "      <td>0.188290</td>\n",
       "      <td>0.41504</td>\n",
       "      <td>0.34231</td>\n",
       "      <td>1.9279</td>\n",
       "      <td>-58.2740</td>\n",
       "      <td>0.00000</td>\n",
       "      <td>0.233580</td>\n",
       "      <td>1.4094</td>\n",
       "      <td>1.3393</td>\n",
       "      <td>0.58496</td>\n",
       "      <td>...</td>\n",
       "      <td>0.176480</td>\n",
       "      <td>0.321880</td>\n",
       "      <td>0.82635</td>\n",
       "      <td>0.073039</td>\n",
       "      <td>2.5912</td>\n",
       "      <td>7.0756</td>\n",
       "      <td>100.540</td>\n",
       "      <td>3.6303</td>\n",
       "      <td>4.6375</td>\n",
       "      <td>b'0'</td>\n",
       "    </tr>\n",
       "  </tbody>\n",
       "</table>\n",
       "<p>5 rows × 65 columns</p>\n",
       "</div>"
      ],
      "text/plain": [
       "      Attr1    Attr2    Attr3   Attr4    Attr5    Attr6     Attr7   Attr8  \\\n",
       "0  0.174190  0.41299  0.14371  1.3480 -28.9820  0.60383  0.219460  1.1225   \n",
       "1  0.146240  0.46038  0.28230  1.6294   2.5952  0.00000  0.171850  1.1721   \n",
       "2  0.000595  0.22612  0.48839  3.1599  84.8740  0.19114  0.004572  2.9881   \n",
       "3  0.024526  0.43236  0.27546  1.7833 -10.1050  0.56944  0.024526  1.3057   \n",
       "4  0.188290  0.41504  0.34231  1.9279 -58.2740  0.00000  0.233580  1.4094   \n",
       "\n",
       "    Attr9   Attr10  ...    Attr56    Attr57   Attr58    Attr59  Attr60  \\\n",
       "0  1.1961  0.46359  ...  0.163960  0.375740  0.83604  0.000007  9.7145   \n",
       "1  1.6018  0.53962  ...  0.027516  0.271000  0.90108  0.000000  5.9882   \n",
       "2  1.0077  0.67566  ...  0.007639  0.000881  0.99236  0.000000  6.7742   \n",
       "3  1.0509  0.56453  ...  0.048398  0.043445  0.95160  0.142980  4.2286   \n",
       "4  1.3393  0.58496  ...  0.176480  0.321880  0.82635  0.073039  2.5912   \n",
       "\n",
       "   Attr61   Attr62  Attr63  Attr64  class  \n",
       "0  6.2813   84.291  4.3303  4.0341   b'0'  \n",
       "1  4.1103  102.190  3.5716  5.9500   b'0'  \n",
       "2  3.7922   64.846  5.6287  4.4581   b'0'  \n",
       "3  5.0528   98.783  3.6950  3.4844   b'0'  \n",
       "4  7.0756  100.540  3.6303  4.6375   b'0'  \n",
       "\n",
       "[5 rows x 65 columns]"
      ]
     },
     "execution_count": 5,
     "metadata": {},
     "output_type": "execute_result"
    }
   ],
   "source": [
    "X.head()"
   ]
  },
  {
   "cell_type": "code",
   "execution_count": 6,
   "metadata": {
    "editable": true,
    "execution": {
     "iopub.execute_input": "2024-10-23T17:25:27.320956Z",
     "iopub.status.busy": "2024-10-23T17:25:27.320830Z",
     "iopub.status.idle": "2024-10-23T17:25:27.324419Z",
     "shell.execute_reply": "2024-10-23T17:25:27.324112Z",
     "shell.execute_reply.started": "2024-10-23T17:25:27.320946Z"
    },
    "pycharm": {
     "name": "#%%\n"
    },
    "slideshow": {
     "slide_type": ""
    },
    "tags": []
   },
   "outputs": [
    {
     "data": {
      "text/plain": [
       "Attr1     float64\n",
       "Attr2     float64\n",
       "Attr3     float64\n",
       "Attr4     float64\n",
       "Attr5     float64\n",
       "           ...   \n",
       "Attr61    float64\n",
       "Attr62    float64\n",
       "Attr63    float64\n",
       "Attr64    float64\n",
       "class      object\n",
       "Length: 65, dtype: object"
      ]
     },
     "execution_count": 6,
     "metadata": {},
     "output_type": "execute_result"
    }
   ],
   "source": [
    "X.dtypes"
   ]
  },
  {
   "cell_type": "code",
   "execution_count": 7,
   "metadata": {
    "execution": {
     "iopub.execute_input": "2024-10-23T17:25:27.325277Z",
     "iopub.status.busy": "2024-10-23T17:25:27.324834Z",
     "iopub.status.idle": "2024-10-23T17:25:27.395605Z",
     "shell.execute_reply": "2024-10-23T17:25:27.395203Z",
     "shell.execute_reply.started": "2024-10-23T17:25:27.325263Z"
    },
    "pycharm": {
     "name": "#%%\n"
    }
   },
   "outputs": [
    {
     "data": {
      "text/html": [
       "<div>\n",
       "<style scoped>\n",
       "    .dataframe tbody tr th:only-of-type {\n",
       "        vertical-align: middle;\n",
       "    }\n",
       "\n",
       "    .dataframe tbody tr th {\n",
       "        vertical-align: top;\n",
       "    }\n",
       "\n",
       "    .dataframe thead th {\n",
       "        text-align: right;\n",
       "    }\n",
       "</style>\n",
       "<table border=\"1\" class=\"dataframe\">\n",
       "  <thead>\n",
       "    <tr style=\"text-align: right;\">\n",
       "      <th></th>\n",
       "      <th>Attr1</th>\n",
       "      <th>Attr2</th>\n",
       "      <th>Attr3</th>\n",
       "      <th>Attr4</th>\n",
       "      <th>Attr5</th>\n",
       "      <th>Attr6</th>\n",
       "      <th>Attr7</th>\n",
       "      <th>Attr8</th>\n",
       "      <th>Attr9</th>\n",
       "      <th>Attr10</th>\n",
       "      <th>...</th>\n",
       "      <th>Attr55</th>\n",
       "      <th>Attr56</th>\n",
       "      <th>Attr57</th>\n",
       "      <th>Attr58</th>\n",
       "      <th>Attr59</th>\n",
       "      <th>Attr60</th>\n",
       "      <th>Attr61</th>\n",
       "      <th>Attr62</th>\n",
       "      <th>Attr63</th>\n",
       "      <th>Attr64</th>\n",
       "    </tr>\n",
       "  </thead>\n",
       "  <tbody>\n",
       "    <tr>\n",
       "      <th>count</th>\n",
       "      <td>10503.000000</td>\n",
       "      <td>10503.000000</td>\n",
       "      <td>10503.000000</td>\n",
       "      <td>10485.000000</td>\n",
       "      <td>1.047800e+04</td>\n",
       "      <td>10503.000000</td>\n",
       "      <td>10503.000000</td>\n",
       "      <td>10489.000000</td>\n",
       "      <td>10500.000000</td>\n",
       "      <td>10503.000000</td>\n",
       "      <td>...</td>\n",
       "      <td>1.050300e+04</td>\n",
       "      <td>10460.000000</td>\n",
       "      <td>10503.000000</td>\n",
       "      <td>10474.000000</td>\n",
       "      <td>10503.000000</td>\n",
       "      <td>9.911000e+03</td>\n",
       "      <td>10486.000000</td>\n",
       "      <td>1.046000e+04</td>\n",
       "      <td>10485.000000</td>\n",
       "      <td>10275.000000</td>\n",
       "    </tr>\n",
       "    <tr>\n",
       "      <th>mean</th>\n",
       "      <td>0.052844</td>\n",
       "      <td>0.619911</td>\n",
       "      <td>0.095490</td>\n",
       "      <td>9.980499</td>\n",
       "      <td>-1.347662e+03</td>\n",
       "      <td>-0.121159</td>\n",
       "      <td>0.065624</td>\n",
       "      <td>19.140113</td>\n",
       "      <td>1.819254</td>\n",
       "      <td>0.366093</td>\n",
       "      <td>...</td>\n",
       "      <td>6.638549e+03</td>\n",
       "      <td>-0.530082</td>\n",
       "      <td>-0.014817</td>\n",
       "      <td>3.848794</td>\n",
       "      <td>1.429319</td>\n",
       "      <td>5.713363e+02</td>\n",
       "      <td>13.935361</td>\n",
       "      <td>1.355370e+02</td>\n",
       "      <td>9.095149</td>\n",
       "      <td>35.766800</td>\n",
       "    </tr>\n",
       "    <tr>\n",
       "      <th>std</th>\n",
       "      <td>0.647797</td>\n",
       "      <td>6.427041</td>\n",
       "      <td>6.420056</td>\n",
       "      <td>523.691951</td>\n",
       "      <td>1.185806e+05</td>\n",
       "      <td>6.970625</td>\n",
       "      <td>0.651152</td>\n",
       "      <td>717.756745</td>\n",
       "      <td>7.581659</td>\n",
       "      <td>6.428603</td>\n",
       "      <td>...</td>\n",
       "      <td>5.989196e+04</td>\n",
       "      <td>55.978608</td>\n",
       "      <td>18.684047</td>\n",
       "      <td>190.201224</td>\n",
       "      <td>77.273270</td>\n",
       "      <td>3.715967e+04</td>\n",
       "      <td>83.704103</td>\n",
       "      <td>2.599116e+04</td>\n",
       "      <td>31.419096</td>\n",
       "      <td>428.298315</td>\n",
       "    </tr>\n",
       "    <tr>\n",
       "      <th>min</th>\n",
       "      <td>-17.692000</td>\n",
       "      <td>0.000000</td>\n",
       "      <td>-479.730000</td>\n",
       "      <td>0.002080</td>\n",
       "      <td>-1.190300e+07</td>\n",
       "      <td>-508.120000</td>\n",
       "      <td>-17.692000</td>\n",
       "      <td>-2.081800</td>\n",
       "      <td>-1.215700</td>\n",
       "      <td>-479.730000</td>\n",
       "      <td>...</td>\n",
       "      <td>-7.513800e+05</td>\n",
       "      <td>-5691.700000</td>\n",
       "      <td>-1667.300000</td>\n",
       "      <td>-198.690000</td>\n",
       "      <td>-172.070000</td>\n",
       "      <td>0.000000e+00</td>\n",
       "      <td>-6.590300</td>\n",
       "      <td>-2.336500e+06</td>\n",
       "      <td>-0.000156</td>\n",
       "      <td>-0.000102</td>\n",
       "    </tr>\n",
       "    <tr>\n",
       "      <th>25%</th>\n",
       "      <td>0.000686</td>\n",
       "      <td>0.253955</td>\n",
       "      <td>0.017461</td>\n",
       "      <td>1.040100</td>\n",
       "      <td>-5.207075e+01</td>\n",
       "      <td>0.000000</td>\n",
       "      <td>0.002118</td>\n",
       "      <td>0.431270</td>\n",
       "      <td>1.011275</td>\n",
       "      <td>0.297340</td>\n",
       "      <td>...</td>\n",
       "      <td>1.462100e+01</td>\n",
       "      <td>0.005137</td>\n",
       "      <td>0.006796</td>\n",
       "      <td>0.875560</td>\n",
       "      <td>0.000000</td>\n",
       "      <td>5.533150e+00</td>\n",
       "      <td>4.486075</td>\n",
       "      <td>4.073700e+01</td>\n",
       "      <td>3.062800</td>\n",
       "      <td>2.023350</td>\n",
       "    </tr>\n",
       "    <tr>\n",
       "      <th>50%</th>\n",
       "      <td>0.043034</td>\n",
       "      <td>0.464140</td>\n",
       "      <td>0.198560</td>\n",
       "      <td>1.605600</td>\n",
       "      <td>1.579300e+00</td>\n",
       "      <td>0.000000</td>\n",
       "      <td>0.050945</td>\n",
       "      <td>1.111000</td>\n",
       "      <td>1.199000</td>\n",
       "      <td>0.515500</td>\n",
       "      <td>...</td>\n",
       "      <td>8.822900e+02</td>\n",
       "      <td>0.051765</td>\n",
       "      <td>0.106880</td>\n",
       "      <td>0.953060</td>\n",
       "      <td>0.002976</td>\n",
       "      <td>9.952100e+00</td>\n",
       "      <td>6.677300</td>\n",
       "      <td>7.066400e+01</td>\n",
       "      <td>5.139200</td>\n",
       "      <td>4.059300</td>\n",
       "    </tr>\n",
       "    <tr>\n",
       "      <th>75%</th>\n",
       "      <td>0.123805</td>\n",
       "      <td>0.689330</td>\n",
       "      <td>0.419545</td>\n",
       "      <td>2.959500</td>\n",
       "      <td>5.608400e+01</td>\n",
       "      <td>0.072584</td>\n",
       "      <td>0.142275</td>\n",
       "      <td>2.857100</td>\n",
       "      <td>2.059100</td>\n",
       "      <td>0.725635</td>\n",
       "      <td>...</td>\n",
       "      <td>4.348900e+03</td>\n",
       "      <td>0.130010</td>\n",
       "      <td>0.271310</td>\n",
       "      <td>0.995927</td>\n",
       "      <td>0.240320</td>\n",
       "      <td>2.093600e+01</td>\n",
       "      <td>10.587500</td>\n",
       "      <td>1.182200e+02</td>\n",
       "      <td>8.882600</td>\n",
       "      <td>9.682750</td>\n",
       "    </tr>\n",
       "    <tr>\n",
       "      <th>max</th>\n",
       "      <td>52.652000</td>\n",
       "      <td>480.730000</td>\n",
       "      <td>17.708000</td>\n",
       "      <td>53433.000000</td>\n",
       "      <td>6.854400e+05</td>\n",
       "      <td>45.533000</td>\n",
       "      <td>52.652000</td>\n",
       "      <td>53432.000000</td>\n",
       "      <td>740.440000</td>\n",
       "      <td>11.837000</td>\n",
       "      <td>...</td>\n",
       "      <td>3.380500e+06</td>\n",
       "      <td>293.150000</td>\n",
       "      <td>552.640000</td>\n",
       "      <td>18118.000000</td>\n",
       "      <td>7617.300000</td>\n",
       "      <td>3.660200e+06</td>\n",
       "      <td>4470.400000</td>\n",
       "      <td>1.073500e+06</td>\n",
       "      <td>1974.500000</td>\n",
       "      <td>21499.000000</td>\n",
       "    </tr>\n",
       "  </tbody>\n",
       "</table>\n",
       "<p>8 rows × 64 columns</p>\n",
       "</div>"
      ],
      "text/plain": [
       "              Attr1         Attr2         Attr3         Attr4         Attr5  \\\n",
       "count  10503.000000  10503.000000  10503.000000  10485.000000  1.047800e+04   \n",
       "mean       0.052844      0.619911      0.095490      9.980499 -1.347662e+03   \n",
       "std        0.647797      6.427041      6.420056    523.691951  1.185806e+05   \n",
       "min      -17.692000      0.000000   -479.730000      0.002080 -1.190300e+07   \n",
       "25%        0.000686      0.253955      0.017461      1.040100 -5.207075e+01   \n",
       "50%        0.043034      0.464140      0.198560      1.605600  1.579300e+00   \n",
       "75%        0.123805      0.689330      0.419545      2.959500  5.608400e+01   \n",
       "max       52.652000    480.730000     17.708000  53433.000000  6.854400e+05   \n",
       "\n",
       "              Attr6         Attr7         Attr8         Attr9        Attr10  \\\n",
       "count  10503.000000  10503.000000  10489.000000  10500.000000  10503.000000   \n",
       "mean      -0.121159      0.065624     19.140113      1.819254      0.366093   \n",
       "std        6.970625      0.651152    717.756745      7.581659      6.428603   \n",
       "min     -508.120000    -17.692000     -2.081800     -1.215700   -479.730000   \n",
       "25%        0.000000      0.002118      0.431270      1.011275      0.297340   \n",
       "50%        0.000000      0.050945      1.111000      1.199000      0.515500   \n",
       "75%        0.072584      0.142275      2.857100      2.059100      0.725635   \n",
       "max       45.533000     52.652000  53432.000000    740.440000     11.837000   \n",
       "\n",
       "       ...        Attr55        Attr56        Attr57        Attr58  \\\n",
       "count  ...  1.050300e+04  10460.000000  10503.000000  10474.000000   \n",
       "mean   ...  6.638549e+03     -0.530082     -0.014817      3.848794   \n",
       "std    ...  5.989196e+04     55.978608     18.684047    190.201224   \n",
       "min    ... -7.513800e+05  -5691.700000  -1667.300000   -198.690000   \n",
       "25%    ...  1.462100e+01      0.005137      0.006796      0.875560   \n",
       "50%    ...  8.822900e+02      0.051765      0.106880      0.953060   \n",
       "75%    ...  4.348900e+03      0.130010      0.271310      0.995927   \n",
       "max    ...  3.380500e+06    293.150000    552.640000  18118.000000   \n",
       "\n",
       "             Attr59        Attr60        Attr61        Attr62        Attr63  \\\n",
       "count  10503.000000  9.911000e+03  10486.000000  1.046000e+04  10485.000000   \n",
       "mean       1.429319  5.713363e+02     13.935361  1.355370e+02      9.095149   \n",
       "std       77.273270  3.715967e+04     83.704103  2.599116e+04     31.419096   \n",
       "min     -172.070000  0.000000e+00     -6.590300 -2.336500e+06     -0.000156   \n",
       "25%        0.000000  5.533150e+00      4.486075  4.073700e+01      3.062800   \n",
       "50%        0.002976  9.952100e+00      6.677300  7.066400e+01      5.139200   \n",
       "75%        0.240320  2.093600e+01     10.587500  1.182200e+02      8.882600   \n",
       "max     7617.300000  3.660200e+06   4470.400000  1.073500e+06   1974.500000   \n",
       "\n",
       "             Attr64  \n",
       "count  10275.000000  \n",
       "mean      35.766800  \n",
       "std      428.298315  \n",
       "min       -0.000102  \n",
       "25%        2.023350  \n",
       "50%        4.059300  \n",
       "75%        9.682750  \n",
       "max    21499.000000  \n",
       "\n",
       "[8 rows x 64 columns]"
      ]
     },
     "execution_count": 7,
     "metadata": {},
     "output_type": "execute_result"
    }
   ],
   "source": [
    "X.describe()"
   ]
  },
  {
   "cell_type": "code",
   "execution_count": 8,
   "metadata": {
    "editable": true,
    "execution": {
     "iopub.execute_input": "2024-10-23T17:25:27.396040Z",
     "iopub.status.busy": "2024-10-23T17:25:27.395925Z",
     "iopub.status.idle": "2024-10-23T17:25:27.398641Z",
     "shell.execute_reply": "2024-10-23T17:25:27.398246Z",
     "shell.execute_reply.started": "2024-10-23T17:25:27.396029Z"
    },
    "slideshow": {
     "slide_type": ""
    },
    "tags": []
   },
   "outputs": [
    {
     "data": {
      "text/plain": [
       "['net profit / total assets',\n",
       " 'total liabilities / total assets',\n",
       " 'working capital / total assets',\n",
       " 'current assets / short-term liabilities',\n",
       " '[(cash + short-term securities + receivables - short-term liabilities) / (operating expenses - depreciation)] * 365',\n",
       " 'retained earnings / total assets',\n",
       " 'EBIT / total assets',\n",
       " 'book value of equity / total liabilities',\n",
       " 'sales / total assets',\n",
       " 'equity / total assets',\n",
       " '(gross profit + extraordinary items + financial expenses) / total assets',\n",
       " 'gross profit / short-term liabilities',\n",
       " '(gross profit + depreciation) / sales',\n",
       " '(gross profit + interest) / total assets',\n",
       " '(total liabilities * 365) / (gross profit + depreciation)',\n",
       " '(gross profit + depreciation) / total liabilities',\n",
       " 'total assets / total liabilities',\n",
       " 'gross profit / total assets',\n",
       " 'gross profit / sales',\n",
       " '(inventory * 365) / sales',\n",
       " 'sales (n) / sales (n-1)',\n",
       " 'profit on operating activities / total assets',\n",
       " 'net profit / sales',\n",
       " 'gross profit (in 3 years) / total assets',\n",
       " '(equity - share capital) / total assets',\n",
       " '(net profit + depreciation) / total liabilities',\n",
       " 'profit on operating activities / financial expenses',\n",
       " 'working capital / fixed assets',\n",
       " 'logarithm of total assets',\n",
       " '(total liabilities - cash) / sales',\n",
       " '(gross profit + interest) / sales',\n",
       " '(current liabilities * 365) / cost of products sold',\n",
       " 'operating expenses / short-term liabilities',\n",
       " 'operating expenses / total liabilities',\n",
       " 'profit on sales / total assets',\n",
       " 'total sales / total assets',\n",
       " 'constant capital / total assets',\n",
       " 'profit on sales / sales',\n",
       " '(current assets - inventory - receivables) / short-term liabilities',\n",
       " 'total liabilities / ((profit on operating activities + depreciation) * (12/365))',\n",
       " 'profit on operating activities / sales',\n",
       " 'rotation receivables + inventory turnover in days',\n",
       " '(receivables * 365) / sales',\n",
       " 'net profit / inventory',\n",
       " '(current assets - inventory) / short-term liabilities',\n",
       " '(inventory * 365) / cost of products sold',\n",
       " 'EBITDA (profit on operating activities - depreciation) / total assets',\n",
       " 'EBITDA (profit on operating activities - depreciation) / sales',\n",
       " 'current assets / total liabilities',\n",
       " 'short-term liabilities / total assets',\n",
       " '(short-term liabilities * 365) / cost of products sold)',\n",
       " 'equity / fixed assets',\n",
       " 'constant capital / fixed assets',\n",
       " 'working capital',\n",
       " '(sales - cost of products sold) / sales',\n",
       " '(current assets - inventory - short-term liabilities) / (sales - gross profit - depreciation)',\n",
       " 'total costs / total sales',\n",
       " 'long-term liabilities / equity',\n",
       " 'sales / inventory',\n",
       " 'sales / receivables',\n",
       " '(short-term liabilities * 365) / sales',\n",
       " 'sales / short-term liabilities',\n",
       " 'sales / fixed assets']"
      ]
     },
     "execution_count": 8,
     "metadata": {},
     "output_type": "execute_result"
    }
   ],
   "source": [
    "feature_names"
   ]
  },
  {
   "cell_type": "markdown",
   "metadata": {
    "editable": true,
    "pycharm": {
     "name": "#%% md\n"
    },
    "slideshow": {
     "slide_type": ""
    },
    "tags": []
   },
   "source": [
    "DataFrame zawiera 64 atrybuty numeryczne o zróżnicowanych rozkładach wartości oraz kolumnę `\"class\"` typu `bytes` z klasami 0 i 1. Wiemy, że mamy do czynienia z klasyfikacją binarną - klasa 0 to brak bankructwa, klasa 1 to bankructwo w ciągu najbliższych 3 lat. Przyjrzyjmy się dokładniej naszym danym."
   ]
  },
  {
   "cell_type": "markdown",
   "metadata": {
    "editable": true,
    "slideshow": {
     "slide_type": ""
    },
    "tags": [
     "ex"
    ]
   },
   "source": [
    "### Zadanie 1 (0.5 punktu)"
   ]
  },
  {
   "cell_type": "markdown",
   "metadata": {
    "editable": true,
    "slideshow": {
     "slide_type": ""
    },
    "tags": [
     "ex"
    ]
   },
   "source": [
    "1. Wyodrębnij klasy jako osobną zmienną typu `pd.Series`, usuwając je z macierzy `X`. Przekonwertuj je na liczby całkowite.\n",
    "2. Narysuj wykres słupkowy częstotliwości obu klas w całym zbiorze. Upewnij się, że na osi X są numery lub nazwy klas, a oś Y ma wartości w procentach.\n",
    "\n",
    "**Uwaga:** sugerowane jest użycie `if` w podpunkcie 1, żeby można było tę komórkę bezpiecznie odpalić kilka razy."
   ]
  },
  {
   "cell_type": "code",
   "execution_count": 9,
   "metadata": {
    "editable": true,
    "execution": {
     "iopub.execute_input": "2024-10-23T17:25:27.399169Z",
     "iopub.status.busy": "2024-10-23T17:25:27.399017Z",
     "iopub.status.idle": "2024-10-23T17:25:27.649289Z",
     "shell.execute_reply": "2024-10-23T17:25:27.648772Z",
     "shell.execute_reply.started": "2024-10-23T17:25:27.399157Z"
    },
    "pycharm": {
     "name": "#%%\n"
    },
    "slideshow": {
     "slide_type": ""
    },
    "tags": [
     "ex"
    ]
   },
   "outputs": [
    {
     "data": {
      "text/plain": [
       "[Text(0, 0, '95.29'), Text(0, 0, '4.71')]"
      ]
     },
     "execution_count": 9,
     "metadata": {},
     "output_type": "execute_result"
    },
    {
     "data": {
      "image/png": "[encoded data removed]",
      "text/plain": [
       "<Figure size 640x480 with 1 Axes>"
      ]
     },
     "metadata": {},
     "output_type": "display_data"
    }
   ],
   "source": [
    "if \"class\" in X.columns:\n",
    "    y = X.pop(\"class\").astype(int)\n",
    "\n",
    "counts = y.value_counts()\n",
    "all_values = counts.sum()\n",
    "not_bankrupted = round(counts[0] / all_values * 100, 2)\n",
    "bankrupted = round(counts[1] / all_values * 100, 2)\n",
    "freq_df = pd.DataFrame({\"company bankrupted\": [not_bankrupted, bankrupted]}, index=[\"no\", \"yes\"])\n",
    "ax = freq_df.plot.barh(legend=False, title=\"Frequency of 'y' classes\", ylabel=\"company bankrupted in %\", xlabel=\"probability\")\n",
    "\n",
    "ax.bar_label(ax.containers[0])"
   ]
  },
  {
   "cell_type": "code",
   "execution_count": 10,
   "metadata": {
    "editable": true,
    "execution": {
     "iopub.execute_input": "2024-10-23T17:25:27.649872Z",
     "iopub.status.busy": "2024-10-23T17:25:27.649703Z",
     "iopub.status.idle": "2024-10-23T17:25:27.652488Z",
     "shell.execute_reply": "2024-10-23T17:25:27.652097Z",
     "shell.execute_reply.started": "2024-10-23T17:25:27.649862Z"
    },
    "slideshow": {
     "slide_type": ""
    },
    "tags": [
     "ex"
    ]
   },
   "outputs": [
    {
     "name": "stdout",
     "output_type": "stream",
     "text": [
      "Solution is correct!\n"
     ]
    }
   ],
   "source": [
    "assert \"class\" not in X.columns\n",
    "\n",
    "print(\"Solution is correct!\")"
   ]
  },
  {
   "cell_type": "markdown",
   "metadata": {
    "editable": true,
    "pycharm": {
     "name": "#%% md\n"
    },
    "slideshow": {
     "slide_type": ""
    },
    "tags": []
   },
   "source": [
    "Jak widać, klasa pozytywna jest w znacznej mniejszości, stanowi poniżej 5% zbioru. Taki problem nazywamy **klasyfikacją niezbalansowaną (imbalanced classification)**. Mamy tu **klasę dominującą (majority class)** oraz **klasę mniejszościową (minority class)**. Pechowo prawie zawsze interesuje nas ta druga, bo klasa większościowa nie niesie najczęściej żadnych interesujących informacji. Przykładowo, 99% badanych jest zdrowych, a 1% ma niewykryty nowotwór - z oczywistych przyczyn chcemy wykrywać właśnie sytuację rzadką (problem diagnozy jako klasyfikacji jest zasadniczo zawsze niezbalansowany). W dalszej części laboratorium poznamy szereg konsekwencji tego zjawiska i metody na radzenie sobie z nim.\n",
    "\n",
    "Mamy sporo cech w naszym zbiorze, wszystkie są numeryczne. Ciekawe, czy mają wartości brakujące, a jeśli tak, to ile? Policzymy to z pomocą biblioteki Pandas i metody `.isna()`. Domyślnie operuje ona na kolumnach, jak większość metod w w tej bibliotece. Sumę wartości per kolumna zwróci nam metoda `.sum()`. Jeżeli podzielimy to przez liczbę wierszy `len(X)`, to otrzymamy ułamek wartości brakujących w każdej kolumnie.\n",
    "\n",
    "Biblioteka Pandas potrafi też stworzyć wykres, z pomocą funkcji np. `.plot.hist()` czy `.plot.bar()`. Przyjmują one opcje formatowania wykresu z których korzysta biblioteka `matplotlib`."
   ]
  },
  {
   "cell_type": "code",
   "execution_count": 11,
   "metadata": {
    "editable": true,
    "execution": {
     "iopub.execute_input": "2024-10-23T17:25:27.653760Z",
     "iopub.status.busy": "2024-10-23T17:25:27.653584Z",
     "iopub.status.idle": "2024-10-23T17:25:27.848191Z",
     "shell.execute_reply": "2024-10-23T17:25:27.847796Z",
     "shell.execute_reply.started": "2024-10-23T17:25:27.653748Z"
    },
    "pycharm": {
     "name": "#%%\n"
    },
    "slideshow": {
     "slide_type": ""
    },
    "tags": []
   },
   "outputs": [
    {
     "data": {
      "text/plain": [
       "<Axes: title={'center': 'Fraction of missing values per column'}>"
      ]
     },
     "execution_count": 11,
     "metadata": {},
     "output_type": "execute_result"
    },
    {
     "data": {
      "image/png": "[encoded data removed]",
      "text/plain": [
       "<Figure size 1500x500 with 1 Axes>"
      ]
     },
     "metadata": {},
     "output_type": "display_data"
    }
   ],
   "source": [
    "na_perc = X.isna().sum() / len(X)\n",
    "na_perc.plot.bar(title=\"Fraction of missing values per column\", figsize=(15, 5))"
   ]
  },
  {
   "cell_type": "markdown",
   "metadata": {
    "editable": true,
    "pycharm": {
     "name": "#%% md\n"
    },
    "slideshow": {
     "slide_type": ""
    },
    "tags": [
     "ex"
    ]
   },
   "source": [
    "Jak widać, cecha 37 ma bardzo dużo wartości brakujących, podczas gdy pozostałe cechy mają raczej niewielką ich liczbę. W takiej sytuacji najlepiej usunąć tę cechę, a pozostałe wartości brakujące **uzupełnić** (co realizowaliśmy już poprzednio). Pamiętaj, że imputacji dokonuje się dopiero po podziale na zbiór treningowy i testowy! W przeciwnym wypadku wykorzystywalibyśmy dane ze zbioru testowego, co sztucznie zawyżyłoby wyniki. Jest to błąd metodologiczny - **wyciek danych (data leakage)**.\n",
    "\n",
    "Podział na zbiór treningowy i testowy to pierwszy moment, kiedy niezbalansowanie danych nam przeszkadza. Jeżeli zrobimy to czysto losowo, to jest spora szansa, że w zbiorze testowym będzie tylko klasa negatywna - w końcu jest jej aż >95%. Dlatego wykorzystuje się **próbkowanie ze stratyfikacją (stratified sampling)**, dzięki któremu proporcje klas w zbiorze przed podziałem oraz obu zbiorach po podziale są takie same."
   ]
  },
  {
   "cell_type": "markdown",
   "metadata": {
    "editable": true,
    "slideshow": {
     "slide_type": ""
    },
    "tags": [
     "ex"
    ]
   },
   "source": [
    "### Zadanie 2 (0.75 punktu)"
   ]
  },
  {
   "cell_type": "markdown",
   "metadata": {
    "editable": true,
    "slideshow": {
     "slide_type": ""
    },
    "tags": [
     "ex"
    ]
   },
   "source": [
    "1. Usuń kolumnę `\"Attr37\"` ze zbioru danych.\n",
    "2. Dokonaj podziału zbioru na treningowy i testowy w proporcjach 80%-20%, z przemieszaniem (`shuffle`), ze stratyfikacją, wykorzystując funkcję `train_test_split` ze Scikit-learn'a.\n",
    "3. Uzupełnij wartości brakujące średnią wartością cechy z pomocą klasy `SimpleImputer`.\n",
    "\n",
    "**Uwaga:**\n",
    "- jak wcześniej, sugerowane jest użycie `if` w podpunkcie 1,\n",
    "- pamiętaj o uwzględnieniu stałego ziarna `random_state=0`, aby wyniki były **reprodukowalne (reproducible)**,\n",
    "- `stratify` oczekuje wektora klas,\n",
    "- wartości do imputacji trzeba wyestymować na zbiorze treningowym (`.fit()`), a potem zastosować te nauczone wartości na obu podzbiorach (treningowym i testowym)."
   ]
  },
  {
   "cell_type": "code",
   "execution_count": 12,
   "metadata": {
    "editable": true,
    "execution": {
     "iopub.execute_input": "2024-10-23T17:25:27.848549Z",
     "iopub.status.busy": "2024-10-23T17:25:27.848448Z",
     "iopub.status.idle": "2024-10-23T17:25:27.938207Z",
     "shell.execute_reply": "2024-10-23T17:25:27.937736Z",
     "shell.execute_reply.started": "2024-10-23T17:25:27.848539Z"
    },
    "pycharm": {
     "name": "#%%\n"
    },
    "slideshow": {
     "slide_type": ""
    },
    "tags": [
     "ex"
    ]
   },
   "outputs": [],
   "source": [
    "from sklearn.model_selection import train_test_split\n",
    "from sklearn.compose import ColumnTransformer\n",
    "from sklearn.impute import SimpleImputer\n",
    "from sklearn.pipeline import Pipeline\n",
    "\n",
    "\n",
    "if \"Attr37\" in X.columns:\n",
    "    X = X.drop([\"Attr37\",], axis=\"columns\")\n",
    "\n",
    "X_train, X_test, y_train, y_test = train_test_split(\n",
    "    X, y, test_size=0.2, random_state=0, stratify=y\n",
    ")  # shuffle is enabled by default\n",
    "\n",
    "median_imputer = SimpleImputer()  # default strategy is \"mean\"\n",
    "\n",
    "numerical_pipeline = Pipeline(steps=[(\"imputer\", median_imputer),])\n",
    "\n",
    "column_transformer = ColumnTransformer(\n",
    "    transformers=[\n",
    "        (\"numerical\", numerical_pipeline, X.columns.tolist()),\n",
    "    ],\n",
    "    verbose_feature_names_out=False\n",
    ")\n",
    "\n",
    "X_train = column_transformer.fit_transform(X_train)\n",
    "X_test = column_transformer.transform(X_test)"
   ]
  },
  {
   "cell_type": "code",
   "execution_count": 13,
   "metadata": {
    "editable": true,
    "execution": {
     "iopub.execute_input": "2024-10-23T17:25:27.938688Z",
     "iopub.status.busy": "2024-10-23T17:25:27.938534Z",
     "iopub.status.idle": "2024-10-23T17:25:27.941253Z",
     "shell.execute_reply": "2024-10-23T17:25:27.940932Z",
     "shell.execute_reply.started": "2024-10-23T17:25:27.938678Z"
    },
    "slideshow": {
     "slide_type": ""
    },
    "tags": [
     "ex"
    ]
   },
   "outputs": [
    {
     "name": "stdout",
     "output_type": "stream",
     "text": [
      "Solution is correct!\n"
     ]
    }
   ],
   "source": [
    "import numpy as np\n",
    "\n",
    "assert \"Attr37\" not in X.columns\n",
    "assert not np.any(np.isnan(X_train))\n",
    "assert not np.any(np.isnan(X_test))\n",
    "\n",
    "print(\"Solution is correct!\")"
   ]
  },
  {
   "cell_type": "markdown",
   "metadata": {
    "editable": true,
    "pycharm": {
     "name": "#%% md\n"
    },
    "slideshow": {
     "slide_type": ""
    },
    "tags": []
   },
   "source": [
    "## Prosta klasyfikacja"
   ]
  },
  {
   "cell_type": "markdown",
   "metadata": {
    "editable": true,
    "pycharm": {
     "name": "#%% md\n"
    },
    "slideshow": {
     "slide_type": ""
    },
    "tags": []
   },
   "source": [
    "Zanim przejdzie się do modeli bardziej złożonych, trzeba najpierw wypróbować coś prostego, żeby mieć punkt odniesienia. Tworzy się dlatego **modele bazowe (baselines)**.\n",
    "\n",
    "W naszym przypadku będzie to **drzewo decyzyjne (decision tree)**. Jest to drzewo binarne z decyzjami if-else, prowadzącymi do klasyfikacji danego przykładu w liściu. Każdy podział w drzewie to pytanie postaci \"Czy wartość cechy X jest większa lub równa Y?\". Trening takiego drzewa to prosty algorytm zachłanny, bardzo przypomina budowę zwykłego drzewa binarnego. Ma on następujące kroki dla każdego węzła tego drzewa:\n",
    "1. Sprawdź po kolei wszystkie możliwe punkty podziału, czyli każdą (unikalną) wartość każdej cechy, po kolei.\n",
    "2. Dla każdego przypadku podziel zbiór na 2 części: niespełniający warunku (lewy potomek) i spełniający warunek (prawy potomek).\n",
    "3. Oblicz jakość podziału według wybranej funkcji jakości. Im lepiej warunek rozdziela klasy od siebie (imbardziej zunifikowane są węzły-dzieci), tym wyższa jakość podziału. Innymi słowy, chcemy, żeby do jednego dziecka trafiła jedna klasa, a do drugiego druga.\n",
    "4. Wybierz podział o najwyższej jakości.\n",
    "\n",
    "Taki algorytm wykonuje się rekurencyjnie, aż otrzymamy węzeł czysty (pure leaf), czyli taki, w którym są przykłady z tylko jednej klasy. Typowo wykorzystywaną funkcją jakości (kryterium podziału) jest entropia Shannona - im niższa entropia, tym bardziej jednolite są klasy w węźle (czyli wybieramy podział o najniższej entropii).\n",
    "\n",
    "Powyższe wytłumaczenie algorytmu jest oczywiście nieformalne i dość skrótowe. Doskonałe tłumaczenie, z interaktywnymi wizualizacjami, dostępne jest [tutaj](https://mlu-explain.github.io/decision-tree/). W formie filmów - [tutaj](https://www.youtube.com/watch?v=ZVR2Way4nwQ) oraz [tutaj](https://www.youtube.com/watch?v=_L39rN6gz7Y). Dla drzew do regresji - [ten film](https://www.youtube.com/watch?v=g9c66TUylZ4).\n",
    "\n",
    "<img src = https://miro.medium.com/max/1838/1*WyTsLwcAXivFCgNtF0OPqA.png width = \"642\" height = \"451\" >\n",
    "\n",
    "Warto zauważyć, że taka konstrukcja prowadzi zawsze do overfittingu. Otrzymanie liści czystych oznacza, że mamy 100% dokładności na zbiorze treningowym, czyli perfekcyjnie przeuczony klasyfikator. W związku z tym nasze predykcje mają bardzo niski bias, ale bardzo dużą wariancję. Pomimo tego drzewa potrafią dać bardzo przyzwoite wyniki, a w celu ich poprawy można je regularyzować, aby mieć mniej \"rozrośnięte\" drzewo. [Film dla zainteresowanych](https://www.youtube.com/watch?v=D0efHEJsfHo).\n"
   ]
  },
  {
   "cell_type": "markdown",
   "metadata": {
    "editable": true,
    "slideshow": {
     "slide_type": ""
    },
    "tags": []
   },
   "source": [
    "Mając wytrenowany klasyfikator, trzeba oczywiście sprawdzić, jak dobrze on sobie radzi. Tu natrafiamy na kolejny problem z klasyfikacją niezbalansowaną - zwykła celność (accuracy) na pewno nie zadziała! Typowo wykorzystuje się AUC, nazywane też AUROC (Area Under Receiver Operating Characteristic), bo metryka ta uwzględnia niezbalansowanie klas. \n",
    "\n",
    "Bardzo dobre i bardziej szczegółowe wytłumaczenie, z interktywnymi wizualizacjami, można znaleć [tutaj](https://mlu-explain.github.io/roc-auc/). Dla preferujących filmy - [tutaj](https://www.youtube.com/watch?v=4jRBRDbJemM).\n",
    "\n",
    "Co ważne, z definicji AUROC, trzeba w niej użyć **prawdopodobieństw klasy pozytywnej** (klasy 1). W Scikit-learn'ie zwraca je metoda `.predict_proba()`, która w kolejnych kolumnach zwraca prawdopodobieństwa poszczególnych klas."
   ]
  },
  {
   "cell_type": "markdown",
   "metadata": {
    "editable": true,
    "slideshow": {
     "slide_type": ""
    },
    "tags": [
     "ex"
    ]
   },
   "source": [
    "### Zadanie 3 (0.75 punktu)"
   ]
  },
  {
   "cell_type": "markdown",
   "metadata": {
    "editable": true,
    "slideshow": {
     "slide_type": ""
    },
    "tags": [
     "ex"
    ]
   },
   "source": [
    "1. Wytrenuj klasyfikator drzewa decyzyjnego (klasa `DecisionTreeClassifier`). Użyj entropii jako kryterium podziału.\n",
    "2. Oblicz i wypisz AUROC na zbiorze testowym dla drzewa decyzyjnego (funkcja `roc_auc_score`).\n",
    "3. Skomentuj wynik - czy twoim zdaniem osiągnięty AUROC to dużo czy mało, biorąc pod uwagę możliwy zakres wartości tej metryki?\n",
    "\n",
    "**Uwaga:**\n",
    "- pamiętaj o użyciu stałego ziarna `random_state=0`,\n",
    "- jeżeli drzewo nie wyświetli się samo, użyj `plt.show()` z Matplotliba,\n",
    "- pamiętaj o tym, żeby przekazać do metryki AUROC **prawdopodobieństwa klasy pozytywnej**, a nie binarne predykcje!"
   ]
  },
  {
   "cell_type": "code",
   "execution_count": 14,
   "metadata": {
    "editable": true,
    "execution": {
     "iopub.execute_input": "2024-10-23T17:25:27.941747Z",
     "iopub.status.busy": "2024-10-23T17:25:27.941582Z",
     "iopub.status.idle": "2024-10-23T17:25:31.940729Z",
     "shell.execute_reply": "2024-10-23T17:25:31.940184Z",
     "shell.execute_reply.started": "2024-10-23T17:25:27.941732Z"
    },
    "pycharm": {
     "name": "#%%\n"
    },
    "scrolled": true,
    "slideshow": {
     "slide_type": ""
    },
    "tags": [
     "ex"
    ]
   },
   "outputs": [
    {
     "name": "stdout",
     "output_type": "stream",
     "text": [
      "auroc = 0.7266899766899767\n"
     ]
    },
    {
     "data": {
      "text/plain": [
       "[Text(0.7161814135174419, 0.9736842105263158, 'x[26] <= 1071.15\\nentropy = 0.274\\nsamples = 8402\\nvalue = [8006, 396]'),\n",
       " Text(0.5224791061046512, 0.9210526315789473, 'x[20] <= 4.237\\nentropy = 0.213\\nsamples = 7660\\nvalue = [7401, 259]'),\n",
       " Text(0.6193302598110466, 0.9473684210526316, 'True  '),\n",
       " Text(0.2759175145348837, 0.868421052631579, 'x[25] <= 0.107\\nentropy = 0.161\\nsamples = 7068\\nvalue = [6901, 167]'),\n",
       " Text(0.06309956395348837, 0.8157894736842105, 'x[33] <= 0.2\\nentropy = 0.294\\nsamples = 2354\\nvalue = [2232, 122]'),\n",
       " Text(0.018604651162790697, 0.7631578947368421, 'x[14] <= -17743.5\\nentropy = 0.029\\nsamples = 685\\nvalue = [683.0, 2.0]'),\n",
       " Text(0.013953488372093023, 0.7105263157894737, 'x[44] <= 0.142\\nentropy = 0.345\\nsamples = 31\\nvalue = [29, 2]'),\n",
       " Text(0.009302325581395349, 0.6578947368421053, 'x[44] <= 0.06\\nentropy = 1.0\\nsamples = 4\\nvalue = [2, 2]'),\n",
       " Text(0.004651162790697674, 0.6052631578947368, 'entropy = 0.0\\nsamples = 2\\nvalue = [2, 0]'),\n",
       " Text(0.013953488372093023, 0.6052631578947368, 'entropy = 0.0\\nsamples = 2\\nvalue = [0, 2]'),\n",
       " Text(0.018604651162790697, 0.6578947368421053, 'entropy = 0.0\\nsamples = 27\\nvalue = [27, 0]'),\n",
       " Text(0.023255813953488372, 0.7105263157894737, 'entropy = 0.0\\nsamples = 654\\nvalue = [654, 0]'),\n",
       " Text(0.10759447674418604, 0.7631578947368421, 'x[44] <= 0.077\\nentropy = 0.373\\nsamples = 1669\\nvalue = [1549, 120]'),\n",
       " Text(0.03255813953488372, 0.7105263157894737, 'x[42] <= 24.713\\nentropy = 0.942\\nsamples = 39\\nvalue = [25.0, 14.0]'),\n",
       " Text(0.027906976744186046, 0.6578947368421053, 'entropy = 0.0\\nsamples = 21\\nvalue = [21, 0]'),\n",
       " Text(0.037209302325581395, 0.6578947368421053, 'x[48] <= 0.103\\nentropy = 0.764\\nsamples = 18\\nvalue = [4, 14]'),\n",
       " Text(0.03255813953488372, 0.6052631578947368, 'entropy = 0.0\\nsamples = 4\\nvalue = [4, 0]'),\n",
       " Text(0.04186046511627907, 0.6052631578947368, 'entropy = 0.0\\nsamples = 14\\nvalue = [0, 14]'),\n",
       " Text(0.18263081395348837, 0.7105263157894737, 'x[56] <= 0.973\\nentropy = 0.347\\nsamples = 1630\\nvalue = [1524, 106]'),\n",
       " Text(0.07441860465116279, 0.6578947368421053, 'x[34] <= -0.038\\nentropy = 0.557\\nsamples = 370\\nvalue = [322, 48]'),\n",
       " Text(0.05116279069767442, 0.6052631578947368, 'x[4] <= 139.767\\nentropy = 0.948\\nsamples = 30\\nvalue = [11, 19]'),\n",
       " Text(0.046511627906976744, 0.5526315789473685, 'x[52] <= 1.076\\nentropy = 0.795\\nsamples = 25\\nvalue = [6, 19]'),\n",
       " Text(0.04186046511627907, 0.5, 'entropy = 0.0\\nsamples = 13\\nvalue = [0, 13]'),\n",
       " Text(0.05116279069767442, 0.5, 'x[50] <= 0.131\\nentropy = 1.0\\nsamples = 12\\nvalue = [6, 6]'),\n",
       " Text(0.046511627906976744, 0.4473684210526316, 'entropy = 0.0\\nsamples = 4\\nvalue = [4, 0]'),\n",
       " Text(0.05581395348837209, 0.4473684210526316, 'x[30] <= 0.045\\nentropy = 0.811\\nsamples = 8\\nvalue = [2, 6]'),\n",
       " Text(0.05116279069767442, 0.39473684210526316, 'entropy = 0.0\\nsamples = 6\\nvalue = [0, 6]'),\n",
       " Text(0.06046511627906977, 0.39473684210526316, 'entropy = 0.0\\nsamples = 2\\nvalue = [2, 0]'),\n",
       " Text(0.05581395348837209, 0.5526315789473685, 'entropy = 0.0\\nsamples = 5\\nvalue = [5, 0]'),\n",
       " Text(0.09767441860465116, 0.6052631578947368, 'x[21] <= 0.005\\nentropy = 0.421\\nsamples = 340\\nvalue = [311, 29]'),\n",
       " Text(0.08372093023255814, 0.5526315789473685, 'x[21] <= -0.01\\nentropy = 0.125\\nsamples = 176\\nvalue = [173, 3]'),\n",
       " Text(0.07906976744186046, 0.5, 'x[38] <= 0.028\\nentropy = 0.559\\nsamples = 23\\nvalue = [20, 3]'),\n",
       " Text(0.07441860465116279, 0.4473684210526316, 'x[23] <= -0.095\\nentropy = 0.811\\nsamples = 4\\nvalue = [1, 3]'),\n",
       " Text(0.06976744186046512, 0.39473684210526316, 'entropy = 0.0\\nsamples = 1\\nvalue = [1, 0]'),\n",
       " Text(0.07906976744186046, 0.39473684210526316, 'entropy = 0.0\\nsamples = 3\\nvalue = [0, 3]'),\n",
       " Text(0.08372093023255814, 0.4473684210526316, 'entropy = 0.0\\nsamples = 19\\nvalue = [19, 0]'),\n",
       " Text(0.08837209302325581, 0.5, 'entropy = 0.0\\nsamples = 153\\nvalue = [153, 0]'),\n",
       " Text(0.11162790697674418, 0.5526315789473685, 'x[4] <= -159.285\\nentropy = 0.631\\nsamples = 164\\nvalue = [138, 26]'),\n",
       " Text(0.10697674418604651, 0.5, 'entropy = 0.0\\nsamples = 43\\nvalue = [43, 0]'),\n",
       " Text(0.11627906976744186, 0.5, 'x[39] <= 0.435\\nentropy = 0.751\\nsamples = 121\\nvalue = [95, 26]'),\n",
       " Text(0.09767441860465116, 0.4473684210526316, 'x[37] <= 0.04\\nentropy = 0.5\\nsamples = 91\\nvalue = [81, 10]'),\n",
       " Text(0.08837209302325581, 0.39473684210526316, 'x[27] <= 0.499\\nentropy = 0.811\\nsamples = 28\\nvalue = [21, 7]'),\n",
       " Text(0.08372093023255814, 0.34210526315789475, 'x[2] <= 0.046\\nentropy = 0.996\\nsamples = 13\\nvalue = [6, 7]'),\n",
       " Text(0.07906976744186046, 0.2894736842105263, 'x[30] <= 0.052\\nentropy = 0.811\\nsamples = 8\\nvalue = [6, 2]'),\n",
       " Text(0.07441860465116279, 0.23684210526315788, 'entropy = 0.0\\nsamples = 6\\nvalue = [6, 0]'),\n",
       " Text(0.08372093023255814, 0.23684210526315788, 'entropy = 0.0\\nsamples = 2\\nvalue = [0, 2]'),\n",
       " Text(0.08837209302325581, 0.2894736842105263, 'entropy = 0.0\\nsamples = 5\\nvalue = [0, 5]'),\n",
       " Text(0.09302325581395349, 0.34210526315789475, 'entropy = 0.0\\nsamples = 15\\nvalue = [15, 0]'),\n",
       " Text(0.10697674418604651, 0.39473684210526316, 'x[56] <= 0.85\\nentropy = 0.276\\nsamples = 63\\nvalue = [60, 3]'),\n",
       " Text(0.10232558139534884, 0.34210526315789475, 'x[56] <= 0.842\\nentropy = 0.811\\nsamples = 12\\nvalue = [9, 3]'),\n",
       " Text(0.09767441860465116, 0.2894736842105263, 'x[5] <= 0.231\\nentropy = 0.469\\nsamples = 10\\nvalue = [9, 1]'),\n",
       " Text(0.09302325581395349, 0.23684210526315788, 'entropy = 0.0\\nsamples = 9\\nvalue = [9, 0]'),\n",
       " Text(0.10232558139534884, 0.23684210526315788, 'entropy = 0.0\\nsamples = 1\\nvalue = [0, 1]'),\n",
       " Text(0.10697674418604651, 0.2894736842105263, 'entropy = 0.0\\nsamples = 2\\nvalue = [0, 2]'),\n",
       " Text(0.11162790697674418, 0.34210526315789475, 'entropy = 0.0\\nsamples = 51\\nvalue = [51, 0]'),\n",
       " Text(0.13488372093023257, 0.4473684210526316, 'x[18] <= 0.025\\nentropy = 0.997\\nsamples = 30\\nvalue = [14, 16]'),\n",
       " Text(0.12558139534883722, 0.39473684210526316, 'x[24] <= 0.462\\nentropy = 0.544\\nsamples = 16\\nvalue = [2, 14]'),\n",
       " Text(0.12093023255813953, 0.34210526315789475, 'entropy = 0.0\\nsamples = 14\\nvalue = [0, 14]'),\n",
       " Text(0.13023255813953488, 0.34210526315789475, 'entropy = 0.0\\nsamples = 2\\nvalue = [2, 0]'),\n",
       " Text(0.14418604651162792, 0.39473684210526316, 'x[32] <= 1.13\\nentropy = 0.592\\nsamples = 14\\nvalue = [12, 2]'),\n",
       " Text(0.13953488372093023, 0.34210526315789475, 'entropy = 0.0\\nsamples = 2\\nvalue = [0, 2]'),\n",
       " Text(0.14883720930232558, 0.34210526315789475, 'entropy = 0.0\\nsamples = 12\\nvalue = [12, 0]'),\n",
       " Text(0.29084302325581396, 0.6578947368421053, 'x[42] <= 36.25\\nentropy = 0.269\\nsamples = 1260\\nvalue = [1202.0, 58.0]'),\n",
       " Text(0.22819767441860464, 0.6052631578947368, 'x[38] <= 0.061\\nentropy = 0.432\\nsamples = 338\\nvalue = [308, 30]'),\n",
       " Text(0.2005813953488372, 0.5526315789473685, 'x[44] <= 0.962\\nentropy = 0.663\\nsamples = 122\\nvalue = [101, 21]'),\n",
       " Text(0.18488372093023256, 0.5, 'x[39] <= -0.321\\nentropy = 0.54\\nsamples = 113\\nvalue = [99, 14]'),\n",
       " Text(0.16744186046511628, 0.4473684210526316, 'x[35] <= 2.126\\nentropy = 0.982\\nsamples = 19\\nvalue = [11, 8]'),\n",
       " Text(0.16279069767441862, 0.39473684210526316, 'x[62] <= 3.044\\nentropy = 0.722\\nsamples = 10\\nvalue = [2, 8]'),\n",
       " Text(0.15813953488372093, 0.34210526315789475, 'entropy = 0.0\\nsamples = 7\\nvalue = [0, 7]'),\n",
       " Text(0.16744186046511628, 0.34210526315789475, 'x[51] <= -3.56\\nentropy = 0.918\\nsamples = 3\\nvalue = [2, 1]'),\n",
       " Text(0.16279069767441862, 0.2894736842105263, 'entropy = 0.0\\nsamples = 1\\nvalue = [0, 1]'),\n",
       " Text(0.17209302325581396, 0.2894736842105263, 'entropy = 0.0\\nsamples = 2\\nvalue = [2, 0]'),\n",
       " Text(0.17209302325581396, 0.39473684210526316, 'entropy = 0.0\\nsamples = 9\\nvalue = [9, 0]'),\n",
       " Text(0.20232558139534884, 0.4473684210526316, 'x[4] <= -43.532\\nentropy = 0.342\\nsamples = 94\\nvalue = [88.0, 6.0]'),\n",
       " Text(0.19069767441860466, 0.39473684210526316, 'x[27] <= -1.853\\nentropy = 0.112\\nsamples = 67\\nvalue = [66, 1]'),\n",
       " Text(0.18604651162790697, 0.34210526315789475, 'x[26] <= -14.601\\nentropy = 0.918\\nsamples = 3\\nvalue = [2, 1]'),\n",
       " Text(0.1813953488372093, 0.2894736842105263, 'entropy = 0.0\\nsamples = 1\\nvalue = [0, 1]'),\n",
       " Text(0.19069767441860466, 0.2894736842105263, 'entropy = 0.0\\nsamples = 2\\nvalue = [2, 0]'),\n",
       " Text(0.19534883720930232, 0.34210526315789475, 'entropy = 0.0\\nsamples = 64\\nvalue = [64, 0]'),\n",
       " Text(0.21395348837209302, 0.39473684210526316, 'x[56] <= 0.994\\nentropy = 0.691\\nsamples = 27\\nvalue = [22, 5]'),\n",
       " Text(0.20465116279069767, 0.34210526315789475, 'x[46] <= 0.023\\nentropy = 0.811\\nsamples = 4\\nvalue = [1, 3]'),\n",
       " Text(0.2, 0.2894736842105263, 'entropy = 0.0\\nsamples = 3\\nvalue = [0, 3]'),\n",
       " Text(0.20930232558139536, 0.2894736842105263, 'entropy = 0.0\\nsamples = 1\\nvalue = [1, 0]'),\n",
       " Text(0.22325581395348837, 0.34210526315789475, 'x[62] <= 2.303\\nentropy = 0.426\\nsamples = 23\\nvalue = [21, 2]'),\n",
       " Text(0.2186046511627907, 0.2894736842105263, 'x[58] <= 12.847\\nentropy = 0.971\\nsamples = 5\\nvalue = [3, 2]'),\n",
       " Text(0.21395348837209302, 0.23684210526315788, 'entropy = 0.0\\nsamples = 3\\nvalue = [3, 0]'),\n",
       " Text(0.22325581395348837, 0.23684210526315788, 'entropy = 0.0\\nsamples = 2\\nvalue = [0, 2]'),\n",
       " Text(0.22790697674418606, 0.2894736842105263, 'entropy = 0.0\\nsamples = 18\\nvalue = [18, 0]'),\n",
       " Text(0.21627906976744185, 0.5, 'x[10] <= 0.055\\nentropy = 0.764\\nsamples = 9\\nvalue = [2, 7]'),\n",
       " Text(0.2116279069767442, 0.4473684210526316, 'entropy = 0.0\\nsamples = 7\\nvalue = [0, 7]'),\n",
       " Text(0.22093023255813954, 0.4473684210526316, 'entropy = 0.0\\nsamples = 2\\nvalue = [2, 0]'),\n",
       " Text(0.2558139534883721, 0.5526315789473685, 'x[15] <= -0.858\\nentropy = 0.25\\nsamples = 216\\nvalue = [207, 9]'),\n",
       " Text(0.24651162790697675, 0.5, 'x[29] <= 0.471\\nentropy = 0.677\\nsamples = 28\\nvalue = [23, 5]'),\n",
       " Text(0.24186046511627907, 0.4473684210526316, 'x[43] <= -6.289\\nentropy = 0.516\\nsamples = 26\\nvalue = [23, 3]'),\n",
       " Text(0.2372093023255814, 0.39473684210526316, 'x[53] <= 39.928\\nentropy = 0.985\\nsamples = 7\\nvalue = [4, 3]'),\n",
       " Text(0.23255813953488372, 0.34210526315789475, 'entropy = 0.0\\nsamples = 4\\nvalue = [4, 0]'),\n",
       " Text(0.24186046511627907, 0.34210526315789475, 'entropy = 0.0\\nsamples = 3\\nvalue = [0, 3]'),\n",
       " Text(0.24651162790697675, 0.39473684210526316, 'entropy = 0.0\\nsamples = 19\\nvalue = [19, 0]'),\n",
       " Text(0.25116279069767444, 0.4473684210526316, 'entropy = 0.0\\nsamples = 2\\nvalue = [0, 2]'),\n",
       " Text(0.2651162790697674, 0.5, 'x[57] <= 0.104\\nentropy = 0.149\\nsamples = 188\\nvalue = [184, 4]'),\n",
       " Text(0.26046511627906976, 0.4473684210526316, 'entropy = 0.0\\nsamples = 128\\nvalue = [128, 0]'),\n",
       " Text(0.26976744186046514, 0.4473684210526316, 'x[5] <= -0.011\\nentropy = 0.353\\nsamples = 60\\nvalue = [56, 4]'),\n",
       " Text(0.2651162790697674, 0.39473684210526316, 'x[53] <= 698.675\\nentropy = 0.702\\nsamples = 21\\nvalue = [17, 4]'),\n",
       " Text(0.2558139534883721, 0.34210526315789475, 'x[57] <= 0.2\\nentropy = 0.323\\nsamples = 17\\nvalue = [16, 1]'),\n",
       " Text(0.25116279069767444, 0.2894736842105263, 'entropy = 0.0\\nsamples = 1\\nvalue = [0, 1]'),\n",
       " Text(0.26046511627906976, 0.2894736842105263, 'entropy = 0.0\\nsamples = 16\\nvalue = [16, 0]'),\n",
       " Text(0.2744186046511628, 0.34210526315789475, 'x[25] <= -0.151\\nentropy = 0.811\\nsamples = 4\\nvalue = [1, 3]'),\n",
       " Text(0.26976744186046514, 0.2894736842105263, 'entropy = 0.0\\nsamples = 1\\nvalue = [1, 0]'),\n",
       " Text(0.27906976744186046, 0.2894736842105263, 'entropy = 0.0\\nsamples = 3\\nvalue = [0, 3]'),\n",
       " Text(0.2744186046511628, 0.39473684210526316, 'entropy = 0.0\\nsamples = 39\\nvalue = [39, 0]'),\n",
       " Text(0.35348837209302325, 0.6052631578947368, 'x[44] <= 0.476\\nentropy = 0.196\\nsamples = 922\\nvalue = [894, 28]'),\n",
       " Text(0.32325581395348835, 0.5526315789473685, 'x[4] <= -73.8\\nentropy = 0.351\\nsamples = 212\\nvalue = [198, 14]'),\n",
       " Text(0.3023255813953488, 0.5, 'x[42] <= 90.528\\nentropy = 0.213\\nsamples = 178\\nvalue = [172, 6]'),\n",
       " Text(0.28837209302325584, 0.4473684210526316, 'x[5] <= 0.018\\nentropy = 0.062\\nsamples = 139\\nvalue = [138, 1]'),\n",
       " Text(0.2837209302325581, 0.39473684210526316, 'entropy = 0.0\\nsamples = 133\\nvalue = [133, 0]'),\n",
       " Text(0.2930232558139535, 0.39473684210526316, 'x[25] <= 0.058\\nentropy = 0.65\\nsamples = 6\\nvalue = [5, 1]'),\n",
       " Text(0.28837209302325584, 0.34210526315789475, 'entropy = 0.0\\nsamples = 5\\nvalue = [5, 0]'),\n",
       " Text(0.29767441860465116, 0.34210526315789475, 'entropy = 0.0\\nsamples = 1\\nvalue = [0, 1]'),\n",
       " Text(0.31627906976744186, 0.4473684210526316, 'x[4] <= -131.325\\nentropy = 0.552\\nsamples = 39\\nvalue = [34, 5]'),\n",
       " Text(0.3116279069767442, 0.39473684210526316, 'x[34] <= -0.281\\nentropy = 0.31\\nsamples = 36\\nvalue = [34, 2]'),\n",
       " Text(0.30697674418604654, 0.34210526315789475, 'x[17] <= -0.352\\nentropy = 0.863\\nsamples = 7\\nvalue = [5, 2]'),\n",
       " Text(0.3023255813953488, 0.2894736842105263, 'entropy = 0.0\\nsamples = 5\\nvalue = [5, 0]'),\n",
       " Text(0.3116279069767442, 0.2894736842105263, 'entropy = 0.0\\nsamples = 2\\nvalue = [0, 2]'),\n",
       " Text(0.31627906976744186, 0.34210526315789475, 'entropy = 0.0\\nsamples = 29\\nvalue = [29, 0]'),\n",
       " Text(0.3209302325581395, 0.39473684210526316, 'entropy = 0.0\\nsamples = 3\\nvalue = [0, 3]'),\n",
       " Text(0.34418604651162793, 0.5, 'x[42] <= 57.373\\nentropy = 0.787\\nsamples = 34\\nvalue = [26, 8]'),\n",
       " Text(0.33488372093023255, 0.4473684210526316, 'x[38] <= 0.004\\nentropy = 0.258\\nsamples = 23\\nvalue = [22, 1]'),\n",
       " Text(0.3302325581395349, 0.39473684210526316, 'entropy = 0.0\\nsamples = 1\\nvalue = [0, 1]'),\n",
       " Text(0.3395348837209302, 0.39473684210526316, 'entropy = 0.0\\nsamples = 22\\nvalue = [22, 0]'),\n",
       " Text(0.35348837209302325, 0.4473684210526316, 'x[60] <= 142.555\\nentropy = 0.946\\nsamples = 11\\nvalue = [4, 7]'),\n",
       " Text(0.3488372093023256, 0.39473684210526316, 'entropy = 0.0\\nsamples = 6\\nvalue = [0, 6]'),\n",
       " Text(0.3581395348837209, 0.39473684210526316, 'x[9] <= 0.142\\nentropy = 0.722\\nsamples = 5\\nvalue = [4, 1]'),\n",
       " Text(0.35348837209302325, 0.34210526315789475, 'entropy = 0.0\\nsamples = 4\\nvalue = [4, 0]'),\n",
       " Text(0.3627906976744186, 0.34210526315789475, 'entropy = 0.0\\nsamples = 1\\nvalue = [0, 1]'),\n",
       " Text(0.38372093023255816, 0.5526315789473685, 'x[3] <= 1.658\\nentropy = 0.14\\nsamples = 710\\nvalue = [696.0, 14.0]'),\n",
       " Text(0.3674418604651163, 0.5, 'x[28] <= 4.361\\nentropy = 0.04\\nsamples = 466\\nvalue = [464, 2]'),\n",
       " Text(0.3627906976744186, 0.4473684210526316, 'entropy = 0.0\\nsamples = 427\\nvalue = [427, 0]'),\n",
       " Text(0.37209302325581395, 0.4473684210526316, 'x[28] <= 4.379\\nentropy = 0.292\\nsamples = 39\\nvalue = [37, 2]'),\n",
       " Text(0.3674418604651163, 0.39473684210526316, 'entropy = 0.0\\nsamples = 1\\nvalue = [0, 1]'),\n",
       " Text(0.3767441860465116, 0.39473684210526316, 'x[26] <= 2.498\\nentropy = 0.176\\nsamples = 38\\nvalue = [37, 1]'),\n",
       " Text(0.37209302325581395, 0.34210526315789475, 'entropy = 0.0\\nsamples = 36\\nvalue = [36, 0]'),\n",
       " Text(0.3813953488372093, 0.34210526315789475, 'x[3] <= 1.213\\nentropy = 1.0\\nsamples = 2\\nvalue = [1, 1]'),\n",
       " Text(0.3767441860465116, 0.2894736842105263, 'entropy = 0.0\\nsamples = 1\\nvalue = [1, 0]'),\n",
       " Text(0.386046511627907, 0.2894736842105263, 'entropy = 0.0\\nsamples = 1\\nvalue = [0, 1]'),\n",
       " Text(0.4, 0.5, 'x[36] <= 0.145\\nentropy = 0.283\\nsamples = 244\\nvalue = [232, 12]'),\n",
       " Text(0.39069767441860465, 0.4473684210526316, 'x[44] <= 2.186\\nentropy = 0.811\\nsamples = 4\\nvalue = [1, 3]'),\n",
       " Text(0.386046511627907, 0.39473684210526316, 'entropy = 0.0\\nsamples = 3\\nvalue = [0, 3]'),\n",
       " Text(0.3953488372093023, 0.39473684210526316, 'entropy = 0.0\\nsamples = 1\\nvalue = [1, 0]'),\n",
       " Text(0.40930232558139534, 0.4473684210526316, 'x[3] <= 1.662\\nentropy = 0.231\\nsamples = 240\\nvalue = [231, 9]'),\n",
       " Text(0.4046511627906977, 0.39473684210526316, 'entropy = 0.0\\nsamples = 1\\nvalue = [0, 1]'),\n",
       " Text(0.413953488372093, 0.39473684210526316, 'x[33] <= 3.003\\nentropy = 0.212\\nsamples = 239\\nvalue = [231.0, 8.0]'),\n",
       " Text(0.40930232558139534, 0.34210526315789475, 'entropy = 0.0\\nsamples = 80\\nvalue = [80, 0]'),\n",
       " Text(0.4186046511627907, 0.34210526315789475, 'x[44] <= 0.976\\nentropy = 0.288\\nsamples = 159\\nvalue = [151, 8]'),\n",
       " Text(0.40930232558139534, 0.2894736842105263, 'x[37] <= -0.119\\nentropy = 0.845\\nsamples = 11\\nvalue = [8, 3]'),\n",
       " Text(0.4046511627906977, 0.23684210526315788, 'entropy = 0.0\\nsamples = 3\\nvalue = [0, 3]'),\n",
       " Text(0.413953488372093, 0.23684210526315788, 'entropy = 0.0\\nsamples = 8\\nvalue = [8, 0]'),\n",
       " Text(0.42790697674418604, 0.2894736842105263, 'x[42] <= 63.729\\nentropy = 0.213\\nsamples = 148\\nvalue = [143, 5]'),\n",
       " Text(0.4232558139534884, 0.23684210526315788, 'x[33] <= 5.159\\nentropy = 0.419\\nsamples = 59\\nvalue = [54, 5]'),\n",
       " Text(0.413953488372093, 0.18421052631578946, 'x[27] <= 17.86\\nentropy = 0.863\\nsamples = 14\\nvalue = [10, 4]'),\n",
       " Text(0.40930232558139534, 0.13157894736842105, 'x[32] <= 5.123\\nentropy = 0.65\\nsamples = 12\\nvalue = [10, 2]'),\n",
       " Text(0.4046511627906977, 0.07894736842105263, 'x[26] <= -71.975\\nentropy = 0.918\\nsamples = 3\\nvalue = [1, 2]'),\n",
       " Text(0.4, 0.02631578947368421, 'entropy = 0.0\\nsamples = 1\\nvalue = [1, 0]'),\n",
       " Text(0.40930232558139534, 0.02631578947368421, 'entropy = 0.0\\nsamples = 2\\nvalue = [0, 2]'),\n",
       " Text(0.413953488372093, 0.07894736842105263, 'entropy = 0.0\\nsamples = 9\\nvalue = [9, 0]'),\n",
       " Text(0.4186046511627907, 0.13157894736842105, 'entropy = 0.0\\nsamples = 2\\nvalue = [0, 2]'),\n",
       " Text(0.4325581395348837, 0.18421052631578946, 'x[47] <= -0.5\\nentropy = 0.154\\nsamples = 45\\nvalue = [44, 1]'),\n",
       " Text(0.42790697674418604, 0.13157894736842105, 'entropy = 0.0\\nsamples = 1\\nvalue = [0, 1]'),\n",
       " Text(0.4372093023255814, 0.13157894736842105, 'entropy = 0.0\\nsamples = 44\\nvalue = [44, 0]'),\n",
       " Text(0.4325581395348837, 0.23684210526315788, 'entropy = 0.0\\nsamples = 89\\nvalue = [89, 0]'),\n",
       " Text(0.4887354651162791, 0.8157894736842105, 'x[33] <= 1.333\\nentropy = 0.078\\nsamples = 4714\\nvalue = [4669, 45]'),\n",
       " Text(0.4840843023255814, 0.7631578947368421, 'entropy = 0.0\\nsamples = 1838\\nvalue = [1838, 0]'),\n",
       " Text(0.49338662790697674, 0.7631578947368421, 'x[5] <= -0.044\\nentropy = 0.116\\nsamples = 2876\\nvalue = [2831, 45]'),\n",
       " Text(0.42790697674418604, 0.7105263157894737, 'x[48] <= 0.731\\nentropy = 0.297\\nsamples = 248\\nvalue = [235, 13]'),\n",
       " Text(0.4232558139534884, 0.6578947368421053, 'entropy = 0.0\\nsamples = 68\\nvalue = [68, 0]'),\n",
       " Text(0.4325581395348837, 0.6578947368421053, 'x[3] <= 0.778\\nentropy = 0.374\\nsamples = 180\\nvalue = [167.0, 13.0]'),\n",
       " Text(0.4232558139534884, 0.6052631578947368, 'x[28] <= 3.184\\nentropy = 0.811\\nsamples = 4\\nvalue = [1, 3]'),\n",
       " Text(0.4186046511627907, 0.5526315789473685, 'entropy = 0.0\\nsamples = 3\\nvalue = [0, 3]'),\n",
       " Text(0.42790697674418604, 0.5526315789473685, 'entropy = 0.0\\nsamples = 1\\nvalue = [1, 0]'),\n",
       " Text(0.4418604651162791, 0.6052631578947368, 'x[28] <= 3.475\\nentropy = 0.315\\nsamples = 176\\nvalue = [166, 10]'),\n",
       " Text(0.4372093023255814, 0.5526315789473685, 'entropy = 0.0\\nsamples = 91\\nvalue = [91, 0]'),\n",
       " Text(0.44651162790697674, 0.5526315789473685, 'x[46] <= 0.149\\nentropy = 0.523\\nsamples = 85\\nvalue = [75, 10]'),\n",
       " Text(0.4325581395348837, 0.5, 'x[43] <= 0.138\\nentropy = 0.323\\nsamples = 68\\nvalue = [64, 4]'),\n",
       " Text(0.42790697674418604, 0.4473684210526316, 'x[21] <= -0.036\\nentropy = 0.722\\nsamples = 20\\nvalue = [16, 4]'),\n",
       " Text(0.4232558139534884, 0.39473684210526316, 'entropy = 0.0\\nsamples = 2\\nvalue = [0, 2]'),\n",
       " Text(0.4325581395348837, 0.39473684210526316, 'x[46] <= 0.022\\nentropy = 0.503\\nsamples = 18\\nvalue = [16, 2]'),\n",
       " Text(0.42790697674418604, 0.34210526315789475, 'entropy = 0.0\\nsamples = 16\\nvalue = [16, 0]'),\n",
       " Text(0.4372093023255814, 0.34210526315789475, 'entropy = 0.0\\nsamples = 2\\nvalue = [0, 2]'),\n",
       " Text(0.4372093023255814, 0.4473684210526316, 'entropy = 0.0\\nsamples = 48\\nvalue = [48, 0]'),\n",
       " Text(0.4604651162790698, 0.5, 'x[10] <= 0.31\\nentropy = 0.937\\nsamples = 17\\nvalue = [11, 6]'),\n",
       " Text(0.4558139534883721, 0.4473684210526316, 'x[28] <= 4.017\\nentropy = 0.971\\nsamples = 10\\nvalue = [4, 6]'),\n",
       " Text(0.4511627906976744, 0.39473684210526316, 'x[38] <= 0.396\\nentropy = 0.811\\nsamples = 8\\nvalue = [2, 6]'),\n",
       " Text(0.44651162790697674, 0.34210526315789475, 'entropy = 0.0\\nsamples = 6\\nvalue = [0, 6]'),\n",
       " Text(0.4558139534883721, 0.34210526315789475, 'entropy = 0.0\\nsamples = 2\\nvalue = [2, 0]'),\n",
       " Text(0.4604651162790698, 0.39473684210526316, 'entropy = 0.0\\nsamples = 2\\nvalue = [2, 0]'),\n",
       " Text(0.46511627906976744, 0.4473684210526316, 'entropy = 0.0\\nsamples = 7\\nvalue = [7, 0]'),\n",
       " Text(0.5588662790697675, 0.7105263157894737, 'x[52] <= 10.739\\nentropy = 0.095\\nsamples = 2628\\nvalue = [2596, 32]'),\n",
       " Text(0.5281976744186047, 0.6578947368421053, 'x[44] <= 1.387\\nentropy = 0.072\\nsamples = 2427\\nvalue = [2406, 21]'),\n",
       " Text(0.5052325581395349, 0.6052631578947368, 'x[22] <= 0.023\\nentropy = 0.116\\nsamples = 1153\\nvalue = [1135, 18]'),\n",
       " Text(0.5005813953488372, 0.5526315789473685, 'entropy = 0.0\\nsamples = 371\\nvalue = [371, 0]'),\n",
       " Text(0.5098837209302326, 0.5526315789473685, 'x[12] <= 0.087\\nentropy = 0.158\\nsamples = 782\\nvalue = [764, 18]'),\n",
       " Text(0.4965116279069767, 0.5, 'x[23] <= 1.117\\nentropy = 0.261\\nsamples = 339\\nvalue = [324, 15]'),\n",
       " Text(0.49186046511627907, 0.4473684210526316, 'x[56] <= 0.956\\nentropy = 0.222\\nsamples = 336\\nvalue = [324, 12]'),\n",
       " Text(0.4872093023255814, 0.39473684210526316, 'x[62] <= 2.893\\nentropy = 0.368\\nsamples = 170\\nvalue = [158, 12]'),\n",
       " Text(0.46511627906976744, 0.34210526315789475, 'x[59] <= 13.717\\nentropy = 0.855\\nsamples = 25\\nvalue = [18.0, 7.0]'),\n",
       " Text(0.4604651162790698, 0.2894736842105263, 'x[31] <= 121.61\\nentropy = 0.684\\nsamples = 22\\nvalue = [18, 4]'),\n",
       " Text(0.4558139534883721, 0.23684210526315788, 'entropy = 0.0\\nsamples = 13\\nvalue = [13, 0]'),\n",
       " Text(0.46511627906976744, 0.23684210526315788, 'x[1] <= 0.462\\nentropy = 0.991\\nsamples = 9\\nvalue = [5, 4]'),\n",
       " Text(0.4604651162790698, 0.18421052631578946, 'entropy = 0.0\\nsamples = 4\\nvalue = [4, 0]'),\n",
       " Text(0.4697674418604651, 0.18421052631578946, 'x[35] <= 1.518\\nentropy = 0.722\\nsamples = 5\\nvalue = [1, 4]'),\n",
       " Text(0.46511627906976744, 0.13157894736842105, 'entropy = 0.0\\nsamples = 4\\nvalue = [0, 4]'),\n",
       " Text(0.4744186046511628, 0.13157894736842105, 'entropy = 0.0\\nsamples = 1\\nvalue = [1, 0]'),\n",
       " Text(0.4697674418604651, 0.2894736842105263, 'entropy = 0.0\\nsamples = 3\\nvalue = [0, 3]'),\n",
       " Text(0.5093023255813953, 0.34210526315789475, 'x[12] <= 0.067\\nentropy = 0.216\\nsamples = 145\\nvalue = [140, 5]'),\n",
       " Text(0.5046511627906977, 0.2894736842105263, 'x[3] <= 1.584\\nentropy = 0.375\\nsamples = 69\\nvalue = [64, 5]'),\n",
       " Text(0.4930232558139535, 0.23684210526315788, 'x[43] <= 0.174\\nentropy = 0.141\\nsamples = 50\\nvalue = [49, 1]'),\n",
       " Text(0.4883720930232558, 0.18421052631578946, 'x[35] <= 2.104\\nentropy = 1.0\\nsamples = 2\\nvalue = [1, 1]'),\n",
       " Text(0.48372093023255813, 0.13157894736842105, 'entropy = 0.0\\nsamples = 1\\nvalue = [1, 0]'),\n",
       " Text(0.4930232558139535, 0.13157894736842105, 'entropy = 0.0\\nsamples = 1\\nvalue = [0, 1]'),\n",
       " Text(0.49767441860465117, 0.18421052631578946, 'entropy = 0.0\\nsamples = 48\\nvalue = [48, 0]'),\n",
       " Text(0.5162790697674419, 0.23684210526315788, 'x[45] <= 45.879\\nentropy = 0.742\\nsamples = 19\\nvalue = [15, 4]'),\n",
       " Text(0.5069767441860465, 0.18421052631578946, 'x[37] <= 0.06\\nentropy = 0.811\\nsamples = 4\\nvalue = [1, 3]'),\n",
       " Text(0.5023255813953489, 0.13157894736842105, 'entropy = 0.0\\nsamples = 3\\nvalue = [0, 3]'),\n",
       " Text(0.5116279069767442, 0.13157894736842105, 'entropy = 0.0\\nsamples = 1\\nvalue = [1, 0]'),\n",
       " Text(0.5255813953488372, 0.18421052631578946, 'x[40] <= 0.07\\nentropy = 0.353\\nsamples = 15\\nvalue = [14, 1]'),\n",
       " Text(0.5209302325581395, 0.13157894736842105, 'entropy = 0.0\\nsamples = 14\\nvalue = [14, 0]'),\n",
       " Text(0.5302325581395348, 0.13157894736842105, 'entropy = 0.0\\nsamples = 1\\nvalue = [0, 1]'),\n",
       " Text(0.513953488372093, 0.2894736842105263, 'entropy = 0.0\\nsamples = 76\\nvalue = [76, 0]'),\n",
       " Text(0.4965116279069767, 0.39473684210526316, 'entropy = 0.0\\nsamples = 166\\nvalue = [166, 0]'),\n",
       " Text(0.5011627906976744, 0.4473684210526316, 'entropy = 0.0\\nsamples = 3\\nvalue = [0, 3]'),\n",
       " Text(0.5232558139534884, 0.5, 'x[4] <= 36.867\\nentropy = 0.059\\nsamples = 443\\nvalue = [440, 3]'),\n",
       " Text(0.5186046511627908, 0.4473684210526316, 'entropy = 0.0\\nsamples = 426\\nvalue = [426, 0]'),\n",
       " Text(0.5279069767441861, 0.4473684210526316, 'x[53] <= 11921.9\\nentropy = 0.672\\nsamples = 17\\nvalue = [14, 3]'),\n",
       " Text(0.5232558139534884, 0.39473684210526316, 'x[44] <= 0.26\\nentropy = 0.353\\nsamples = 15\\nvalue = [14, 1]'),\n",
       " Text(0.5186046511627908, 0.34210526315789475, 'entropy = 0.0\\nsamples = 1\\nvalue = [0, 1]'),\n",
       " Text(0.5279069767441861, 0.34210526315789475, 'entropy = 0.0\\nsamples = 14\\nvalue = [14, 0]'),\n",
       " Text(0.5325581395348837, 0.39473684210526316, 'entropy = 0.0\\nsamples = 2\\nvalue = [0, 2]'),\n",
       " Text(0.5511627906976744, 0.6052631578947368, 'x[2] <= 0.656\\nentropy = 0.024\\nsamples = 1274\\nvalue = [1271.0, 3.0]'),\n",
       " Text(0.5465116279069767, 0.5526315789473685, 'entropy = 0.0\\nsamples = 1059\\nvalue = [1059, 0]'),\n",
       " Text(0.5558139534883721, 0.5526315789473685, 'x[27] <= 2.961\\nentropy = 0.106\\nsamples = 215\\nvalue = [212, 3]'),\n",
       " Text(0.5511627906976744, 0.5, 'x[7] <= 9.167\\nentropy = 0.414\\nsamples = 36\\nvalue = [33, 3]'),\n",
       " Text(0.5465116279069767, 0.4473684210526316, 'x[26] <= 32.112\\nentropy = 0.954\\nsamples = 8\\nvalue = [5, 3]'),\n",
       " Text(0.541860465116279, 0.39473684210526316, 'x[42] <= 61.603\\nentropy = 0.65\\nsamples = 6\\nvalue = [5, 1]'),\n",
       " Text(0.5372093023255814, 0.34210526315789475, 'entropy = 0.0\\nsamples = 5\\nvalue = [5, 0]'),\n",
       " Text(0.5465116279069767, 0.34210526315789475, 'entropy = 0.0\\nsamples = 1\\nvalue = [0, 1]'),\n",
       " Text(0.5511627906976744, 0.39473684210526316, 'entropy = 0.0\\nsamples = 2\\nvalue = [0, 2]'),\n",
       " Text(0.5558139534883721, 0.4473684210526316, 'entropy = 0.0\\nsamples = 28\\nvalue = [28, 0]'),\n",
       " Text(0.5604651162790698, 0.5, 'entropy = 0.0\\nsamples = 179\\nvalue = [179, 0]'),\n",
       " Text(0.5895348837209302, 0.6578947368421053, 'x[55] <= 0.42\\nentropy = 0.306\\nsamples = 201\\nvalue = [190, 11]'),\n",
       " Text(0.5697674418604651, 0.6052631578947368, 'x[38] <= 6.172\\nentropy = 0.145\\nsamples = 145\\nvalue = [142, 3]'),\n",
       " Text(0.5651162790697675, 0.5526315789473685, 'entropy = 0.0\\nsamples = 125\\nvalue = [125, 0]'),\n",
       " Text(0.5744186046511628, 0.5526315789473685, 'x[59] <= 3.022\\nentropy = 0.61\\nsamples = 20\\nvalue = [17, 3]'),\n",
       " Text(0.5697674418604651, 0.5, 'entropy = 0.0\\nsamples = 2\\nvalue = [0, 2]'),\n",
       " Text(0.5790697674418605, 0.5, 'x[58] <= 672.475\\nentropy = 0.31\\nsamples = 18\\nvalue = [17, 1]'),\n",
       " Text(0.5744186046511628, 0.4473684210526316, 'entropy = 0.0\\nsamples = 17\\nvalue = [17, 0]'),\n",
       " Text(0.5837209302325581, 0.4473684210526316, 'entropy = 0.0\\nsamples = 1\\nvalue = [0, 1]'),\n",
       " Text(0.6093023255813953, 0.6052631578947368, 'x[55] <= 0.471\\nentropy = 0.592\\nsamples = 56\\nvalue = [48, 8]'),\n",
       " Text(0.5930232558139535, 0.5526315789473685, 'x[22] <= 0.068\\nentropy = 1.0\\nsamples = 10\\nvalue = [5, 5]'),\n",
       " Text(0.5883720930232558, 0.5, 'entropy = 0.0\\nsamples = 3\\nvalue = [0, 3]'),\n",
       " Text(0.5976744186046512, 0.5, 'x[44] <= 4.601\\nentropy = 0.863\\nsamples = 7\\nvalue = [5, 2]'),\n",
       " Text(0.5930232558139535, 0.4473684210526316, 'entropy = 0.0\\nsamples = 5\\nvalue = [5, 0]'),\n",
       " Text(0.6023255813953489, 0.4473684210526316, 'entropy = 0.0\\nsamples = 2\\nvalue = [0, 2]'),\n",
       " Text(0.6255813953488372, 0.5526315789473685, 'x[45] <= 0.039\\nentropy = 0.348\\nsamples = 46\\nvalue = [43, 3]'),\n",
       " Text(0.6162790697674418, 0.5, 'x[62] <= 81.992\\nentropy = 0.971\\nsamples = 5\\nvalue = [3, 2]'),\n",
       " Text(0.6116279069767442, 0.4473684210526316, 'entropy = 0.0\\nsamples = 2\\nvalue = [0, 2]'),\n",
       " Text(0.6209302325581395, 0.4473684210526316, 'entropy = 0.0\\nsamples = 3\\nvalue = [3, 0]'),\n",
       " Text(0.6348837209302326, 0.5, 'x[42] <= 17.596\\nentropy = 0.165\\nsamples = 41\\nvalue = [40, 1]'),\n",
       " Text(0.6302325581395349, 0.4473684210526316, 'entropy = 0.0\\nsamples = 1\\nvalue = [0, 1]'),\n",
       " Text(0.6395348837209303, 0.4473684210526316, 'entropy = 0.0\\nsamples = 40\\nvalue = [40, 0]'),\n",
       " Text(0.7690406976744186, 0.868421052631579, 'x[11] <= 0.332\\nentropy = 0.623\\nsamples = 592\\nvalue = [500, 92]'),\n",
       " Text(0.7055232558139535, 0.8157894736842105, 'x[33] <= 0.085\\nentropy = 0.76\\nsamples = 400\\nvalue = [312, 88]'),\n",
       " Text(0.6680232558139535, 0.7631578947368421, 'x[34] <= 0.07\\nentropy = 0.113\\nsamples = 66\\nvalue = [65, 1]'),\n",
       " Text(0.6633720930232558, 0.7105263157894737, 'entropy = 0.0\\nsamples = 65\\nvalue = [65, 0]'),\n",
       " Text(0.6726744186046512, 0.7105263157894737, 'entropy = 0.0\\nsamples = 1\\nvalue = [0, 1]'),\n",
       " Text(0.7430232558139535, 0.7631578947368421, 'x[44] <= 0.437\\nentropy = 0.827\\nsamples = 334\\nvalue = [247, 87]'),\n",
       " Text(0.6819767441860465, 0.7105263157894737, 'x[34] <= -0.061\\nentropy = 0.999\\nsamples = 91\\nvalue = [47.0, 44.0]'),\n",
       " Text(0.6488372093023256, 0.6578947368421053, 'x[26] <= -17.905\\nentropy = 0.787\\nsamples = 34\\nvalue = [8, 26]'),\n",
       " Text(0.6395348837209303, 0.6052631578947368, 'x[60] <= 78.565\\nentropy = 0.863\\nsamples = 7\\nvalue = [5, 2]'),\n",
       " Text(0.6348837209302326, 0.5526315789473685, 'entropy = 0.0\\nsamples = 2\\nvalue = [0, 2]'),\n",
       " Text(0.6441860465116279, 0.5526315789473685, 'entropy = 0.0\\nsamples = 5\\nvalue = [5, 0]'),\n",
       " Text(0.6581395348837209, 0.6052631578947368, 'x[23] <= -0.005\\nentropy = 0.503\\nsamples = 27\\nvalue = [3, 24]'),\n",
       " Text(0.6534883720930232, 0.5526315789473685, 'entropy = 0.0\\nsamples = 20\\nvalue = [0, 20]'),\n",
       " Text(0.6627906976744186, 0.5526315789473685, 'x[23] <= 0.007\\nentropy = 0.985\\nsamples = 7\\nvalue = [3, 4]'),\n",
       " Text(0.6581395348837209, 0.5, 'entropy = 0.0\\nsamples = 3\\nvalue = [3, 0]'),\n",
       " Text(0.6674418604651163, 0.5, 'entropy = 0.0\\nsamples = 4\\nvalue = [0, 4]'),\n",
       " Text(0.7151162790697675, 0.6578947368421053, 'x[4] <= -44.094\\nentropy = 0.9\\nsamples = 57\\nvalue = [39, 18]'),\n",
       " Text(0.6976744186046512, 0.6052631578947368, 'x[53] <= -4465.15\\nentropy = 0.755\\nsamples = 46\\nvalue = [36, 10]'),\n",
       " Text(0.6813953488372093, 0.5526315789473685, 'x[56] <= 0.978\\nentropy = 0.863\\nsamples = 7\\nvalue = [2, 5]'),\n",
       " Text(0.6767441860465117, 0.5, 'entropy = 0.0\\nsamples = 4\\nvalue = [0, 4]'),\n",
       " Text(0.686046511627907, 0.5, 'x[8] <= 1.289\\nentropy = 0.918\\nsamples = 3\\nvalue = [2, 1]'),\n",
       " Text(0.6813953488372093, 0.4473684210526316, 'entropy = 0.0\\nsamples = 2\\nvalue = [2, 0]'),\n",
       " Text(0.6906976744186046, 0.4473684210526316, 'entropy = 0.0\\nsamples = 1\\nvalue = [0, 1]'),\n",
       " Text(0.713953488372093, 0.5526315789473685, 'x[44] <= 0.094\\nentropy = 0.552\\nsamples = 39\\nvalue = [34, 5]'),\n",
       " Text(0.7046511627906977, 0.5, 'x[5] <= -1.592\\nentropy = 0.811\\nsamples = 4\\nvalue = [1, 3]'),\n",
       " Text(0.7, 0.4473684210526316, 'entropy = 0.0\\nsamples = 1\\nvalue = [1, 0]'),\n",
       " Text(0.7093023255813954, 0.4473684210526316, 'entropy = 0.0\\nsamples = 3\\nvalue = [0, 3]'),\n",
       " Text(0.7232558139534884, 0.5, 'x[4] <= -84.8\\nentropy = 0.316\\nsamples = 35\\nvalue = [33, 2]'),\n",
       " Text(0.7186046511627907, 0.4473684210526316, 'entropy = 0.0\\nsamples = 25\\nvalue = [25, 0]'),\n",
       " Text(0.727906976744186, 0.4473684210526316, 'x[41] <= 76.011\\nentropy = 0.722\\nsamples = 10\\nvalue = [8, 2]'),\n",
       " Text(0.7232558139534884, 0.39473684210526316, 'entropy = 0.0\\nsamples = 7\\nvalue = [7, 0]'),\n",
       " Text(0.7325581395348837, 0.39473684210526316, 'x[61] <= 3.723\\nentropy = 0.918\\nsamples = 3\\nvalue = [1, 2]'),\n",
       " Text(0.727906976744186, 0.34210526315789475, 'entropy = 0.0\\nsamples = 2\\nvalue = [0, 2]'),\n",
       " Text(0.7372093023255814, 0.34210526315789475, 'entropy = 0.0\\nsamples = 1\\nvalue = [1, 0]'),\n",
       " Text(0.7325581395348837, 0.6052631578947368, 'x[44] <= 0.149\\nentropy = 0.845\\nsamples = 11\\nvalue = [3, 8]'),\n",
       " Text(0.727906976744186, 0.5526315789473685, 'entropy = 0.0\\nsamples = 2\\nvalue = [2, 0]'),\n",
       " Text(0.7372093023255814, 0.5526315789473685, 'x[28] <= 2.888\\nentropy = 0.503\\nsamples = 9\\nvalue = [1, 8]'),\n",
       " Text(0.7325581395348837, 0.5, 'entropy = 0.0\\nsamples = 1\\nvalue = [1, 0]'),\n",
       " Text(0.7418604651162791, 0.5, 'entropy = 0.0\\nsamples = 8\\nvalue = [0, 8]'),\n",
       " Text(0.8040697674418604, 0.7105263157894737, 'x[58] <= 6.203\\nentropy = 0.673\\nsamples = 243\\nvalue = [200, 43]'),\n",
       " Text(0.7755813953488372, 0.6578947368421053, 'x[59] <= 16.224\\nentropy = 0.889\\nsamples = 88\\nvalue = [61.0, 27.0]'),\n",
       " Text(0.7709302325581395, 0.6052631578947368, 'x[49] <= 0.263\\nentropy = 0.834\\nsamples = 83\\nvalue = [61, 22]'),\n",
       " Text(0.7558139534883721, 0.5526315789473685, 'x[13] <= -0.18\\nentropy = 0.276\\nsamples = 21\\nvalue = [20, 1]'),\n",
       " Text(0.7511627906976744, 0.5, 'entropy = 0.0\\nsamples = 1\\nvalue = [0, 1]'),\n",
       " Text(0.7604651162790698, 0.5, 'entropy = 0.0\\nsamples = 20\\nvalue = [20, 0]'),\n",
       " Text(0.786046511627907, 0.5526315789473685, 'x[44] <= 0.922\\nentropy = 0.924\\nsamples = 62\\nvalue = [41, 21]'),\n",
       " Text(0.7697674418604651, 0.5, 'x[60] <= 112.125\\nentropy = 0.794\\nsamples = 46\\nvalue = [35, 11]'),\n",
       " Text(0.7651162790697674, 0.4473684210526316, 'entropy = 0.0\\nsamples = 11\\nvalue = [11, 0]'),\n",
       " Text(0.7744186046511627, 0.4473684210526316, 'x[26] <= 0.945\\nentropy = 0.898\\nsamples = 35\\nvalue = [24, 11]'),\n",
       " Text(0.7651162790697674, 0.39473684210526316, 'x[45] <= 70.779\\nentropy = 0.592\\nsamples = 21\\nvalue = [18, 3]'),\n",
       " Text(0.7604651162790698, 0.34210526315789475, 'x[27] <= -0.294\\nentropy = 0.971\\nsamples = 5\\nvalue = [2, 3]'),\n",
       " Text(0.7558139534883721, 0.2894736842105263, 'entropy = 0.0\\nsamples = 2\\nvalue = [2, 0]'),\n",
       " Text(0.7651162790697674, 0.2894736842105263, 'entropy = 0.0\\nsamples = 3\\nvalue = [0, 3]'),\n",
       " Text(0.7697674418604651, 0.34210526315789475, 'entropy = 0.0\\nsamples = 16\\nvalue = [16, 0]'),\n",
       " Text(0.7837209302325582, 0.39473684210526316, 'x[40] <= 0.035\\nentropy = 0.985\\nsamples = 14\\nvalue = [6, 8]'),\n",
       " Text(0.7790697674418605, 0.34210526315789475, 'entropy = 0.0\\nsamples = 6\\nvalue = [0, 6]'),\n",
       " Text(0.7883720930232558, 0.34210526315789475, 'x[56] <= 0.887\\nentropy = 0.811\\nsamples = 8\\nvalue = [6, 2]'),\n",
       " Text(0.7837209302325582, 0.2894736842105263, 'entropy = 0.0\\nsamples = 2\\nvalue = [0, 2]'),\n",
       " Text(0.7930232558139535, 0.2894736842105263, 'entropy = 0.0\\nsamples = 6\\nvalue = [6, 0]'),\n",
       " Text(0.8023255813953488, 0.5, 'x[4] <= -3.642\\nentropy = 0.954\\nsamples = 16\\nvalue = [6, 10]'),\n",
       " Text(0.7976744186046512, 0.4473684210526316, 'entropy = 0.0\\nsamples = 7\\nvalue = [0, 7]'),\n",
       " Text(0.8069767441860465, 0.4473684210526316, 'x[28] <= 3.414\\nentropy = 0.918\\nsamples = 9\\nvalue = [6, 3]'),\n",
       " Text(0.8023255813953488, 0.39473684210526316, 'x[22] <= 0.015\\nentropy = 0.811\\nsamples = 4\\nvalue = [1, 3]'),\n",
       " Text(0.7976744186046512, 0.34210526315789475, 'entropy = 0.0\\nsamples = 3\\nvalue = [0, 3]'),\n",
       " Text(0.8069767441860465, 0.34210526315789475, 'entropy = 0.0\\nsamples = 1\\nvalue = [1, 0]'),\n",
       " Text(0.8116279069767441, 0.39473684210526316, 'entropy = 0.0\\nsamples = 5\\nvalue = [5, 0]'),\n",
       " Text(0.7802325581395348, 0.6052631578947368, 'entropy = 0.0\\nsamples = 5\\nvalue = [0, 5]'),\n",
       " Text(0.8325581395348837, 0.6578947368421053, 'x[52] <= 0.842\\nentropy = 0.479\\nsamples = 155\\nvalue = [139, 16]'),\n",
       " Text(0.827906976744186, 0.6052631578947368, 'entropy = 0.0\\nsamples = 34\\nvalue = [34, 0]'),\n",
       " Text(0.8372093023255814, 0.6052631578947368, 'x[19] <= 48.201\\nentropy = 0.564\\nsamples = 121\\nvalue = [105, 16]'),\n",
       " Text(0.8325581395348837, 0.5526315789473685, 'x[5] <= -0.747\\nentropy = 0.646\\nsamples = 97\\nvalue = [81, 16]'),\n",
       " Text(0.827906976744186, 0.5, 'entropy = 0.0\\nsamples = 2\\nvalue = [0, 2]'),\n",
       " Text(0.8372093023255814, 0.5, 'x[19] <= 46.754\\nentropy = 0.603\\nsamples = 95\\nvalue = [81.0, 14.0]'),\n",
       " Text(0.8325581395348837, 0.4473684210526316, 'x[54] <= 0.057\\nentropy = 0.555\\nsamples = 93\\nvalue = [81, 12]'),\n",
       " Text(0.827906976744186, 0.39473684210526316, 'x[12] <= 0.048\\nentropy = 0.65\\nsamples = 72\\nvalue = [60, 12]'),\n",
       " Text(0.8162790697674419, 0.34210526315789475, 'x[3] <= 1.619\\nentropy = 0.474\\nsamples = 59\\nvalue = [53, 6]'),\n",
       " Text(0.8116279069767441, 0.2894736842105263, 'x[3] <= 1.286\\nentropy = 0.639\\nsamples = 37\\nvalue = [31, 6]'),\n",
       " Text(0.8023255813953488, 0.23684210526315788, 'x[52] <= 0.862\\nentropy = 0.229\\nsamples = 27\\nvalue = [26, 1]'),\n",
       " Text(0.7976744186046512, 0.18421052631578946, 'x[2] <= -0.002\\nentropy = 1.0\\nsamples = 2\\nvalue = [1, 1]'),\n",
       " Text(0.7930232558139535, 0.13157894736842105, 'entropy = 0.0\\nsamples = 1\\nvalue = [0, 1]'),\n",
       " Text(0.8023255813953488, 0.13157894736842105, 'entropy = 0.0\\nsamples = 1\\nvalue = [1, 0]'),\n",
       " Text(0.8069767441860465, 0.18421052631578946, 'entropy = 0.0\\nsamples = 25\\nvalue = [25, 0]'),\n",
       " Text(0.8209302325581396, 0.23684210526315788, 'x[25] <= 0.046\\nentropy = 1.0\\nsamples = 10\\nvalue = [5, 5]'),\n",
       " Text(0.8162790697674419, 0.18421052631578946, 'entropy = 0.0\\nsamples = 4\\nvalue = [0, 4]'),\n",
       " Text(0.8255813953488372, 0.18421052631578946, 'x[19] <= 6.801\\nentropy = 0.65\\nsamples = 6\\nvalue = [5, 1]'),\n",
       " Text(0.8209302325581396, 0.13157894736842105, 'entropy = 0.0\\nsamples = 1\\nvalue = [0, 1]'),\n",
       " Text(0.8302325581395349, 0.13157894736842105, 'entropy = 0.0\\nsamples = 5\\nvalue = [5, 0]'),\n",
       " Text(0.8209302325581396, 0.2894736842105263, 'entropy = 0.0\\nsamples = 22\\nvalue = [22, 0]'),\n",
       " Text(0.8395348837209302, 0.34210526315789475, 'x[29] <= 0.15\\nentropy = 0.996\\nsamples = 13\\nvalue = [7, 6]'),\n",
       " Text(0.8348837209302326, 0.2894736842105263, 'entropy = 0.0\\nsamples = 4\\nvalue = [0, 4]'),\n",
       " Text(0.8441860465116279, 0.2894736842105263, 'x[16] <= 1.266\\nentropy = 0.764\\nsamples = 9\\nvalue = [7, 2]'),\n",
       " Text(0.8395348837209302, 0.23684210526315788, 'x[42] <= 70.866\\nentropy = 0.918\\nsamples = 3\\nvalue = [1, 2]'),\n",
       " Text(0.8348837209302326, 0.18421052631578946, 'entropy = 0.0\\nsamples = 1\\nvalue = [1, 0]'),\n",
       " Text(0.8441860465116279, 0.18421052631578946, 'entropy = 0.0\\nsamples = 2\\nvalue = [0, 2]'),\n",
       " Text(0.8488372093023255, 0.23684210526315788, 'entropy = 0.0\\nsamples = 6\\nvalue = [6, 0]'),\n",
       " Text(0.8372093023255814, 0.39473684210526316, 'entropy = 0.0\\nsamples = 21\\nvalue = [21, 0]'),\n",
       " Text(0.8418604651162791, 0.4473684210526316, 'entropy = 0.0\\nsamples = 2\\nvalue = [0, 2]'),\n",
       " Text(0.8418604651162791, 0.5526315789473685, 'entropy = 0.0\\nsamples = 24\\nvalue = [24, 0]'),\n",
       " Text(0.8325581395348837, 0.8157894736842105, 'x[60] <= 8.083\\nentropy = 0.146\\nsamples = 192\\nvalue = [188, 4]'),\n",
       " Text(0.8232558139534883, 0.7631578947368421, 'x[54] <= 0.062\\nentropy = 0.954\\nsamples = 8\\nvalue = [5, 3]'),\n",
       " Text(0.8186046511627907, 0.7105263157894737, 'entropy = 0.0\\nsamples = 3\\nvalue = [0, 3]'),\n",
       " Text(0.827906976744186, 0.7105263157894737, 'entropy = 0.0\\nsamples = 5\\nvalue = [5, 0]'),\n",
       " Text(0.8418604651162791, 0.7631578947368421, 'x[53] <= 14962.0\\nentropy = 0.049\\nsamples = 184\\nvalue = [183, 1]'),\n",
       " Text(0.8372093023255814, 0.7105263157894737, 'entropy = 0.0\\nsamples = 175\\nvalue = [175, 0]'),\n",
       " Text(0.8465116279069768, 0.7105263157894737, 'x[62] <= 6.498\\nentropy = 0.503\\nsamples = 9\\nvalue = [8, 1]'),\n",
       " Text(0.8418604651162791, 0.6578947368421053, 'entropy = 0.0\\nsamples = 8\\nvalue = [8, 0]'),\n",
       " Text(0.8511627906976744, 0.6578947368421053, 'entropy = 0.0\\nsamples = 1\\nvalue = [0, 1]'),\n",
       " Text(0.9098837209302325, 0.9210526315789473, 'x[33] <= 0.434\\nentropy = 0.69\\nsamples = 742\\nvalue = [605, 137]'),\n",
       " Text(0.8130325672238372, 0.9473684210526316, '  False'),\n",
       " Text(0.8813953488372093, 0.868421052631579, 'x[32] <= 1.543\\nentropy = 0.893\\nsamples = 158\\nvalue = [49, 109]'),\n",
       " Text(0.8697674418604651, 0.8157894736842105, 'x[53] <= -959.47\\nentropy = 0.747\\nsamples = 61\\nvalue = [48, 13]'),\n",
       " Text(0.8604651162790697, 0.7631578947368421, 'x[54] <= 0.098\\nentropy = 0.722\\nsamples = 15\\nvalue = [3, 12]'),\n",
       " Text(0.8558139534883721, 0.7105263157894737, 'entropy = 0.0\\nsamples = 12\\nvalue = [0, 12]'),\n",
       " Text(0.8651162790697674, 0.7105263157894737, 'entropy = 0.0\\nsamples = 3\\nvalue = [3, 0]'),\n",
       " Text(0.8790697674418605, 0.7631578947368421, 'x[33] <= -0.048\\nentropy = 0.151\\nsamples = 46\\nvalue = [45, 1]'),\n",
       " Text(0.8744186046511628, 0.7105263157894737, 'entropy = 0.0\\nsamples = 1\\nvalue = [0, 1]'),\n",
       " Text(0.8837209302325582, 0.7105263157894737, 'entropy = 0.0\\nsamples = 45\\nvalue = [45, 0]'),\n",
       " Text(0.8930232558139535, 0.8157894736842105, 'x[39] <= 22.368\\nentropy = 0.083\\nsamples = 97\\nvalue = [1, 96]'),\n",
       " Text(0.8883720930232558, 0.7631578947368421, 'entropy = 0.0\\nsamples = 96\\nvalue = [0, 96]'),\n",
       " Text(0.8976744186046511, 0.7631578947368421, 'entropy = 0.0\\nsamples = 1\\nvalue = [1, 0]'),\n",
       " Text(0.9383720930232559, 0.868421052631579, 'x[40] <= -0.235\\nentropy = 0.278\\nsamples = 584\\nvalue = [556, 28]'),\n",
       " Text(0.9162790697674419, 0.8157894736842105, 'x[41] <= 96.144\\nentropy = 0.918\\nsamples = 21\\nvalue = [14, 7]'),\n",
       " Text(0.9069767441860465, 0.7631578947368421, 'x[62] <= 0.752\\nentropy = 0.863\\nsamples = 7\\nvalue = [2, 5]'),\n",
       " Text(0.9023255813953488, 0.7105263157894737, 'x[20] <= 3.446\\nentropy = 0.918\\nsamples = 3\\nvalue = [2, 1]'),\n",
       " Text(0.8976744186046511, 0.6578947368421053, 'entropy = 0.0\\nsamples = 2\\nvalue = [2, 0]'),\n",
       " Text(0.9069767441860465, 0.6578947368421053, 'entropy = 0.0\\nsamples = 1\\nvalue = [0, 1]'),\n",
       " Text(0.9116279069767442, 0.7105263157894737, 'entropy = 0.0\\nsamples = 4\\nvalue = [0, 4]'),\n",
       " Text(0.9255813953488372, 0.7631578947368421, 'x[53] <= 214.275\\nentropy = 0.592\\nsamples = 14\\nvalue = [12, 2]'),\n",
       " Text(0.9209302325581395, 0.7105263157894737, 'entropy = 0.0\\nsamples = 11\\nvalue = [11, 0]'),\n",
       " Text(0.9302325581395349, 0.7105263157894737, 'x[45] <= 111.485\\nentropy = 0.918\\nsamples = 3\\nvalue = [1, 2]'),\n",
       " Text(0.9255813953488372, 0.6578947368421053, 'entropy = 0.0\\nsamples = 2\\nvalue = [0, 2]'),\n",
       " Text(0.9348837209302325, 0.6578947368421053, 'entropy = 0.0\\nsamples = 1\\nvalue = [1, 0]'),\n",
       " Text(0.9604651162790697, 0.8157894736842105, 'x[20] <= 1.044\\nentropy = 0.23\\nsamples = 563\\nvalue = [542, 21]'),\n",
       " Text(0.9441860465116279, 0.7631578947368421, 'x[39] <= -2.362\\nentropy = 0.109\\nsamples = 348\\nvalue = [343, 5]'),\n",
       " Text(0.9395348837209302, 0.7105263157894737, 'entropy = 0.0\\nsamples = 1\\nvalue = [0, 1]'),\n",
       " Text(0.9488372093023256, 0.7105263157894737, 'x[26] <= 1103.4\\nentropy = 0.091\\nsamples = 347\\nvalue = [343.0, 4.0]'),\n",
       " Text(0.9441860465116279, 0.6578947368421053, 'entropy = 0.0\\nsamples = 1\\nvalue = [0, 1]'),\n",
       " Text(0.9534883720930233, 0.6578947368421053, 'x[20] <= 0.728\\nentropy = 0.072\\nsamples = 346\\nvalue = [343.0, 3.0]'),\n",
       " Text(0.9488372093023256, 0.6052631578947368, 'x[20] <= 0.725\\nentropy = 0.229\\nsamples = 81\\nvalue = [78, 3]'),\n",
       " Text(0.9441860465116279, 0.5526315789473685, 'x[23] <= -0.239\\nentropy = 0.169\\nsamples = 80\\nvalue = [78, 2]'),\n",
       " Text(0.9395348837209302, 0.5, 'x[23] <= -0.287\\nentropy = 0.722\\nsamples = 10\\nvalue = [8, 2]'),\n",
       " Text(0.9348837209302325, 0.4473684210526316, 'entropy = 0.0\\nsamples = 7\\nvalue = [7, 0]'),\n",
       " Text(0.9441860465116279, 0.4473684210526316, 'x[37] <= -0.044\\nentropy = 0.918\\nsamples = 3\\nvalue = [1, 2]'),\n",
       " Text(0.9395348837209302, 0.39473684210526316, 'entropy = 0.0\\nsamples = 1\\nvalue = [1, 0]'),\n",
       " Text(0.9488372093023256, 0.39473684210526316, 'entropy = 0.0\\nsamples = 2\\nvalue = [0, 2]'),\n",
       " Text(0.9488372093023256, 0.5, 'entropy = 0.0\\nsamples = 70\\nvalue = [70, 0]'),\n",
       " Text(0.9534883720930233, 0.5526315789473685, 'entropy = 0.0\\nsamples = 1\\nvalue = [0, 1]'),\n",
       " Text(0.958139534883721, 0.6052631578947368, 'entropy = 0.0\\nsamples = 265\\nvalue = [265, 0]'),\n",
       " Text(0.9767441860465116, 0.7631578947368421, 'x[33] <= 0.72\\nentropy = 0.382\\nsamples = 215\\nvalue = [199, 16]'),\n",
       " Text(0.9674418604651163, 0.7105263157894737, 'x[46] <= 0.001\\nentropy = 1.0\\nsamples = 8\\nvalue = [4, 4]'),\n",
       " Text(0.9627906976744186, 0.6578947368421053, 'entropy = 0.0\\nsamples = 4\\nvalue = [4, 0]'),\n",
       " Text(0.9720930232558139, 0.6578947368421053, 'entropy = 0.0\\nsamples = 4\\nvalue = [0, 4]'),\n",
       " Text(0.986046511627907, 0.7105263157894737, 'x[2] <= 0.633\\nentropy = 0.319\\nsamples = 207\\nvalue = [195, 12]'),\n",
       " Text(0.9813953488372092, 0.6578947368421053, 'x[43] <= 74.916\\nentropy = 0.408\\nsamples = 147\\nvalue = [135.0, 12.0]'),\n",
       " Text(0.9767441860465116, 0.6052631578947368, 'x[30] <= 0.028\\nentropy = 0.362\\nsamples = 145\\nvalue = [135, 10]'),\n",
       " Text(0.9674418604651163, 0.5526315789473685, 'x[38] <= 2.069\\nentropy = 0.711\\nsamples = 36\\nvalue = [29, 7]'),\n",
       " Text(0.9627906976744186, 0.5, 'x[23] <= 0.012\\nentropy = 0.533\\nsamples = 33\\nvalue = [29, 4]'),\n",
       " Text(0.958139534883721, 0.4473684210526316, 'entropy = 0.0\\nsamples = 18\\nvalue = [18, 0]'),\n",
       " Text(0.9674418604651163, 0.4473684210526316, 'x[12] <= 0.025\\nentropy = 0.837\\nsamples = 15\\nvalue = [11, 4]'),\n",
       " Text(0.9627906976744186, 0.39473684210526316, 'x[61] <= 6.707\\nentropy = 1.0\\nsamples = 8\\nvalue = [4, 4]'),\n",
       " Text(0.958139534883721, 0.34210526315789475, 'x[30] <= 0.015\\nentropy = 0.722\\nsamples = 5\\nvalue = [4, 1]'),\n",
       " Text(0.9534883720930233, 0.2894736842105263, 'entropy = 0.0\\nsamples = 4\\nvalue = [4, 0]'),\n",
       " Text(0.9627906976744186, 0.2894736842105263, 'entropy = 0.0\\nsamples = 1\\nvalue = [0, 1]'),\n",
       " Text(0.9674418604651163, 0.34210526315789475, 'entropy = 0.0\\nsamples = 3\\nvalue = [0, 3]'),\n",
       " Text(0.9720930232558139, 0.39473684210526316, 'entropy = 0.0\\nsamples = 7\\nvalue = [7, 0]'),\n",
       " Text(0.9720930232558139, 0.5, 'entropy = 0.0\\nsamples = 3\\nvalue = [0, 3]'),\n",
       " Text(0.986046511627907, 0.5526315789473685, 'x[47] <= 0.092\\nentropy = 0.182\\nsamples = 109\\nvalue = [106, 3]'),\n",
       " Text(0.9813953488372092, 0.5, 'entropy = 0.0\\nsamples = 74\\nvalue = [74, 0]'),\n",
       " Text(0.9906976744186047, 0.5, 'x[56] <= 0.89\\nentropy = 0.422\\nsamples = 35\\nvalue = [32, 3]'),\n",
       " Text(0.986046511627907, 0.4473684210526316, 'x[53] <= 56201.5\\nentropy = 0.196\\nsamples = 33\\nvalue = [32, 1]'),\n",
       " Text(0.9813953488372092, 0.39473684210526316, 'entropy = 0.0\\nsamples = 32\\nvalue = [32, 0]'),\n",
       " Text(0.9906976744186047, 0.39473684210526316, 'entropy = 0.0\\nsamples = 1\\nvalue = [0, 1]'),\n",
       " Text(0.9953488372093023, 0.4473684210526316, 'entropy = 0.0\\nsamples = 2\\nvalue = [0, 2]'),\n",
       " Text(0.986046511627907, 0.6052631578947368, 'entropy = 0.0\\nsamples = 2\\nvalue = [0, 2]'),\n",
       " Text(0.9906976744186047, 0.6578947368421053, 'entropy = 0.0\\nsamples = 60\\nvalue = [60, 0]')]"
      ]
     },
     "execution_count": 14,
     "metadata": {},
     "output_type": "execute_result"
    },
    {
     "data": {
      "image/png": "[encoded data removed]",
      "text/plain": [
       "<Figure size 640x480 with 1 Axes>"
      ]
     },
     "metadata": {},
     "output_type": "display_data"
    }
   ],
   "source": [
    "from sklearn.tree import DecisionTreeClassifier, plot_tree\n",
    "from sklearn.metrics import roc_auc_score\n",
    "\n",
    "classifier = DecisionTreeClassifier(criterion=\"entropy\", random_state=0)\n",
    "classifier = classifier.fit(X_train, y_train)\n",
    "\n",
    "y_score = classifier.predict_proba(X_test)[:, 1]\n",
    "auroc = roc_auc_score(y_test, y_score)\n",
    "print(f\"auroc = {auroc}\")\n",
    "plot_tree(classifier)"
   ]
  },
  {
   "cell_type": "code",
   "execution_count": 15,
   "metadata": {
    "editable": true,
    "execution": {
     "iopub.execute_input": "2024-10-23T17:25:31.941414Z",
     "iopub.status.busy": "2024-10-23T17:25:31.941250Z",
     "iopub.status.idle": "2024-10-23T17:25:31.944260Z",
     "shell.execute_reply": "2024-10-23T17:25:31.943716Z",
     "shell.execute_reply.started": "2024-10-23T17:25:31.941403Z"
    },
    "slideshow": {
     "slide_type": ""
    },
    "tags": [
     "ex"
    ]
   },
   "outputs": [
    {
     "name": "stdout",
     "output_type": "stream",
     "text": [
      "Solution is correct!\n"
     ]
    }
   ],
   "source": [
    "assert auroc > 0.7\n",
    "\n",
    "print(\"Solution is correct!\")"
   ]
  },
  {
   "cell_type": "markdown",
   "metadata": {
    "editable": true,
    "pycharm": {
     "name": "#%% md\n"
    },
    "slideshow": {
     "slide_type": ""
    },
    "tags": [
     "ex"
    ]
   },
   "source": [
    "// auroc przyjmuje wartość z przedziału od 0 do 1, gdzie wartość 0 oznacza losowe zgadywanie predykcji. W takim razie, osiągana przez klasyfikator wartość ok. 0.73 jest bardzo duża."
   ]
  },
  {
   "cell_type": "markdown",
   "metadata": {
    "editable": true,
    "pycharm": {
     "name": "#%% md\n"
    },
    "slideshow": {
     "slide_type": ""
    },
    "tags": []
   },
   "source": [
    "## Uczenie zespołowe, bagging, lasy losowe"
   ]
  },
  {
   "cell_type": "markdown",
   "metadata": {
    "editable": true,
    "pycharm": {
     "name": "#%% md\n"
    },
    "slideshow": {
     "slide_type": ""
    },
    "tags": []
   },
   "source": [
    "Bardzo często wiele klasyfikatorów działających razem daje lepsze wyniki niż pojedynczy klasyfikator. Takie podejście nazywa się **uczeniem zespołowym (ensemble learning)**. Istnieje wiele różnych podejść do tworzenia takich klasyfikatorów złożonych (ensemble classifiers).\n",
    "\n",
    "Podstawową metodą jest **bagging**:\n",
    "1. Wylosuj N (np. 100, 500, ...) próbek boostrapowych (boostrap sample) ze zbioru treningowego. Próbka boostrapowa to po prostu losowanie ze zwracaniem, gdzie dla wejściowego zbioru z M wierszami losujemy M próbek (czyli tyle ile było w początkowym zbiorze), spośród N wylosowanych próbek. Będą tam powtórzenia, średnio nawet 1/3, ale się tym nie przejmujemy.\n",
    "2. Wytrenuj klasyfikator bazowy (base classifier) na każdej z próbek boostrapowych.\n",
    "3. Stwórz klasyfikator złożony poprzez uśrednienie predykcji każdego z klasyfikatorów bazowych.\n",
    "\n",
    "<img src = https://upload.wikimedia.org/wikipedia/commons/thumb/c/c8/Ensemble_Bagging.svg/440px-Ensemble_Bagging.svg.png width = \"440\" height = \"248\" >\n",
    "\n",
    "Typowo klasyfikatory bazowe są bardzo proste, żeby można było szybko wytrenować ich dużą liczbę. Prawie zawsze używa się do tego drzew decyzyjnych. Dla klasyfikacji uśrednienie wyników polega na głosowaniu - dla nowej próbki każdy klasyfikator bazowy ją klasyfikuje, sumuje się głosy na każdą klasę i zwraca najbardziej popularną decyzję.\n",
    "\n",
    "Taki sposób uczenia zmniejsza wariancję klasyfikatora. Intuicyjnie, skoro coś uśredniamy, to siłą rzeczy będzie mniej rozrzucone, bo dużo ciężej będzie osiągnąć jakąś skrajność. Redukuje to też overfitting.\n",
    "\n",
    "**Lasy losowe (Random Forests)** to ulepszenie baggingu. Zaobserwowano, że pomimo losowania próbek boostrapowych, w baggingu poszczególne drzewa są do siebie bardzo podobne (są skorelowane), używają podobnych cech ze zbioru. My natomiast chcemy zróżnicowania, żeby mieć niski bias - redukcją wariancji zajmuje się uśrednianie. Dlatego używa się metody losowej podprzestrzeni (random subspace method) - przy każdym podziale drzewa losuje się tylko pewien podzbiór cech, których możemy użyć do tego podziału. Typowo jest to pierwiastek kwadratowy z ogólnej liczby cech.\n",
    "\n",
    "Zarówno bagging, jak i lasy losowe mają dodatkowo bardzo przyjemną własność - są mało czułe na hiperparametry, szczególnie na liczbę drzew. W praktyce wystarczy ustawić 500 czy 1000 drzew i klasyfikator będzie dobrze działać. Dalsze dostrajanie hiperparametrów może jeszcze trochę poprawić wyniki, ale nie tak bardzo, jak przy innych klasyfikatorach. Jest to zatem doskonały wybór domyślny, kiedy nie wiemy, jakiego klasyfikatora użyć.\n",
    "\n",
    "Dodatkowo jest to problem **embarassingly parallel** - drzewa można trenować w 100% równolegle, dzięki czemu jest to dodatkowo wydajna obliczeniowo metoda.\n",
    "\n",
    "Głębsze wytłumaczenie, z interaktywnymi wizualizacjami, można znaleźć [tutaj](https://mlu-explain.github.io/random-forest/). Dobrze tłumaczy je też [ta seria filmów](https://www.youtube.com/watch?v=J4Wdy0Wc_xQ&t=480s)."
   ]
  },
  {
   "cell_type": "markdown",
   "metadata": {
    "editable": true,
    "slideshow": {
     "slide_type": ""
    },
    "tags": [
     "ex"
    ]
   },
   "source": [
    "### Zadanie 4 (0.5 punktu)"
   ]
  },
  {
   "cell_type": "markdown",
   "metadata": {
    "editable": true,
    "slideshow": {
     "slide_type": ""
    },
    "tags": [
     "ex"
    ]
   },
   "source": [
    "1. Wytrenuj klasyfikator Random Forest (klasa `RandomForestClassifier`). Użyj 500 drzew i entropii jako kryterium podziału.\n",
    "2. Sprawdź AUROC na zbiorze testowym.\n",
    "3. Skomentuj wynik w odniesieniu do drzewa decyzyjnego.\n",
    "\n",
    "**Uwaga:** pamiętaj o ustawieniu `random_state=0`. Dla przyspieszenia ustaw `n_jobs=-1` (użyje tylu procesów, ile masz dostępnych rdzeni procesora). Pamiętaj też o przekazaniu prawdopodobieństw do metryki AUROC."
   ]
  },
  {
   "cell_type": "code",
   "execution_count": 16,
   "metadata": {
    "editable": true,
    "execution": {
     "iopub.execute_input": "2024-10-23T17:25:31.944770Z",
     "iopub.status.busy": "2024-10-23T17:25:31.944642Z",
     "iopub.status.idle": "2024-10-23T17:25:34.669560Z",
     "shell.execute_reply": "2024-10-23T17:25:34.669099Z",
     "shell.execute_reply.started": "2024-10-23T17:25:31.944760Z"
    },
    "lines_to_next_cell": 2,
    "pycharm": {
     "name": "#%%\n"
    },
    "slideshow": {
     "slide_type": ""
    },
    "tags": [
     "ex"
    ]
   },
   "outputs": [
    {
     "name": "stdout",
     "output_type": "stream",
     "text": [
      "auroc = 0.8994111948657404\n"
     ]
    }
   ],
   "source": [
    "from sklearn.ensemble import RandomForestClassifier\n",
    "\n",
    "classifier = RandomForestClassifier(n_estimators=500, criterion=\"entropy\", random_state=0, n_jobs=-1)\n",
    "classifier = classifier.fit(X_train, y_train)\n",
    "\n",
    "y_score = classifier.predict_proba(X_test)[:, 1]\n",
    "auroc = roc_auc_score(y_test, y_score)\n",
    "print(f\"auroc = {auroc}\")"
   ]
  },
  {
   "cell_type": "code",
   "execution_count": 17,
   "metadata": {
    "editable": true,
    "execution": {
     "iopub.execute_input": "2024-10-23T17:25:34.670216Z",
     "iopub.status.busy": "2024-10-23T17:25:34.670001Z",
     "iopub.status.idle": "2024-10-23T17:25:34.672831Z",
     "shell.execute_reply": "2024-10-23T17:25:34.672215Z",
     "shell.execute_reply.started": "2024-10-23T17:25:34.670204Z"
    },
    "slideshow": {
     "slide_type": ""
    },
    "tags": [
     "ex"
    ]
   },
   "outputs": [
    {
     "name": "stdout",
     "output_type": "stream",
     "text": [
      "Solution is correct!\n"
     ]
    }
   ],
   "source": [
    "assert auroc > 0.85\n",
    "\n",
    "print(\"Solution is correct!\")"
   ]
  },
  {
   "cell_type": "markdown",
   "metadata": {
    "editable": true,
    "pycharm": {
     "name": "#%% md\n"
    },
    "slideshow": {
     "slide_type": ""
    },
    "tags": [
     "ex"
    ]
   },
   "source": [
    "// Tym razem, auroc osiąga prawie 0.90. Jest dużo większe niż w przypadku drzewa decyzyjnego."
   ]
  },
  {
   "cell_type": "markdown",
   "metadata": {
    "editable": true,
    "pycharm": {
     "name": "#%% md\n"
    },
    "slideshow": {
     "slide_type": ""
    },
    "tags": []
   },
   "source": [
    "Jak zobaczymy poniżej, wynik ten możemy jednak jeszcze ulepszyć!"
   ]
  },
  {
   "cell_type": "markdown",
   "metadata": {
    "editable": true,
    "pycharm": {
     "name": "#%% md\n"
    },
    "slideshow": {
     "slide_type": ""
    },
    "tags": []
   },
   "source": [
    "## Oversampling, SMOTE"
   ]
  },
  {
   "cell_type": "markdown",
   "metadata": {
    "editable": true,
    "pycharm": {
     "name": "#%% md\n"
    },
    "slideshow": {
     "slide_type": ""
    },
    "tags": []
   },
   "source": [
    "W przypadku zbiorów niezbalansowanych można dokonać **balansowania (balancing)** zbioru. Są tutaj 2 metody:\n",
    "- **undersampling**: usunięcie przykładów z klasy dominującej\n",
    "- **oversampling**: wygenerowanie dodatkowych przykładów z klasy mniejszościowej\n",
    "\n",
    "Undersampling działa dobrze, kiedy niezbalansowanie jest niewielkie, a zbiór jest duży (możemy sobie pozwolić na usunięcie jego części). Oversampling typowo daje lepsze wyniki, istnieją dla niego bardzo efektywne algorytmy. W przypadku bardzo dużego niezbalansowania można zrobić oba.\n",
    "\n",
    "Typowym algorytmem oversamplingu jest **SMOTE (Synthetic Minority Oversampling TEchnique)**. Działa on następująco:\n",
    "1. Idź po kolei po przykładach z klasy mniejszościowej.\n",
    "2. Znajdź `k` najbliższych przykładów dla próbki, typowo `k=5`.\n",
    "3. Wylosuj tylu sąsiadów, ile trzeba do oversamplingu, np. jeżeli chcemy zwiększyć klasę mniejszościową 3 razy (o 200%), to wylosuj 2 z 5 sąsiadów.\n",
    "4. Dla każdego z wylosowanych sąsiadów wylosuj punkt na linii prostej między próbką a tym sąsiadem. Dodaj ten punkt jako nową próbkę do zbioru.\n",
    "\n",
    "<img src = https://miro.medium.com/max/734/1*yRumRhn89acByodBz0H7oA.png >\n",
    "\n",
    "Taka technika generuje przykłady bardzo podobne do prawdziwych, więc nie zaburza zbioru, a jednocześnie pomaga klasyfikatorom, bo \"zagęszcza\" przestrzeń, w której znajduje się klasa pozytywna.\n",
    "\n",
    "Algorytm SMOTE, jego warianty i inne algorytmy dla problemów niezbalansowanych implementuje biblioteka Imbalanced-learn."
   ]
  },
  {
   "cell_type": "markdown",
   "metadata": {
    "editable": true,
    "execution": {
     "iopub.execute_input": "2024-10-07T13:36:43.138444Z",
     "iopub.status.busy": "2024-10-07T13:36:43.137348Z",
     "iopub.status.idle": "2024-10-07T13:36:43.147546Z",
     "shell.execute_reply": "2024-10-07T13:36:43.144776Z",
     "shell.execute_reply.started": "2024-10-07T13:36:43.138374Z"
    },
    "slideshow": {
     "slide_type": ""
    },
    "tags": [
     "ex"
    ]
   },
   "source": [
    "### Zadanie 5 (1 punkt)"
   ]
  },
  {
   "cell_type": "markdown",
   "metadata": {
    "editable": true,
    "slideshow": {
     "slide_type": ""
    },
    "tags": [
     "ex"
    ]
   },
   "source": [
    "Użyj SMOTE do zbalansowania zbioru treningowego (nie używa się go na zbiorze testowym!). Implementuje to klasa `SMOTE`. Wytrenuj drzewo decyzyjne oraz las losowy na zbalansowanym zbiorze, użyj tych samych argumentów co wcześniej. Pamiętaj o użyciu wszędzie stałego ziarna `random_state=0` oraz przekazaniu prawdopodobieństw do AUROC. Skomentuj wynik.\n",
    "\n",
    "Wartość ROC drzewa decyzyjnego przypisz do zmiennej `tree_roc`, a lasu do `forest_roc`."
   ]
  },
  {
   "cell_type": "code",
   "execution_count": 18,
   "metadata": {
    "editable": true,
    "execution": {
     "iopub.execute_input": "2024-10-23T17:25:34.674533Z",
     "iopub.status.busy": "2024-10-23T17:25:34.673874Z",
     "iopub.status.idle": "2024-10-23T17:25:42.468538Z",
     "shell.execute_reply": "2024-10-23T17:25:42.468205Z",
     "shell.execute_reply.started": "2024-10-23T17:25:34.674484Z"
    },
    "lines_to_next_cell": 2,
    "pycharm": {
     "name": "#%%\n"
    },
    "slideshow": {
     "slide_type": ""
    },
    "tags": [
     "ex"
    ]
   },
   "outputs": [
    {
     "name": "stdout",
     "output_type": "stream",
     "text": [
      "tree_roc = 0.70995670995671\n",
      "forest_roc = 0.9047644274917003\n"
     ]
    }
   ],
   "source": [
    "from imblearn.over_sampling import SMOTE\n",
    "\n",
    "smote = SMOTE(random_state=0)\n",
    "X_resampled, y_resampled = smote.fit_resample(X_train, y_train)\n",
    "\n",
    "decision_resampled = DecisionTreeClassifier(criterion=\"entropy\", random_state=0)\n",
    "decision_resampled = decision_resampled.fit(X_resampled, y_resampled)\n",
    "\n",
    "y_score_decision = decision_resampled.predict_proba(X_test)[:, 1]\n",
    "tree_roc = roc_auc_score(y_test, y_score_decision)\n",
    "print(f\"tree_roc = {tree_roc}\")\n",
    "\n",
    "forest_resampled = RandomForestClassifier(n_estimators=500, criterion=\"entropy\", random_state=0, n_jobs=-1)\n",
    "forest_resampled = forest_resampled.fit(X_resampled, y_resampled)\n",
    "\n",
    "y_score_forest = forest_resampled.predict_proba(X_test)[:, 1]\n",
    "forest_roc = roc_auc_score(y_test, y_score_forest)\n",
    "print(f\"forest_roc = {forest_roc}\")"
   ]
  },
  {
   "cell_type": "code",
   "execution_count": 19,
   "metadata": {
    "editable": true,
    "execution": {
     "iopub.execute_input": "2024-10-23T17:25:42.469112Z",
     "iopub.status.busy": "2024-10-23T17:25:42.468909Z",
     "iopub.status.idle": "2024-10-23T17:25:42.471612Z",
     "shell.execute_reply": "2024-10-23T17:25:42.471217Z",
     "shell.execute_reply.started": "2024-10-23T17:25:42.469099Z"
    },
    "slideshow": {
     "slide_type": ""
    },
    "tags": [
     "ex"
    ]
   },
   "outputs": [
    {
     "name": "stdout",
     "output_type": "stream",
     "text": [
      "Solution is correct!\n"
     ]
    }
   ],
   "source": [
    "assert 0.6 < tree_roc < 0.8\n",
    "assert 0.8 < forest_roc < 0.95\n",
    "\n",
    "print(\"Solution is correct!\")"
   ]
  },
  {
   "cell_type": "markdown",
   "metadata": {
    "editable": true,
    "pycharm": {
     "name": "#%% md\n"
    },
    "slideshow": {
     "slide_type": ""
    },
    "tags": [
     "ex"
    ]
   },
   "source": [
    "// Oversampling nie poprawił wyniku w przypadku drzewa decyzyjnego. Wartość tree_roc jest około 0.02 mniejsza niż odpowiadającego auroc. W przypadku lasów losowych, auroc nieznacznie się poprawił."
   ]
  },
  {
   "cell_type": "markdown",
   "metadata": {
    "editable": true,
    "pycharm": {
     "name": "#%% md\n"
    },
    "slideshow": {
     "slide_type": ""
    },
    "tags": []
   },
   "source": [
    "W dalszej części laboratorium używaj zbioru po zastosowaniu SMOTE do treningu klasyfikatorów."
   ]
  },
  {
   "cell_type": "markdown",
   "metadata": {
    "editable": true,
    "pycharm": {
     "name": "#%% md\n"
    },
    "slideshow": {
     "slide_type": ""
    },
    "tags": []
   },
   "source": [
    "## Dostrajanie (tuning) hiperparametrów"
   ]
  },
  {
   "cell_type": "markdown",
   "metadata": {
    "editable": true,
    "pycharm": {
     "name": "#%% md\n"
    },
    "slideshow": {
     "slide_type": ""
    },
    "tags": []
   },
   "source": [
    "Lasy losowe są stosunkowo mało czułe na dobór hiperparametrów - i dobrze, bo mają ich dość dużo. Można zawsze jednak spróbować to zrobić, a w szczególności najważniejszy jest parametr `max_features`, oznaczający, ile cech losować przy każdym podziale drzewa. Typowo sprawdza się wartości z zakresu `[0.1, 0.5]`.\n",
    "\n",
    "W kwestii szybkości, kiedy dostrajamy hiperparametry, to mniej oczywiste jest, jakiego `n_jobs` użyć. Z jednej strony klasyfikator może być trenowany na wielu procesach, a z drugiej można trenować wiele klasyfikatorów na różnych zestawach hiperparametrów równolegle. Jeżeli nasz klasyfikator bardzo dobrze się uwspółbieżnia (jak Random Forest), to można dać mu nawet wszystkie rdzenie, a za to wypróbowywać kolejne zestawy hiperparametrów sekwencyjnie. Warto ustawić parametr `verbose` na 2 lub więcej, żeby dostać logi podczas długiego treningu i mierzyć czas wykonania. W praktyce ustawia się to metodą prób i błędów."
   ]
  },
  {
   "cell_type": "markdown",
   "metadata": {
    "editable": true,
    "slideshow": {
     "slide_type": ""
    },
    "tags": [
     "ex"
    ]
   },
   "source": [
    "### Zadanie 6 (1 punkt)"
   ]
  },
  {
   "cell_type": "markdown",
   "metadata": {
    "editable": true,
    "slideshow": {
     "slide_type": ""
    },
    "tags": [
     "ex"
    ]
   },
   "source": [
    "1. Dobierz wartość hiperparametru `max_features`:\n",
    "   - użyj grid search z 5 foldami,\n",
    "   - wypróbuj wartości `[0.1, 0.2, 0.3, 0.4, 0.5]`,\n",
    "   - wybierz model o najwyższym AUROC (argument `scoring`).\n",
    "2. Sprawdź, jaka była optymalna wartość `max_features`. Jest to atrybut wytrenowanego `GridSearchCV`.\n",
    "3. Skomentuj wynik. Czy warto było poświęcić czas i zasoby na tę procedurę?\n",
    "4. Wynik przypisz do zmiennej `auroc`.\n",
    "\n",
    "**Uwaga:**\n",
    "- pamiętaj, żeby jako estymatora przekazanego do grid search'a użyć instancji Random Forest, która ma już ustawione `random_state=0` i `n_jobs`"
   ]
  },
  {
   "cell_type": "code",
   "execution_count": 20,
   "metadata": {
    "editable": true,
    "execution": {
     "iopub.execute_input": "2024-10-23T17:25:42.472566Z",
     "iopub.status.busy": "2024-10-23T17:25:42.472249Z",
     "iopub.status.idle": "2024-10-23T17:27:49.962313Z",
     "shell.execute_reply": "2024-10-23T17:27:49.961993Z",
     "shell.execute_reply.started": "2024-10-23T17:25:42.472540Z"
    },
    "lines_to_next_cell": 2,
    "pycharm": {
     "is_executing": true,
     "name": "#%%\n"
    },
    "slideshow": {
     "slide_type": ""
    },
    "tags": [
     "ex"
    ]
   },
   "outputs": [
    {
     "name": "stdout",
     "output_type": "stream",
     "text": [
      "Fitting 5 folds for each of 5 candidates, totalling 25 fits\n",
      "[CV] END ...................................max_features=0.1; total time=   1.8s\n",
      "[CV] END ...................................max_features=0.1; total time=   1.8s\n",
      "[CV] END ...................................max_features=0.1; total time=   1.8s\n",
      "[CV] END ...................................max_features=0.1; total time=   1.7s\n",
      "[CV] END ...................................max_features=0.1; total time=   1.8s\n",
      "[CV] END ...................................max_features=0.2; total time=   3.2s\n",
      "[CV] END ...................................max_features=0.2; total time=   3.1s\n",
      "[CV] END ...................................max_features=0.2; total time=   3.3s\n",
      "[CV] END ...................................max_features=0.2; total time=   3.2s\n",
      "[CV] END ...................................max_features=0.2; total time=   3.3s\n",
      "[CV] END ...................................max_features=0.3; total time=   4.7s\n",
      "[CV] END ...................................max_features=0.3; total time=   4.5s\n",
      "[CV] END ...................................max_features=0.3; total time=   4.7s\n",
      "[CV] END ...................................max_features=0.3; total time=   4.5s\n",
      "[CV] END ...................................max_features=0.3; total time=   4.6s\n",
      "[CV] END ...................................max_features=0.4; total time=   6.3s\n",
      "[CV] END ...................................max_features=0.4; total time=   6.2s\n",
      "[CV] END ...................................max_features=0.4; total time=   6.8s\n",
      "[CV] END ...................................max_features=0.4; total time=   6.4s\n",
      "[CV] END ...................................max_features=0.4; total time=   6.7s\n",
      "[CV] END ...................................max_features=0.5; total time=   7.7s\n",
      "[CV] END ...................................max_features=0.5; total time=   7.6s\n",
      "[CV] END ...................................max_features=0.5; total time=   7.7s\n",
      "[CV] END ...................................max_features=0.5; total time=   7.7s\n",
      "[CV] END ...................................max_features=0.5; total time=   7.9s\n"
     ]
    }
   ],
   "source": [
    "from sklearn.model_selection import GridSearchCV\n",
    "\n",
    "forest = RandomForestClassifier(n_estimators=500, criterion=\"entropy\", random_state=0, n_jobs=-1)\n",
    "grid_search = GridSearchCV(estimator=forest, param_grid={\"max_features\": [0.1, 0.2, 0.3, 0.4, 0.5]}, scoring=\"roc_auc\", verbose=2)\n",
    "grid_search = grid_search.fit(X_train, y_train)\n",
    "max_features = grid_search.best_params_[\"max_features\"]\n",
    "auroc = grid_search.best_score_"
   ]
  },
  {
   "cell_type": "code",
   "execution_count": 27,
   "metadata": {
    "editable": true,
    "execution": {
     "iopub.execute_input": "2024-10-23T18:06:00.845991Z",
     "iopub.status.busy": "2024-10-23T18:06:00.845709Z",
     "iopub.status.idle": "2024-10-23T18:06:00.849988Z",
     "shell.execute_reply": "2024-10-23T18:06:00.849591Z",
     "shell.execute_reply.started": "2024-10-23T18:06:00.845976Z"
    },
    "slideshow": {
     "slide_type": ""
    },
    "tags": [
     "ex"
    ]
   },
   "outputs": [
    {
     "name": "stdout",
     "output_type": "stream",
     "text": [
      "0.9156269986922967\n",
      "Solution is correct!\n"
     ]
    }
   ],
   "source": [
    "assert 0.9 <= auroc <= 0.95\n",
    "print(\"Solution is correct!\")"
   ]
  },
  {
   "cell_type": "markdown",
   "metadata": {
    "editable": true,
    "pycharm": {
     "name": "#%% md\n"
    },
    "slideshow": {
     "slide_type": ""
    },
    "tags": [
     "ex"
    ]
   },
   "source": [
    "// Auroc otrzymane po dopasowaniu GridSearchCV do oversamplowanych danych było aż za duże, bo ponad 0.99. Dopiero rezygnacja z oversamplingu sprawiła, że program przechodził testy. No i otrzymane auroc było delikatnie wyższe niż wcześniej."
   ]
  },
  {
   "cell_type": "markdown",
   "metadata": {
    "editable": true,
    "pycharm": {
     "name": "#%% md\n"
    },
    "slideshow": {
     "slide_type": ""
    },
    "tags": []
   },
   "source": [
    "W praktycznych zastosowaniach osoba trenująca model wedle własnego uznana, doświadczenia, dostępnego czasu i zasobów wybiera, czy dostrajać hiperparametry i w jak szerokim zakresie. Dla Random Forest na szczęście często może nie być znaczącej potrzeby i za to go lubimy :)"
   ]
  },
  {
   "cell_type": "markdown",
   "metadata": {
    "editable": true,
    "pycharm": {
     "name": "#%% md\n"
    },
    "slideshow": {
     "slide_type": ""
    },
    "tags": []
   },
   "source": [
    "**Random Forest - podsumowanie**\n",
    "\n",
    "1. Model oparty o uczenie zespołowe.\n",
    "2. Kluczowe elementy:\n",
    "   - bagging: uczenie wielu klasyfikatorów na próbkach boostrapowych,\n",
    "   - metoda losowej podprzestrzeni: losujemy podzbiór cech do każdego podziału drzewa,\n",
    "   - uśredniamy głosy klasyfikatorów.\n",
    "3. Dość odporny na overfitting, zmniejsza wariancję błędu dzięki uśrednianiu.\n",
    "4. Mało czuły na hiperparametry.\n",
    "5. Przeciętnie daje bardzo dobre wyniki, doskonały wybór domyślny przy wybieraniu algorytmu klasyfikacji."
   ]
  },
  {
   "cell_type": "markdown",
   "metadata": {
    "editable": true,
    "pycharm": {
     "name": "#%% md\n"
    },
    "slideshow": {
     "slide_type": ""
    },
    "tags": []
   },
   "source": [
    "## Boosting"
   ]
  },
  {
   "cell_type": "markdown",
   "metadata": {
    "editable": true,
    "pycharm": {
     "name": "#%% md\n"
    },
    "slideshow": {
     "slide_type": ""
    },
    "tags": []
   },
   "source": [
    "Drugą bardzo ważną grupą algorytmów ensemblingu jest **boosting**, też oparty o drzewa decyzyjne. O ile Random Forest trenował wszystkie klasyfikatory bazowe równolegle i je uśredniał, o tyle boosting robi to sekwencyjnie. Drzewa te uczą się na całym zbiorze, nie na próbkach boostrapowych. Idea jest następująca: trenujemy drzewo decyzyjne, radzi sobie przeciętnie i popełnia błędy na częsci przykładów treningowych. Dokładamy kolejne, ale znające błędy swojego poprzednika, dzięki czemu może to uwzględnić i je poprawić. W związku z tym \"boostuje\" się dzięki wiedzy od poprzednika. Dokładamy kolejne drzewa zgodnie z tą samą zasadą.\n",
    "\n",
    "Jak uczyć się na błędach poprzednika? Jest to pewna **funkcja kosztu** (błędu), którą chcemy zminimalizować. Zakłada się jakąś jej konkretną postać, np. squared error dla regresji, albo logistic loss dla klasyfikacji. Później wykorzystuje się spadek wzdłuż gradientu (gradient descent), aby nauczyć się, w jakim kierunku powinny optymalizować kolejne drzewa, żeby zminimalizować błędy poprzednika. Jest to konkretnie **gradient boosting**, absolutnie najpopularniejsza forma boostingu, i jeden z najpopularniejszych i osiągających najlepsze wyniki algorytmów ML.\n",
    "\n",
    "Tyle co do intuicji. Ogólny algorytm gradient boostingu jest trochę bardziej skomplikowany. Bardzo dobrze i krok po kroku tłumaczy go [ta seria filmów na YT](https://www.youtube.com/watch?v=3CC4N4z3GJc). Szczególnie ważne implementacje gradient boostingu to **XGBoost (Extreme Gradient Boosting)** oraz **LightGBM (Light Gradient Boosting Machine)**. XGBoost był prawdziwym przełomem w ML, uzyskując doskonałe wyniki i bardzo dobrze się skalując - był wykorzystany w CERNie do wykrywania cząstki Higgsa w zbiorze z pomiarów LHC mającym 10 milionów próbek. Jego implementacja jest dość złożona, ale dobrze tłumaczy ją [inna seria filmików na YT](https://www.youtube.com/watch?v=OtD8wVaFm6E).\n",
    "\n",
    "![](xgboost.png)\n",
    "\n",
    "Obecnie najczęściej wykorzystuje się LightGBM. Został stworzony przez Microsoft na podstawie doświadczeń z XGBoostem. Został jeszcze bardziej ulepszony i przyspieszony, ale różnice są głównie implementacyjne. Różnice dobrze tłumaczy [ta prezentacja z konferencji PyData](https://www.youtube.com/watch?v=5CWwwtEM2TA) oraz [prezentacja Microsoftu](https://www.youtube.com/watch?v=5nKSMXBFhes). Dla zainteresowanych - [praktyczne aspekty LightGBM](https://www.kaggle.com/code/prashant111/lightgbm-classifier-in-python/notebook)."
   ]
  },
  {
   "cell_type": "markdown",
   "metadata": {
    "editable": true,
    "slideshow": {
     "slide_type": ""
    },
    "tags": [
     "ex"
    ]
   },
   "source": [
    "### Zadanie 7 (0.5 punktu)"
   ]
  },
  {
   "cell_type": "markdown",
   "metadata": {
    "editable": true,
    "slideshow": {
     "slide_type": ""
    },
    "tags": [
     "ex"
    ]
   },
   "source": [
    "1. Wytrenuj klasyfikator LightGBM (klasa `LGBMClassifier`). Przekaż `importance_type=\"gain\"` - przyda nam się to za chwilę.\n",
    "2. Sprawdź AUROC na zbiorze testowym.\n",
    "3. Skomentuj wynik w odniesieniu do wcześniejszych algorytmów.\n",
    "\n",
    "Pamiętaj o `random_state`, `n_jobs` i prawdopodobieństwach dla AUROC."
   ]
  },
  {
   "cell_type": "code",
   "execution_count": 30,
   "metadata": {
    "editable": true,
    "execution": {
     "iopub.execute_input": "2024-10-23T18:15:09.471331Z",
     "iopub.status.busy": "2024-10-23T18:15:09.471149Z",
     "iopub.status.idle": "2024-10-23T18:15:09.881798Z",
     "shell.execute_reply": "2024-10-23T18:15:09.881264Z",
     "shell.execute_reply.started": "2024-10-23T18:15:09.471318Z"
    },
    "lines_to_next_cell": 2,
    "pycharm": {
     "is_executing": true,
     "name": "#%%\n"
    },
    "slideshow": {
     "slide_type": ""
    },
    "tags": [
     "ex"
    ]
   },
   "outputs": [
    {
     "name": "stdout",
     "output_type": "stream",
     "text": [
      "[LightGBM] [Info] Number of positive: 396, number of negative: 8006\n",
      "[LightGBM] [Info] Auto-choosing col-wise multi-threading, the overhead of testing was 0.002176 seconds.\n",
      "You can set `force_col_wise=true` to remove the overhead.\n",
      "[LightGBM] [Info] Total Bins 16065\n",
      "[LightGBM] [Info] Number of data points in the train set: 8402, number of used features: 63\n",
      "[LightGBM] [Info] [binary:BoostFromScore]: pavg=0.047132 -> initscore=-3.006532\n",
      "[LightGBM] [Info] Start training from score -3.006532\n",
      "auroc = 0.9450196268378086\n"
     ]
    }
   ],
   "source": [
    "from lightgbm import LGBMClassifier\n",
    "\n",
    "classifier = LGBMClassifier(random_state=0, n_jobs=-1, importance_type=\"gain\")\n",
    "classifier = classifier.fit(X_train, y_train)\n",
    "\n",
    "y_score = classifier.predict_proba(X_test)[:, 1]\n",
    "auroc = roc_auc_score(y_test, y_score)\n",
    "print(f\"auroc = {auroc}\")"
   ]
  },
  {
   "cell_type": "code",
   "execution_count": 31,
   "metadata": {
    "editable": true,
    "execution": {
     "iopub.execute_input": "2024-10-23T18:15:12.376702Z",
     "iopub.status.busy": "2024-10-23T18:15:12.376386Z",
     "iopub.status.idle": "2024-10-23T18:15:12.381051Z",
     "shell.execute_reply": "2024-10-23T18:15:12.380548Z",
     "shell.execute_reply.started": "2024-10-23T18:15:12.376679Z"
    },
    "slideshow": {
     "slide_type": ""
    },
    "tags": [
     "ex"
    ]
   },
   "outputs": [
    {
     "name": "stdout",
     "output_type": "stream",
     "text": [
      "Solution is correct!\n"
     ]
    }
   ],
   "source": [
    "assert 0.9 <= auroc <= 0.97\n",
    "\n",
    "print(\"Solution is correct!\")"
   ]
  },
  {
   "cell_type": "markdown",
   "metadata": {
    "editable": true,
    "pycharm": {
     "name": "#%% md\n"
    },
    "slideshow": {
     "slide_type": ""
    },
    "tags": [
     "ex"
    ]
   },
   "source": [
    "// W porównaniu do pozostałych algorytmów, auroc jest wyższe."
   ]
  },
  {
   "cell_type": "markdown",
   "metadata": {
    "editable": true,
    "pycharm": {
     "name": "#%% md\n"
    },
    "slideshow": {
     "slide_type": ""
    },
    "tags": []
   },
   "source": [
    "Boosting dzięki uczeniu na poprzednich drzewach redukuje nie tylko wariancję, ale też bias w błędzie, dzięki czemu może w wielu przypadkach osiągnąć lepsze rezultaty od lasu losowego. Do tego dzięki znakomitej implementacji LightGBM jest szybszy.\n",
    "\n",
    "Boosting jest jednak o wiele bardziej czuły na hiperparametry niż Random Forest. W szczególności bardzo łatwo go przeuczyć, a większość hiperparametrów, których jest dużo, wiąże się z regularyzacją modelu. To, że teraz poszło nam lepiej z domyślnymi, jest rzadkim przypadkiem.\n",
    "\n",
    "W związku z tym, że przestrzeń hiperparametrów jest duża, przeszukanie wszystkich kombinacji nie wchodzi w grę. Zamiast tego można wylosować zadaną liczbę zestawów hiperparametrów i tylko je sprawdzić - chociaż im więcej, tym lepsze wyniki powinniśmy dostać. Służy do tego `RandomizedSearchCV`. Co więcej, klasa ta potrafi próbkować rozkłady prawdopodobieństwa, a nie tylko sztywne listy wartości, co jest bardzo przydatne przy parametrach ciągłych.\n",
    "\n",
    "Hiperparametry LightGBMa są dobrze opisane w oficjalnej dokumentacji: [wersja krótsza](https://lightgbm.readthedocs.io/en/latest/pythonapi/lightgbm.LGBMClassifier.html#lightgbm.LGBMClassifier) i [wersja dłuższa](https://lightgbm.readthedocs.io/en/latest/Parameters.html). Jest ich dużo, więc nie będziemy ich tutaj omawiać. Jeżeli chodzi o ich dostrajanie w praktyce, to przydatny jest [oficjalny przewodnik](https://lightgbm.readthedocs.io/en/latest/Parameters-Tuning.html) oraz dyskusje na Kaggle."
   ]
  },
  {
   "cell_type": "markdown",
   "metadata": {
    "editable": true,
    "slideshow": {
     "slide_type": ""
    },
    "tags": [
     "ex"
    ]
   },
   "source": [
    "### Zadanie 8 (1.5 punktu)"
   ]
  },
  {
   "cell_type": "markdown",
   "metadata": {
    "editable": true,
    "slideshow": {
     "slide_type": ""
    },
    "tags": [
     "ex"
    ]
   },
   "source": [
    "1. Zaimplementuj random search dla LightGBMa (klasa `RandomizedSearchCV`):\n",
    "   - użyj tylu prób, na ile pozwalają twoje zasoby obliczeniowe, ale przynajmniej 30,\n",
    "   - przeszukaj przestrzeń hiperparametrów:\n",
    "    ```\n",
    "    param_grid = {\n",
    "        \"n_estimators\": [100, 250, 500],\n",
    "        \"learning_rate\": [0.05, 0.1, 0.2],\n",
    "        \"num_leaves\": [31, 48, 64],\n",
    "        \"colsample_bytree\": [0.8, 0.9, 1.0],\n",
    "        \"subsample\": [0.8, 0.9, 1.0],\n",
    "    }\n",
    "    ```\n",
    "2. Wypisz znalezione optymalne hiperparametry.\n",
    "3. Wypisz raporty z klasyfikacji (funkcja `classification_report`), dla modelu LightGBM bez i z dostrajaniem hiperparametrów.\n",
    "4. Skomentuj różnicę precyzji (precision) i czułości (recall) między modelami bez i z dostrajaniem hiperparametrów. Czy jest to pożądane zjawisko w tym przypadku?\n",
    "5. Wartość ROC przypisz do zmiennej `auroc`.\n",
    "\n",
    "**Uwaga:** \n",
    "- koniecznie ustaw `verbose=-1` przy tworzeniu `LGBMClassifier`, żeby uniknąć kolosalnej ilości logów, która potrafi też wyłączyć Jupytera\n",
    "- pamiętaj o ustawieniu `importance_type`, `random_state=0` i `n_jobs`, oraz ewentualnie `verbose` w `RandomizedSearchCV` dla śledzenia przebiegu\n",
    "- istnieje możliwość, że ustawienie `n_jobs` dla grid searcha będzie szybsze niż dla samego LightGBM; odpowiada to tuningowi wielu klasyfikatorów równolegle, przy wolniejszym treningu pojedynczych klasyfikatorów\n",
    "- nie ustawiaj wszędzie `n_jobs=-1`, bo wtedy stworzysz więcej procesów niż rdzeni i spowodujesz thread contention"
   ]
  },
  {
   "cell_type": "code",
   "execution_count": 36,
   "metadata": {
    "editable": true,
    "execution": {
     "iopub.execute_input": "2024-10-23T19:41:34.433736Z",
     "iopub.status.busy": "2024-10-23T19:41:34.433458Z",
     "iopub.status.idle": "2024-10-23T19:42:40.753755Z",
     "shell.execute_reply": "2024-10-23T19:42:40.753201Z",
     "shell.execute_reply.started": "2024-10-23T19:41:34.433716Z"
    },
    "lines_to_next_cell": 2,
    "pycharm": {
     "is_executing": true,
     "name": "#%%\n"
    },
    "slideshow": {
     "slide_type": ""
    },
    "tags": [
     "ex"
    ]
   },
   "outputs": [
    {
     "name": "stdout",
     "output_type": "stream",
     "text": [
      "              precision    recall  f1-score   support\n",
      "\n",
      "           0       0.97      1.00      0.98      2002\n",
      "           1       0.83      0.39      0.53        99\n",
      "\n",
      "    accuracy                           0.97      2101\n",
      "   macro avg       0.90      0.69      0.76      2101\n",
      "weighted avg       0.96      0.97      0.96      2101\n",
      "\n",
      "Fitting 5 folds for each of 30 candidates, totalling 150 fits\n",
      "              precision    recall  f1-score   support\n",
      "\n",
      "           0       0.97      1.00      0.98      2002\n",
      "           1       0.83      0.39      0.53        99\n",
      "\n",
      "    accuracy                           0.97      2101\n",
      "   macro avg       0.90      0.69      0.76      2101\n",
      "weighted avg       0.96      0.97      0.96      2101\n",
      "\n",
      "0.9405228454035471\n",
      "[CV] END colsample_bytree=0.8, learning_rate=0.05, n_estimators=500, num_leaves=31, subsample=0.8; total time=   9.4s\n",
      "[CV] END colsample_bytree=0.8, learning_rate=0.2, n_estimators=250, num_leaves=64, subsample=0.9; total time=   3.0s\n",
      "[CV] END colsample_bytree=1.0, learning_rate=0.2, n_estimators=100, num_leaves=31, subsample=0.9; total time=   1.8s\n",
      "[CV] END colsample_bytree=0.9, learning_rate=0.05, n_estimators=100, num_leaves=64, subsample=1.0; total time=   2.2s\n",
      "[CV] END colsample_bytree=0.9, learning_rate=0.05, n_estimators=100, num_leaves=64, subsample=1.0; total time=   2.2s\n",
      "[CV] END colsample_bytree=1.0, learning_rate=0.1, n_estimators=250, num_leaves=48, subsample=0.8; total time=   5.5s\n",
      "[CV] END colsample_bytree=0.9, learning_rate=0.2, n_estimators=500, num_leaves=48, subsample=1.0; total time=   3.7s\n",
      "[CV] END colsample_bytree=0.8, learning_rate=0.05, n_estimators=100, num_leaves=31, subsample=0.8; total time=   1.1s\n",
      "[CV] END colsample_bytree=1.0, learning_rate=0.05, n_estimators=500, num_leaves=31, subsample=0.9; total time=   7.4s\n",
      "[CV] END colsample_bytree=0.9, learning_rate=0.05, n_estimators=250, num_leaves=48, subsample=1.0; total time=   5.0s\n",
      "[CV] END colsample_bytree=0.8, learning_rate=0.2, n_estimators=500, num_leaves=48, subsample=0.8; total time=   4.5s\n",
      "[CV] END colsample_bytree=1.0, learning_rate=0.1, n_estimators=100, num_leaves=64, subsample=0.9; total time=   4.2s\n",
      "[CV] END colsample_bytree=0.8, learning_rate=0.1, n_estimators=100, num_leaves=64, subsample=0.9; total time=   3.4s\n",
      "[CV] END colsample_bytree=0.9, learning_rate=0.1, n_estimators=250, num_leaves=64, subsample=1.0; total time=   5.5s\n",
      "[CV] END colsample_bytree=0.8, learning_rate=0.05, n_estimators=500, num_leaves=31, subsample=0.8; total time=  10.1s\n",
      "[CV] END colsample_bytree=0.8, learning_rate=0.2, n_estimators=250, num_leaves=64, subsample=0.9; total time=   3.3s\n",
      "[CV] END colsample_bytree=1.0, learning_rate=0.1, n_estimators=250, num_leaves=31, subsample=0.8; total time=   3.3s\n",
      "[CV] END colsample_bytree=1.0, learning_rate=0.1, n_estimators=250, num_leaves=48, subsample=0.8; total time=   4.6s\n",
      "[CV] END colsample_bytree=1.0, learning_rate=0.1, n_estimators=250, num_leaves=48, subsample=0.9; total time=   5.3s\n",
      "[CV] END colsample_bytree=1.0, learning_rate=0.1, n_estimators=500, num_leaves=48, subsample=1.0; total time=   6.8s\n",
      "[CV] END colsample_bytree=0.9, learning_rate=0.05, n_estimators=250, num_leaves=48, subsample=1.0; total time=   5.3s\n",
      "[CV] END colsample_bytree=0.8, learning_rate=0.05, n_estimators=500, num_leaves=64, subsample=0.9; total time=  10.1s\n",
      "[CV] END colsample_bytree=1.0, learning_rate=0.1, n_estimators=100, num_leaves=64, subsample=0.9; total time=   2.7s\n",
      "[CV] END colsample_bytree=0.8, learning_rate=0.05, n_estimators=100, num_leaves=64, subsample=1.0; total time=   2.2s\n",
      "[CV] END colsample_bytree=0.9, learning_rate=0.1, n_estimators=250, num_leaves=64, subsample=1.0; total time=   5.8s\n",
      "[CV] END colsample_bytree=0.8, learning_rate=0.05, n_estimators=500, num_leaves=31, subsample=0.8; total time=   8.2s\n",
      "[CV] END colsample_bytree=0.9, learning_rate=0.05, n_estimators=250, num_leaves=31, subsample=0.9; total time=   3.4s\n",
      "[CV] END colsample_bytree=1.0, learning_rate=0.2, n_estimators=100, num_leaves=31, subsample=0.9; total time=   1.4s\n",
      "[CV] END colsample_bytree=1.0, learning_rate=0.2, n_estimators=100, num_leaves=31, subsample=0.9; total time=   1.3s\n",
      "[CV] END colsample_bytree=1.0, learning_rate=0.1, n_estimators=250, num_leaves=31, subsample=0.8; total time=   3.1s\n",
      "[CV] END colsample_bytree=1.0, learning_rate=0.1, n_estimators=250, num_leaves=48, subsample=0.8; total time=   6.3s\n",
      "[CV] END colsample_bytree=0.9, learning_rate=0.2, n_estimators=500, num_leaves=48, subsample=1.0; total time=   4.0s\n",
      "[CV] END colsample_bytree=0.8, learning_rate=0.05, n_estimators=100, num_leaves=31, subsample=0.8; total time=   2.2s\n",
      "[CV] END colsample_bytree=0.8, learning_rate=0.2, n_estimators=500, num_leaves=31, subsample=0.8; total time=   6.6s\n",
      "[CV] END colsample_bytree=0.9, learning_rate=0.2, n_estimators=100, num_leaves=48, subsample=1.0; total time=   2.1s\n",
      "[CV] END colsample_bytree=0.8, learning_rate=0.05, n_estimators=500, num_leaves=64, subsample=0.9; total time=  10.0s\n",
      "[CV] END colsample_bytree=1.0, learning_rate=0.1, n_estimators=100, num_leaves=64, subsample=0.9; total time=   3.6s\n",
      "[CV] END colsample_bytree=0.8, learning_rate=0.05, n_estimators=100, num_leaves=64, subsample=1.0; total time=   2.4s\n",
      "[CV] END colsample_bytree=0.9, learning_rate=0.1, n_estimators=250, num_leaves=64, subsample=1.0; total time=   5.0s\n",
      "[CV] END colsample_bytree=0.9, learning_rate=0.05, n_estimators=250, num_leaves=64, subsample=1.0; total time=   6.1s\n",
      "[CV] END colsample_bytree=1.0, learning_rate=0.1, n_estimators=100, num_leaves=48, subsample=1.0; total time=   2.0s\n",
      "[CV] END colsample_bytree=0.9, learning_rate=0.05, n_estimators=250, num_leaves=31, subsample=0.9; total time=   3.0s\n",
      "[CV] END colsample_bytree=0.8, learning_rate=0.05, n_estimators=500, num_leaves=64, subsample=0.8; total time=  10.0s\n",
      "[CV] END colsample_bytree=1.0, learning_rate=0.1, n_estimators=250, num_leaves=48, subsample=0.9; total time=   6.6s\n",
      "[CV] END colsample_bytree=0.8, learning_rate=0.05, n_estimators=100, num_leaves=31, subsample=0.8; total time=   2.5s\n",
      "[CV] END colsample_bytree=0.8, learning_rate=0.2, n_estimators=500, num_leaves=31, subsample=0.8; total time=   8.6s\n",
      "[CV] END colsample_bytree=0.8, learning_rate=0.05, n_estimators=500, num_leaves=64, subsample=0.9; total time=  11.8s\n",
      "[CV] END colsample_bytree=0.8, learning_rate=0.1, n_estimators=100, num_leaves=64, subsample=0.9; total time=   4.0s\n",
      "[CV] END colsample_bytree=0.8, learning_rate=0.05, n_estimators=100, num_leaves=64, subsample=0.9; total time=   2.9s\n",
      "[CV] END colsample_bytree=0.8, learning_rate=0.05, n_estimators=100, num_leaves=64, subsample=0.9; total time=   2.6s\n",
      "[CV] END colsample_bytree=0.8, learning_rate=0.05, n_estimators=500, num_leaves=31, subsample=0.8; total time=   6.5s\n",
      "[CV] END colsample_bytree=0.9, learning_rate=0.05, n_estimators=250, num_leaves=31, subsample=0.9; total time=   3.1s\n",
      "[CV] END colsample_bytree=0.8, learning_rate=0.2, n_estimators=250, num_leaves=64, subsample=0.9; total time=   3.3s\n",
      "[CV] END colsample_bytree=1.0, learning_rate=0.1, n_estimators=250, num_leaves=31, subsample=0.8; total time=   3.6s\n",
      "[CV] END colsample_bytree=0.9, learning_rate=0.05, n_estimators=100, num_leaves=64, subsample=1.0; total time=   2.7s\n",
      "[CV] END colsample_bytree=1.0, learning_rate=0.1, n_estimators=250, num_leaves=48, subsample=0.9; total time=   7.2s\n",
      "[CV] END colsample_bytree=1.0, learning_rate=0.1, n_estimators=500, num_leaves=48, subsample=1.0; total time=  11.7s\n",
      "[CV] END colsample_bytree=0.9, learning_rate=0.2, n_estimators=100, num_leaves=48, subsample=1.0; total time=   2.7s\n",
      "[CV] END colsample_bytree=1.0, learning_rate=0.1, n_estimators=100, num_leaves=31, subsample=0.8; total time=   1.4s\n",
      "[CV] END colsample_bytree=0.9, learning_rate=0.05, n_estimators=500, num_leaves=31, subsample=0.8; total time=   5.9s\n",
      "[CV] END colsample_bytree=1.0, learning_rate=0.1, n_estimators=100, num_leaves=64, subsample=0.9; total time=   3.3s\n",
      "[CV] END colsample_bytree=0.8, learning_rate=0.05, n_estimators=100, num_leaves=64, subsample=1.0; total time=   2.2s\n",
      "[CV] END colsample_bytree=0.9, learning_rate=0.1, n_estimators=250, num_leaves=64, subsample=1.0; total time=   4.8s\n",
      "[CV] END colsample_bytree=0.8, learning_rate=0.05, n_estimators=100, num_leaves=64, subsample=0.9; total time=   2.3s\n",
      "[CV] END colsample_bytree=1.0, learning_rate=0.2, n_estimators=250, num_leaves=48, subsample=0.8; total time=   3.0s\n",
      "[CV] END colsample_bytree=0.9, learning_rate=0.05, n_estimators=250, num_leaves=64, subsample=1.0; total time=   9.1s\n",
      "[CV] END colsample_bytree=1.0, learning_rate=0.2, n_estimators=100, num_leaves=31, subsample=0.9; total time=   1.3s\n",
      "[CV] END colsample_bytree=1.0, learning_rate=0.1, n_estimators=250, num_leaves=31, subsample=0.8; total time=   3.5s\n",
      "[CV] END colsample_bytree=1.0, learning_rate=0.1, n_estimators=250, num_leaves=48, subsample=0.8; total time=   4.5s\n",
      "[CV] END colsample_bytree=1.0, learning_rate=0.1, n_estimators=250, num_leaves=48, subsample=0.9; total time=   5.7s\n",
      "[CV] END colsample_bytree=0.8, learning_rate=0.05, n_estimators=100, num_leaves=31, subsample=0.8; total time=   1.2s\n",
      "[CV] END colsample_bytree=1.0, learning_rate=0.05, n_estimators=500, num_leaves=31, subsample=0.9; total time=   7.3s\n",
      "[CV] END colsample_bytree=0.9, learning_rate=0.05, n_estimators=250, num_leaves=48, subsample=1.0; total time=   4.6s\n",
      "[CV] END colsample_bytree=1.0, learning_rate=0.1, n_estimators=100, num_leaves=31, subsample=0.8; total time=   1.7s\n",
      "[CV] END colsample_bytree=0.8, learning_rate=0.2, n_estimators=500, num_leaves=48, subsample=0.8; total time=   4.6s\n",
      "[CV] END colsample_bytree=1.0, learning_rate=0.1, n_estimators=100, num_leaves=64, subsample=0.9; total time=   2.5s\n",
      "[CV] END colsample_bytree=0.8, learning_rate=0.1, n_estimators=100, num_leaves=64, subsample=0.9; total time=   2.8s\n",
      "[CV] END colsample_bytree=0.8, learning_rate=0.05, n_estimators=100, num_leaves=64, subsample=1.0; total time=   3.3s\n",
      "[CV] END colsample_bytree=0.8, learning_rate=0.05, n_estimators=100, num_leaves=64, subsample=0.9; total time=   3.2s\n",
      "[CV] END colsample_bytree=0.8, learning_rate=0.05, n_estimators=100, num_leaves=64, subsample=0.9; total time=   2.5s\n",
      "[CV] END colsample_bytree=1.0, learning_rate=0.2, n_estimators=250, num_leaves=48, subsample=0.8; total time=   4.3s\n",
      "[CV] END colsample_bytree=0.9, learning_rate=0.05, n_estimators=250, num_leaves=64, subsample=1.0; total time=   6.5s\n",
      "[CV] END colsample_bytree=0.8, learning_rate=0.05, n_estimators=500, num_leaves=64, subsample=0.8; total time=  11.8s\n",
      "[CV] END colsample_bytree=0.8, learning_rate=0.2, n_estimators=100, num_leaves=31, subsample=0.8; total time=   2.8s\n",
      "[CV] END colsample_bytree=1.0, learning_rate=0.1, n_estimators=500, num_leaves=48, subsample=1.0; total time=   7.5s\n",
      "[CV] END colsample_bytree=0.8, learning_rate=0.2, n_estimators=500, num_leaves=31, subsample=0.8; total time=   7.0s\n",
      "[CV] END colsample_bytree=0.8, learning_rate=0.05, n_estimators=500, num_leaves=64, subsample=0.9; total time=  11.8s\n",
      "[CV] END colsample_bytree=0.8, learning_rate=0.05, n_estimators=100, num_leaves=64, subsample=1.0; total time=   3.0s\n",
      "[CV] END colsample_bytree=0.9, learning_rate=0.1, n_estimators=250, num_leaves=64, subsample=1.0; total time=   6.7s\n",
      "[CV] END colsample_bytree=0.8, learning_rate=0.05, n_estimators=500, num_leaves=31, subsample=0.8; total time=   6.2s\n",
      "[CV] END colsample_bytree=1.0, learning_rate=0.1, n_estimators=100, num_leaves=48, subsample=1.0; total time=   1.9s\n",
      "[CV] END colsample_bytree=0.9, learning_rate=0.05, n_estimators=250, num_leaves=31, subsample=0.9; total time=   3.2s\n",
      "[CV] END colsample_bytree=0.8, learning_rate=0.05, n_estimators=500, num_leaves=64, subsample=0.8; total time=  11.7s\n",
      "[CV] END colsample_bytree=0.8, learning_rate=0.2, n_estimators=100, num_leaves=31, subsample=0.8; total time=   2.2s\n",
      "[CV] END colsample_bytree=1.0, learning_rate=0.1, n_estimators=500, num_leaves=48, subsample=1.0; total time=   6.5s\n",
      "[CV] END colsample_bytree=0.8, learning_rate=0.2, n_estimators=500, num_leaves=31, subsample=0.8; total time=   3.8s\n",
      "[CV] END colsample_bytree=0.9, learning_rate=0.05, n_estimators=250, num_leaves=48, subsample=1.0; total time=   5.1s\n",
      "[CV] END colsample_bytree=1.0, learning_rate=0.1, n_estimators=100, num_leaves=31, subsample=0.8; total time=   1.4s\n",
      "[CV] END colsample_bytree=0.8, learning_rate=0.2, n_estimators=500, num_leaves=48, subsample=0.8; total time=   3.3s\n",
      "[CV] END colsample_bytree=0.9, learning_rate=0.05, n_estimators=500, num_leaves=31, subsample=0.8; total time=   7.3s\n",
      "[CV] END colsample_bytree=1.0, learning_rate=0.05, n_estimators=500, num_leaves=48, subsample=1.0; total time=   9.0s\n",
      "[CV] END colsample_bytree=1.0, learning_rate=0.2, n_estimators=250, num_leaves=48, subsample=0.8; total time=   5.7s\n",
      "[CV] END colsample_bytree=1.0, learning_rate=0.1, n_estimators=100, num_leaves=48, subsample=1.0; total time=   3.2s\n",
      "[CV] END colsample_bytree=0.8, learning_rate=0.2, n_estimators=250, num_leaves=64, subsample=0.9; total time=   3.2s\n",
      "[CV] END colsample_bytree=1.0, learning_rate=0.2, n_estimators=100, num_leaves=31, subsample=0.9; total time=   1.1s\n",
      "[CV] END colsample_bytree=1.0, learning_rate=0.1, n_estimators=250, num_leaves=31, subsample=0.8; total time=   3.3s\n",
      "[CV] END colsample_bytree=0.9, learning_rate=0.05, n_estimators=100, num_leaves=64, subsample=1.0; total time=   3.3s\n",
      "[CV] END colsample_bytree=1.0, learning_rate=0.1, n_estimators=250, num_leaves=48, subsample=0.9; total time=   5.6s\n",
      "[CV] END colsample_bytree=1.0, learning_rate=0.1, n_estimators=500, num_leaves=48, subsample=1.0; total time=   7.3s\n",
      "[CV] END colsample_bytree=0.8, learning_rate=0.2, n_estimators=500, num_leaves=31, subsample=0.8; total time=   4.6s\n",
      "[CV] END colsample_bytree=0.9, learning_rate=0.2, n_estimators=100, num_leaves=48, subsample=1.0; total time=   2.2s\n",
      "[CV] END colsample_bytree=0.8, learning_rate=0.05, n_estimators=500, num_leaves=64, subsample=0.9; total time=  10.5s\n",
      "[CV] END colsample_bytree=0.8, learning_rate=0.1, n_estimators=100, num_leaves=64, subsample=0.9; total time=   2.5s\n",
      "[CV] END colsample_bytree=1.0, learning_rate=0.05, n_estimators=500, num_leaves=48, subsample=1.0; total time=   9.2s\n",
      "[CV] END colsample_bytree=1.0, learning_rate=0.2, n_estimators=250, num_leaves=48, subsample=0.8; total time=   4.9s\n",
      "[CV] END colsample_bytree=1.0, learning_rate=0.1, n_estimators=100, num_leaves=48, subsample=1.0; total time=   3.9s\n",
      "[CV] END colsample_bytree=0.8, learning_rate=0.2, n_estimators=250, num_leaves=64, subsample=0.9; total time=   6.3s\n",
      "[CV] END colsample_bytree=0.9, learning_rate=0.05, n_estimators=100, num_leaves=64, subsample=1.0; total time=   2.9s\n",
      "[CV] END colsample_bytree=1.0, learning_rate=0.1, n_estimators=250, num_leaves=48, subsample=0.8; total time=   6.5s\n",
      "[CV] END colsample_bytree=0.9, learning_rate=0.2, n_estimators=500, num_leaves=48, subsample=1.0; total time=   4.0s\n",
      "[CV] END colsample_bytree=1.0, learning_rate=0.05, n_estimators=500, num_leaves=31, subsample=0.9; total time=   7.6s\n",
      "[CV] END colsample_bytree=0.9, learning_rate=0.05, n_estimators=250, num_leaves=48, subsample=1.0; total time=   4.5s\n",
      "[CV] END colsample_bytree=1.0, learning_rate=0.1, n_estimators=100, num_leaves=31, subsample=0.8; total time=   1.6s\n",
      "[CV] END colsample_bytree=0.9, learning_rate=0.05, n_estimators=500, num_leaves=31, subsample=0.8; total time=   8.0s\n",
      "[CV] END colsample_bytree=0.8, learning_rate=0.1, n_estimators=100, num_leaves=64, subsample=0.9; total time=   2.4s\n",
      "[CV] END colsample_bytree=1.0, learning_rate=0.05, n_estimators=500, num_leaves=48, subsample=1.0; total time=   9.5s\n",
      "[CV] END colsample_bytree=1.0, learning_rate=0.2, n_estimators=250, num_leaves=48, subsample=0.8; total time=   3.9s\n",
      "[CV] END colsample_bytree=0.9, learning_rate=0.05, n_estimators=250, num_leaves=64, subsample=1.0; total time=   7.4s\n",
      "[CV] END colsample_bytree=0.8, learning_rate=0.05, n_estimators=500, num_leaves=64, subsample=0.8; total time=  11.3s\n",
      "[CV] END colsample_bytree=0.8, learning_rate=0.2, n_estimators=100, num_leaves=31, subsample=0.8; total time=   1.2s\n",
      "[CV] END colsample_bytree=0.9, learning_rate=0.2, n_estimators=500, num_leaves=48, subsample=1.0; total time=   4.2s\n",
      "[CV] END colsample_bytree=0.8, learning_rate=0.05, n_estimators=100, num_leaves=31, subsample=0.8; total time=   1.6s\n",
      "[CV] END colsample_bytree=1.0, learning_rate=0.05, n_estimators=500, num_leaves=31, subsample=0.9; total time=   7.5s\n",
      "[CV] END colsample_bytree=0.9, learning_rate=0.2, n_estimators=100, num_leaves=48, subsample=1.0; total time=   3.8s\n",
      "[CV] END colsample_bytree=0.8, learning_rate=0.2, n_estimators=500, num_leaves=48, subsample=0.8; total time=   4.2s\n",
      "[CV] END colsample_bytree=0.9, learning_rate=0.05, n_estimators=500, num_leaves=31, subsample=0.8; total time=   7.5s\n",
      "[CV] END colsample_bytree=1.0, learning_rate=0.05, n_estimators=500, num_leaves=48, subsample=1.0; total time=   9.5s\n",
      "[CV] END colsample_bytree=0.9, learning_rate=0.05, n_estimators=250, num_leaves=64, subsample=1.0; total time=   5.7s\n",
      "[CV] END colsample_bytree=1.0, learning_rate=0.1, n_estimators=100, num_leaves=48, subsample=1.0; total time=   1.9s\n",
      "[CV] END colsample_bytree=0.9, learning_rate=0.05, n_estimators=250, num_leaves=31, subsample=0.9; total time=   3.0s\n",
      "[CV] END colsample_bytree=0.8, learning_rate=0.05, n_estimators=500, num_leaves=64, subsample=0.8; total time=  11.2s\n",
      "[CV] END colsample_bytree=0.8, learning_rate=0.2, n_estimators=100, num_leaves=31, subsample=0.8; total time=   1.3s\n",
      "[CV] END colsample_bytree=0.8, learning_rate=0.2, n_estimators=100, num_leaves=31, subsample=0.8; total time=   1.3s\n",
      "[CV] END colsample_bytree=0.9, learning_rate=0.2, n_estimators=500, num_leaves=48, subsample=1.0; total time=   4.3s\n",
      "[CV] END colsample_bytree=1.0, learning_rate=0.05, n_estimators=500, num_leaves=31, subsample=0.9; total time=   9.0s\n",
      "[CV] END colsample_bytree=0.9, learning_rate=0.2, n_estimators=100, num_leaves=48, subsample=1.0; total time=   2.1s\n",
      "[CV] END colsample_bytree=1.0, learning_rate=0.1, n_estimators=100, num_leaves=31, subsample=0.8; total time=   1.4s\n",
      "[CV] END colsample_bytree=0.8, learning_rate=0.2, n_estimators=500, num_leaves=48, subsample=0.8; total time=   3.6s\n",
      "[CV] END colsample_bytree=0.9, learning_rate=0.05, n_estimators=500, num_leaves=31, subsample=0.8; total time=   7.3s\n",
      "[CV] END colsample_bytree=1.0, learning_rate=0.05, n_estimators=500, num_leaves=48, subsample=1.0; total time=  10.3s\n"
     ]
    }
   ],
   "source": [
    "from sklearn.model_selection import RandomizedSearchCV\n",
    "from sklearn.metrics import classification_report\n",
    "\n",
    "def report(classifier):\n",
    "    classifier = classifier.fit(X_train, y_train)\n",
    "    y_pred_1 = classifier.predict(X_test)\n",
    "    print(classification_report(y_test, y_pred_1))\n",
    "\n",
    "\n",
    "param_grid = {\n",
    "    \"n_estimators\": [100, 250, 500],\n",
    "    \"learning_rate\": [0.05, 0.1, 0.2],\n",
    "    \"num_leaves\": [31, 48, 64],\n",
    "    \"colsample_bytree\": [0.8, 0.9, 1.0],\n",
    "    \"subsample\": [0.8, 0.9, 1.0],\n",
    "}\n",
    "\n",
    "lgbm_classifier_1 = LGBMClassifier(random_state=0, importance_type=\"gain\", verbose=-1)\n",
    "report(lgbm_classifier_1)\n",
    "lgbm_classifier_2 = LGBMClassifier(random_state=0, importance_type=\"gain\", verbose=-1)\n",
    "random_search = RandomizedSearchCV(estimator=lgbm_classifier_2, n_iter=30, param_distributions=param_grid, scoring=\"roc_auc\", verbose=2, n_jobs=-1)\n",
    "random_search = random_search.fit(X_train, y_train)\n",
    "report(lgbm_classifier_2)\n",
    "auroc = random_search.best_score_\n",
    "print(auroc)"
   ]
  },
  {
   "cell_type": "code",
   "execution_count": 34,
   "metadata": {
    "editable": true,
    "execution": {
     "iopub.execute_input": "2024-10-23T18:32:47.321232Z",
     "iopub.status.busy": "2024-10-23T18:32:47.320373Z",
     "iopub.status.idle": "2024-10-23T18:32:47.327462Z",
     "shell.execute_reply": "2024-10-23T18:32:47.326894Z",
     "shell.execute_reply.started": "2024-10-23T18:32:47.321067Z"
    },
    "slideshow": {
     "slide_type": ""
    },
    "tags": [
     "ex"
    ]
   },
   "outputs": [
    {
     "name": "stdout",
     "output_type": "stream",
     "text": [
      "Solution is correct!\n"
     ]
    }
   ],
   "source": [
    "assert 0.9 <= auroc <= 0.99\n",
    "\n",
    "print(\"Solution is correct!\")"
   ]
  },
  {
   "cell_type": "markdown",
   "metadata": {
    "editable": true,
    "pycharm": {
     "name": "#%% md\n"
    },
    "slideshow": {
     "slide_type": ""
    },
    "tags": [
     "ex"
    ]
   },
   "source": [
    "//Nie widać większych zmian w precision i recall. Zmiany byłyby pożądane, bo by znaczyły że model lepiej sobie radzi. Ogólnie nie widać zbytniego poprawienia modelu - wartość auroc jest nawet niższa niż wcześniej, choć tylko odrobinę."
   ]
  },
  {
   "cell_type": "markdown",
   "metadata": {
    "editable": true,
    "pycharm": {
     "name": "#%% md\n"
    },
    "slideshow": {
     "slide_type": ""
    },
    "tags": []
   },
   "source": [
    "**Boosting - podsumowanie**\n",
    "\n",
    "1. Model oparty o uczenie zespołowe.\n",
    "2. Kolejne modele są dodawane sekwencyjnie i uczą się na błędach poprzedników.\n",
    "3. Nauka typowo jest oparta o minimalizację funkcji kosztu (błędu), z użyciem spadku wzdłuż gradientu.\n",
    "4. Wiodący model klasyfikacji dla danych tabelarycznych, z 2 głównymi implementacjami: XGBoost i LightGBM.\n",
    "5. Liczne hiperparametry, wymagające odpowiednich metod dostrajania."
   ]
  },
  {
   "cell_type": "markdown",
   "metadata": {
    "editable": true,
    "pycharm": {
     "name": "#%% md\n"
    },
    "slideshow": {
     "slide_type": ""
    },
    "tags": []
   },
   "source": [
    "## Wyjaśnialna AI"
   ]
  },
  {
   "cell_type": "markdown",
   "metadata": {
    "editable": true,
    "pycharm": {
     "name": "#%% md\n"
    },
    "slideshow": {
     "slide_type": ""
    },
    "tags": []
   },
   "source": [
    "W ostatnich latach zaczęto zwracać coraz większą uwagę na wpływ sztucznej inteligencji na społeczeństwo, a na niektórych czołowych konferencjach ML nawet obowiązkowa jest sekcja \"Social impact\" w artykułach naukowych. Typowo im lepszy model, tym bardziej złożony, a najpopularniejsze modele boostingu są z natury skomplikowane. Kiedy mają podejmować krytyczne decyzje, to musimy wiedzieć, czemu predykcja jest taka, a nie inna. Jest to poddziedzina uczenia maszynowego - **wyjaśnialna AI (explainable AI, XAI)**.\n",
    "\n",
    "Taka informacja jest cenna, bo dzięki temu lepiej wiemy, co robi model. Jest to ważne z kilku powodów:\n",
    "1. Wymogi prawne - wdrażanie algorytmów w ekonomii, prawie etc. ma coraz częściej konkretne wymagania prawne co do wyjaśnialności predykcji.\n",
    "2. Dodatkowa wiedza dla użytkowników - często dodatkowe obserwacje co do próbek są ciekawe same w sobie i dają wiedzę użytkownikowi (często posiadającemu specjalistyczną wiedzę z dziedziny), czasem nawet bardziej niż sam model predykcyjny.\n",
    "3. Analiza modelu - dodatkowa wiedza o wewnętrznym działaniu algorytmu pozwala go lepiej zrozumieć i ulepszyć wyniki, np. przez lepszy preprocessing danych.\n",
    "\n",
    "W szczególności można ją podzielić na **globalną** oraz **lokalną interpretowalność (global / local interpretability)**. Ta pierwsza próbuje wyjaśnić, czemu ogólnie model działa tak, jak działa. Analizuje strukturę modelu oraz trendy w jego predykcjach, aby podsumować w prostszy sposób jego tok myślenia. Interpretowalność lokalna z kolei dotyczy predykcji dla konkretnych próbek - czemu dla danego przykładu model podejmuje dla niego taką, a nie inną decyzję o klasyfikacji.\n",
    "\n",
    "W szczególności podstawowym sposobem interpretowalności jest **ważność cech (feature importance)**. Wyznacza ona, jak ważne są poszczególne cechy:\n",
    "- w wariancie globalnym, jak mocno model opiera się na poszczególnych cechach,\n",
    "- w wariancie lokalnym, jak mocno konkretne wartości cech wpłynęły na predykcję, i w jaki sposób.\n",
    "\n",
    "Teraz będzie nas interesować globalna ważność cech. Dla modeli drzewiastych definiuje się ją bardzo prosto. Każdy podział w drzewie decyzyjnym wykorzystuje jakąś cechę i redukuje z pomocą podziału funkcję kosztu (np. entropię) o określoną ilość. Dla drzewa decyzyjnego ważność to sumaryczna redukcja entropii, jaką udało się uzyskać za pomocą danej cechy. Dla lasów losowych i boostingu sumujemy te wartości dla wszystkich drzew. Alternatywnie można też użyć liczby splitów, w jakiej została użyta dana cecha, ale jest to mniej standardowe.\n",
    "\n",
    "Warto zauważyć, że taka ważność cech jest **względna**:\n",
    "- nie mówimy, jak bardzo ogólnie ważna jest jakaś cecha, tylko jak bardzo przydatna była dla naszego modelu w celu jego wytrenowania,\n",
    "- ważność cech można tylko porównywać ze sobą, np. jedna jest 2 razy ważniejsza od drugiej; nie ma ogólnych progów ważności.\n",
    "\n",
    "Ze względu na powyższe, ważności cech normalizuje się często do zakresu [0, 1] dla łatwiejszego porównywania."
   ]
  },
  {
   "cell_type": "markdown",
   "metadata": {
    "editable": true,
    "slideshow": {
     "slide_type": ""
    },
    "tags": [
     "ex"
    ]
   },
   "source": [
    "### Zadanie 9 (0.5 punktu)"
   ]
  },
  {
   "cell_type": "markdown",
   "metadata": {
    "editable": true,
    "slideshow": {
     "slide_type": ""
    },
    "tags": [
     "ex"
    ]
   },
   "source": [
    "1. Wybierz 5 najważniejszych cech dla drzewa decyzyjnego. Przedstaw wyniki na poziomym wykresie słupkowym. Użyj czytelnych nazw cech ze zmiennej `feature_names`.\n",
    "2. Powtórz powyższe dla lasu losowego, oraz dla boostingu (tutaj znormalizuj wyniki - patrz uwaga niżej). Wybierz te hiperparametry, które dały wcześniej najlepsze wyniki.\n",
    "3. Skomentuj, czy wybrane cechy twoim zdaniem mają sens jako najważniejsze cechy.\n",
    "\n",
    "**Uwaga:** Scikit-learn normalizuje ważności do zakresu [0, 1], natomiast LightGBM nie. Musisz to znormalizować samodzielnie, dzieląc przez sumę."
   ]
  },
  {
   "cell_type": "code",
   "execution_count": 26,
   "metadata": {
    "editable": true,
    "execution": {
     "iopub.execute_input": "2024-10-23T17:27:50.019735Z",
     "iopub.status.busy": "2024-10-23T17:27:50.019605Z",
     "iopub.status.idle": "2024-10-23T17:27:50.022224Z",
     "shell.execute_reply": "2024-10-23T17:27:50.021759Z",
     "shell.execute_reply.started": "2024-10-23T17:27:50.019724Z"
    },
    "lines_to_next_cell": 2,
    "slideshow": {
     "slide_type": ""
    },
    "tags": [
     "ex"
    ]
   },
   "outputs": [],
   "source": [
    "# your_code"
   ]
  },
  {
   "cell_type": "markdown",
   "metadata": {
    "editable": true,
    "slideshow": {
     "slide_type": ""
    },
    "tags": [
     "ex"
    ]
   },
   "source": [
    "// skomentuj tutaj"
   ]
  },
  {
   "cell_type": "markdown",
   "metadata": {},
   "source": [
    "### Dla zainteresowanych\n",
    "\n",
    "Najpopularniejszym podejściem do interpretowalności lokalnych jest **SHAP (SHapley Additive exPlanations)**, metoda oparta o kooperatywną teorię gier. Traktuje się cechy modelu jak zbiór graczy, podzielonych na dwie drużyny (koalicje): jedna chce zaklasyfikować próbkę jako negatywną, a druga jako pozytywną. O ostatecznej decyzji decyduje model, który wykorzystuje te wartości cech. Powstaje pytanie - w jakim stopniu wartości cech przyczyniły się do wyniku swojej drużyny? Można to obliczyć jako wartości Shapleya (Shapley values), które dla modeli ML oblicza algorytm SHAP. Ma on bardzo znaczące, udowodnione matematycznie zalety, a dodatkowo posiada wyjątkowo efektywną implementację dla modeli drzewiastych oraz dobre wizualizacje.\n",
    "\n",
    "Bardzo intuicyjnie, na prostym przykładzie, SHAPa wyjaśnia [pierwsza część tego artykułu](https://iancovert.com/blog/understanding-shap-sage/). Dobrze i dość szczegółówo SHAPa wyjaśnia jego autor [w tym filmie](https://www.youtube.com/watch?v=-taOhqkiuIo)."
   ]
  },
  {
   "cell_type": "markdown",
   "metadata": {
    "pycharm": {
     "name": "#%% md\n"
    }
   },
   "source": [
    "**Wyjaśnialna AI - podsumowanie**\n",
    "\n",
    "1. Problem zrozumienia, jak wnioskuje model i czemu podejmuje określone decyzje.\n",
    "2. Ważne zarówno z perspektywy data badaczy danych, jak i użytkowników systemu.\n",
    "3. Można wyjaśniać model lokalnie (konkretne predykcje) lub globalnie (wpływ poszczególnych cech)."
   ]
  },
  {
   "cell_type": "markdown",
   "metadata": {
    "editable": true,
    "slideshow": {
     "slide_type": ""
    },
    "tags": [
     "ex"
    ]
   },
   "source": [
    "## Zadanie 10 dla chętnych (3 punkty)"
   ]
  },
  {
   "cell_type": "markdown",
   "metadata": {
    "editable": true,
    "pycharm": {
     "name": "#%% md\n"
    },
    "slideshow": {
     "slide_type": ""
    },
    "tags": [
     "ex"
    ]
   },
   "source": [
    "Dokonaj selekcji cech, usuwając 20% najsłabszych cech. Może się tu przydać klasa `SelectPercentile`. Czy Random Forest i LightGBM (bez dostrajania hiperparametrów, dla uproszczenia) wytrenowane bez najsłabszych cech dają lepszy wynik (AUROC lub innej metryki)?\n",
    "\n",
    "Wykorzystaj po 1 algorytmie z 3 grup algorytmów selekcji cech:\n",
    "1. Filter methods - mierzymy ważność każdej cechy niezależnie, za pomocą pewnej miary (typowo ze statystyki lub teorii informacji), a potem odrzucamy (filtrujemy) te o najniższej ważności. Są to np. `chi2` i `mutual_info_classif` z pakietu `sklearn.feature_selection`.\n",
    "2. Embedded methods - klasyfikator sam zwraca ważność cech, jest jego wbudowaną cechą (stąd nazwa). Jest to w szczególności właściwość wszystkich zespołowych klasyfikatorów drzewiastych. Mają po wytrenowaniu atrybut `feature_importances_`.\n",
    "2. Wrapper methods - algorytmy wykorzystujące w środku używany model (stąd nazwa), mierzące ważność cech za pomocą ich wpływu na jakość klasyfikatora. Jest to np. recursive feature elimination (klasa `RFE`). W tym algorytmie trenujemy klasyfikator na wszystkich cechach, wyrzucamy najsłabszą, trenujemy znowu i tak dalej.\n",
    "\n",
    "Typowo metody filter są najszybsze, ale dają najsłabszy wynik, natomiast metody wrapper są najwolniejsze i dają najlepszy wynik. Metody embedded są gdzieś pośrodku.\n",
    "\n",
    "Dla zainteresowanych, inne znane i bardzo dobre algorytmy:\n",
    "- Relief (filter method) oraz warianty, szczególnie ReliefF, SURF i MultiSURF (biblioteka `ReBATE`): [Wikipedia](https://en.wikipedia.org/wiki/Relief_(feature_selection)), [artykuł \"Benchmarking Relief-Based Feature Selection Methods\"](https://www.researchgate.net/publication/321307194_Benchmarking_Relief-Based_Feature_Selection_Methods)\n",
    "- Boruta (wrapper method), stworzony na Uniwersytecie Warszawskim, łączący Random Forest oraz testy statystyczne (biblioteka `boruta_py`): [link 1](https://towardsdatascience.com/boruta-explained-the-way-i-wish-someone-explained-it-to-me-4489d70e154a), [link 2](https://danielhomola.com/feature%20selection/phd/borutapy-an-all-relevant-feature-selection-method/)"
   ]
  },
  {
   "cell_type": "code",
   "execution_count": null,
   "metadata": {
    "editable": true,
    "pycharm": {
     "name": "#%%\n"
    },
    "slideshow": {
     "slide_type": ""
    },
    "tags": [
     "ex"
    ]
   },
   "outputs": [],
   "source": []
  }
 ],
 "metadata": {
  "jupytext": {
   "formats": "ipynb,py:percent"
  },
  "kernelspec": {
   "display_name": "Python 3 (ipykernel)",
   "language": "python",
   "name": "python3"
  },
  "language_info": {
   "codemirror_mode": {
    "name": "ipython",
    "version": 3
   },
   "file_extension": ".py",
   "mimetype": "text/x-python",
   "name": "python",
   "nbconvert_exporter": "python",
   "pygments_lexer": "ipython3",
   "version": "3.12.3"
  }
 },
 "nbformat": 4,
 "nbformat_minor": 4
}
